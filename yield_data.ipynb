{
  "nbformat": 4,
  "nbformat_minor": 0,
  "metadata": {
    "colab": {
      "name": "yield_data",
      "version": "0.3.2",
      "provenance": []
    },
    "kernelspec": {
      "name": "python3",
      "display_name": "Python 3"
    }
  },
  "cells": [
    {
      "metadata": {
        "id": "uvIxlTY-e86z",
        "colab_type": "code",
        "outputId": "2e83abef-9760-4208-d474-1b46317f7b70",
        "colab": {
          "base_uri": "https://localhost:8080/",
          "height": 219
        }
      },
      "cell_type": "code",
      "source": [
        "import pandas as pd\n",
        "import numpy as np\n",
        "import requests, json\n",
        "\n",
        "api_key = '70D413B2-0123-3524-9634-F730BE441009' \n",
        "\n",
        "#years used in study\n",
        "years = map(str,range(1981,2018))\n",
        "\n",
        "#https://quickstats.nass.usda.gov/api to request api and see the keys and values\n",
        "payload = {'key':api_key,\n",
        "          'source_desc':'SURVEY',\n",
        "          'sector_desc':'CROPS',\n",
        "          'commodity_desc':'CORN',\n",
        "           'prodn_practice_desc':'ALL PRODUCTION PRACTICES',\n",
        "          'statisticcat_desc':'YIELD',\n",
        "           'unit_desc':'BU / ACRE',\n",
        "          'agg_level_desc':'COUNTY',\n",
        "           'year':years,\n",
        "           'format':'JSON'}\n",
        "\n",
        "#states used in study\n",
        "states = ['IL','IN','IA','KS','KY','MI','MO','NE','OH','SD','WI']\n",
        "\n",
        "df_all = pd.DataFrame()\n",
        "\n",
        "#loop through payload with each state in states list\n",
        "#r.json() makes request (r) into a dictionary. json.dumps makes the dictionary into json file. Orient argument makes sure it is read correctly.\n",
        "for i in states:\n",
        "    payload['state_alpha'] = i \n",
        "    r = requests.get('http://quickstats.nass.usda.gov/api/api_GET/?key='+api_key, params = payload)\n",
        "    df = pd.read_json(json.dumps(r.json()),orient='split') \n",
        "    \n",
        "    df_trunc = df[['state_fips_code','county_name','county_code','year','Value']]\n",
        "    \n",
        "    df_all = pd.concat([df_all, df_trunc])\n",
        "    print(i)"
      ],
      "execution_count": 0,
      "outputs": [
        {
          "output_type": "stream",
          "text": [
            "IL\n",
            "IN\n",
            "IA\n",
            "KS\n",
            "KY\n",
            "MI\n",
            "MO\n",
            "NE\n",
            "OH\n",
            "SD\n",
            "WI\n"
          ],
          "name": "stdout"
        }
      ]
    },
    {
      "metadata": {
        "id": "LE0FXk_ffLnU",
        "colab_type": "code",
        "outputId": "49fe5265-e70e-4b6c-b5b7-63e488606a96",
        "colab": {
          "base_uri": "https://localhost:8080/",
          "height": 206
        }
      },
      "cell_type": "code",
      "source": [
        "#Rearrange columns. Preview df.\n",
        "df_all = df_all[['year','state_fips_code','county_name','county_code','Value']]\n",
        "df_all.head()\n"
      ],
      "execution_count": 4,
      "outputs": [
        {
          "output_type": "execute_result",
          "data": {
            "text/html": [
              "<div>\n",
              "<style scoped>\n",
              "    .dataframe tbody tr th:only-of-type {\n",
              "        vertical-align: middle;\n",
              "    }\n",
              "\n",
              "    .dataframe tbody tr th {\n",
              "        vertical-align: top;\n",
              "    }\n",
              "\n",
              "    .dataframe thead th {\n",
              "        text-align: right;\n",
              "    }\n",
              "</style>\n",
              "<table border=\"1\" class=\"dataframe\">\n",
              "  <thead>\n",
              "    <tr style=\"text-align: right;\">\n",
              "      <th></th>\n",
              "      <th>year</th>\n",
              "      <th>state_fips_code</th>\n",
              "      <th>county_name</th>\n",
              "      <th>county_code</th>\n",
              "      <th>Value</th>\n",
              "    </tr>\n",
              "  </thead>\n",
              "  <tbody>\n",
              "    <tr>\n",
              "      <th>0</th>\n",
              "      <td>2017</td>\n",
              "      <td>17</td>\n",
              "      <td>BUREAU</td>\n",
              "      <td>11</td>\n",
              "      <td>215.4</td>\n",
              "    </tr>\n",
              "    <tr>\n",
              "      <th>1</th>\n",
              "      <td>2016</td>\n",
              "      <td>17</td>\n",
              "      <td>BUREAU</td>\n",
              "      <td>11</td>\n",
              "      <td>203.9</td>\n",
              "    </tr>\n",
              "    <tr>\n",
              "      <th>2</th>\n",
              "      <td>2015</td>\n",
              "      <td>17</td>\n",
              "      <td>BUREAU</td>\n",
              "      <td>11</td>\n",
              "      <td>196.8</td>\n",
              "    </tr>\n",
              "    <tr>\n",
              "      <th>3</th>\n",
              "      <td>2014</td>\n",
              "      <td>17</td>\n",
              "      <td>BUREAU</td>\n",
              "      <td>11</td>\n",
              "      <td>196.0</td>\n",
              "    </tr>\n",
              "    <tr>\n",
              "      <th>4</th>\n",
              "      <td>2013</td>\n",
              "      <td>17</td>\n",
              "      <td>BUREAU</td>\n",
              "      <td>11</td>\n",
              "      <td>185.9</td>\n",
              "    </tr>\n",
              "  </tbody>\n",
              "</table>\n",
              "</div>"
            ],
            "text/plain": [
              "   year  state_fips_code county_name  county_code  Value\n",
              "0  2017               17      BUREAU           11  215.4\n",
              "1  2016               17      BUREAU           11  203.9\n",
              "2  2015               17      BUREAU           11  196.8\n",
              "3  2014               17      BUREAU           11  196.0\n",
              "4  2013               17      BUREAU           11  185.9"
            ]
          },
          "metadata": {
            "tags": []
          },
          "execution_count": 4
        }
      ]
    },
    {
      "metadata": {
        "id": "rZ7nHYblfqtv",
        "colab_type": "code",
        "colab": {}
      },
      "cell_type": "code",
      "source": [
        "#save to csv\n",
        "df_all.to_csv('yield_data.csv',index = False, header = False) #Save yield data as csv"
      ],
      "execution_count": 0,
      "outputs": []
    },
    {
      "metadata": {
        "id": "ragKEm7aj5Ai",
        "colab_type": "code",
        "colab": {}
      },
      "cell_type": "code",
      "source": [
        ""
      ],
      "execution_count": 0,
      "outputs": []
    }
  ]
}