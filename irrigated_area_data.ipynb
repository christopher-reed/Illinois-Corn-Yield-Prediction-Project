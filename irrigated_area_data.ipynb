{
  "nbformat": 4,
  "nbformat_minor": 0,
  "metadata": {
    "colab": {
      "name": "irrigated_area_data",
      "version": "0.3.2",
      "provenance": []
    },
    "kernelspec": {
      "name": "python3",
      "display_name": "Python 3"
    }
  },
  "cells": [
    {
      "metadata": {
        "id": "JlGeCa2aqzwQ",
        "colab_type": "code",
        "colab": {}
      },
      "cell_type": "code",
      "source": [
        "import pandas as pd\n",
        "import numpy as np\n",
        "import requests, json\n",
        "\n",
        "api_key = '70D413B2-0123-3524-9634-F730BE441009' \n",
        "\n",
        "#years used in study\n",
        "years = map(str,range(1981,2018))\n",
        "\n",
        "#states used in study\n",
        "states = ['IL','IN','IA','KS','KY','MI','MO','NE','OH','SD','WI']\n",
        "\n",
        "payload = {'key':api_key,\n",
        "          'source_desc':'CENSUS', \n",
        "           'sector_desc':'CROPS',\n",
        "           'group_desc':'FIELD CROPS',\n",
        "           'commodity_desc':'CORN', \n",
        "           'util_practice_desc':'GRAIN', \n",
        "           'unit_desc':'ACRES',\n",
        "           'statisticcat_desc':'AREA HARVESTED',\n",
        "           'domain_desc':'TOTAL',\n",
        "           'prodn_practice_desc':'IRRIGATED',\n",
        "           'agg_level_desc':'COUNTY', \n",
        "           'state_alpha':states,\n",
        "           'year':years,\n",
        "           'format':'JSON'}"
      ],
      "execution_count": 0,
      "outputs": []
    },
    {
      "metadata": {
        "id": "YUzmLSzTrN8J",
        "colab_type": "code",
        "colab": {}
      },
      "cell_type": "code",
      "source": [
        "r = requests.get('http://quickstats.nass.usda.gov/api/api_GET/?key='+api_key,params=payload)\n",
        "df = pd.read_json(json.dumps(r.json()),orient='split')"
      ],
      "execution_count": 0,
      "outputs": []
    },
    {
      "metadata": {
        "id": "u3Iwcq-trUIq",
        "colab_type": "code",
        "colab": {}
      },
      "cell_type": "code",
      "source": [
        "#truncate dow to columns of interest\n",
        "df_trunc = df[['state_fips_code','county_name','county_code','year','Value']]"
      ],
      "execution_count": 0,
      "outputs": []
    },
    {
      "metadata": {
        "id": "oUR8Gyy2rUNO",
        "colab_type": "code",
        "colab": {
          "base_uri": "https://localhost:8080/",
          "height": 35
        },
        "outputId": "5de6e334-845d-49c9-d328-1299d62169a6"
      },
      "cell_type": "code",
      "source": [
        "#find counties with missing data\n",
        "sum(df_trunc.Value.str.contains('D'))"
      ],
      "execution_count": 22,
      "outputs": [
        {
          "output_type": "execute_result",
          "data": {
            "text/plain": [
              "886"
            ]
          },
          "metadata": {
            "tags": []
          },
          "execution_count": 22
        }
      ]
    },
    {
      "metadata": {
        "id": "dBeg6Fw-rUPt",
        "colab_type": "code",
        "colab": {
          "base_uri": "https://localhost:8080/",
          "height": 35
        },
        "outputId": "2d6bd327-bcc9-420d-f6e7-8cec7a065185"
      },
      "cell_type": "code",
      "source": [
        "#find original diminensions of df_trunc\n",
        "#after removing problematic rows we expect 75 less rows than original\n",
        "df_trunc.shape"
      ],
      "execution_count": 23,
      "outputs": [
        {
          "output_type": "execute_result",
          "data": {
            "text/plain": [
              "(2747, 5)"
            ]
          },
          "metadata": {
            "tags": []
          },
          "execution_count": 23
        }
      ]
    },
    {
      "metadata": {
        "id": "ndTho8iosuOz",
        "colab_type": "code",
        "colab": {
          "base_uri": "https://localhost:8080/",
          "height": 206
        },
        "outputId": "5e74738d-2f7e-4821-f0ad-553531a51565"
      },
      "cell_type": "code",
      "source": [
        "#preview df_trunc\n",
        "df_trunc.head()"
      ],
      "execution_count": 24,
      "outputs": [
        {
          "output_type": "execute_result",
          "data": {
            "text/html": [
              "<div>\n",
              "<style scoped>\n",
              "    .dataframe tbody tr th:only-of-type {\n",
              "        vertical-align: middle;\n",
              "    }\n",
              "\n",
              "    .dataframe tbody tr th {\n",
              "        vertical-align: top;\n",
              "    }\n",
              "\n",
              "    .dataframe thead th {\n",
              "        text-align: right;\n",
              "    }\n",
              "</style>\n",
              "<table border=\"1\" class=\"dataframe\">\n",
              "  <thead>\n",
              "    <tr style=\"text-align: right;\">\n",
              "      <th></th>\n",
              "      <th>state_fips_code</th>\n",
              "      <th>county_name</th>\n",
              "      <th>county_code</th>\n",
              "      <th>year</th>\n",
              "      <th>Value</th>\n",
              "    </tr>\n",
              "  </thead>\n",
              "  <tbody>\n",
              "    <tr>\n",
              "      <th>0</th>\n",
              "      <td>17</td>\n",
              "      <td>BUREAU</td>\n",
              "      <td>11</td>\n",
              "      <td>2012</td>\n",
              "      <td>9,260</td>\n",
              "    </tr>\n",
              "    <tr>\n",
              "      <th>1</th>\n",
              "      <td>17</td>\n",
              "      <td>BUREAU</td>\n",
              "      <td>11</td>\n",
              "      <td>2007</td>\n",
              "      <td>9,036</td>\n",
              "    </tr>\n",
              "    <tr>\n",
              "      <th>2</th>\n",
              "      <td>17</td>\n",
              "      <td>BUREAU</td>\n",
              "      <td>11</td>\n",
              "      <td>2002</td>\n",
              "      <td>5,599</td>\n",
              "    </tr>\n",
              "    <tr>\n",
              "      <th>3</th>\n",
              "      <td>17</td>\n",
              "      <td>BUREAU</td>\n",
              "      <td>11</td>\n",
              "      <td>1997</td>\n",
              "      <td>3,655</td>\n",
              "    </tr>\n",
              "    <tr>\n",
              "      <th>4</th>\n",
              "      <td>17</td>\n",
              "      <td>CARROLL</td>\n",
              "      <td>15</td>\n",
              "      <td>2012</td>\n",
              "      <td>5,111</td>\n",
              "    </tr>\n",
              "  </tbody>\n",
              "</table>\n",
              "</div>"
            ],
            "text/plain": [
              "   state_fips_code county_name  county_code  year  Value\n",
              "0               17      BUREAU           11  2012  9,260\n",
              "1               17      BUREAU           11  2007  9,036\n",
              "2               17      BUREAU           11  2002  5,599\n",
              "3               17      BUREAU           11  1997  3,655\n",
              "4               17     CARROLL           15  2012  5,111"
            ]
          },
          "metadata": {
            "tags": []
          },
          "execution_count": 24
        }
      ]
    },
    {
      "metadata": {
        "id": "kIjtcuysrULx",
        "colab_type": "code",
        "colab": {
          "base_uri": "https://localhost:8080/",
          "height": 35
        },
        "outputId": "9e69e4fa-fd17-44b2-ded8-5bfefbfc5e3d"
      },
      "cell_type": "code",
      "source": [
        "#remove rows that contain 'D' which is the usda marking for no data.\n",
        "#.contains returns true for columns that contain 'D', then ~ negates it so we can later on only extract the true columns\n",
        "\n",
        "df_trunc = df_trunc[~df_trunc.Value.str.contains('D')]\n",
        "df_trunc.shape"
      ],
      "execution_count": 25,
      "outputs": [
        {
          "output_type": "execute_result",
          "data": {
            "text/plain": [
              "(1861, 5)"
            ]
          },
          "metadata": {
            "tags": []
          },
          "execution_count": 25
        }
      ]
    },
    {
      "metadata": {
        "id": "93jy3xUxsurq",
        "colab_type": "code",
        "colab": {}
      },
      "cell_type": "code",
      "source": [
        "#save as csv\n",
        "df_trunc.to_csv('irrigated_area.csv',header=False, index = False)"
      ],
      "execution_count": 0,
      "outputs": []
    }
  ]
}