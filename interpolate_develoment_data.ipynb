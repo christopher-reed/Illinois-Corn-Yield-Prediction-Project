{
  "nbformat": 4,
  "nbformat_minor": 0,
  "metadata": {
    "colab": {
      "name": "interpolate develoment data",
      "version": "0.3.2",
      "provenance": [],
      "collapsed_sections": []
    },
    "kernelspec": {
      "name": "python3",
      "display_name": "Python 3"
    }
  },
  "cells": [
    {
      "metadata": {
        "id": "Ejeu3_ffa4s7",
        "colab_type": "code",
        "colab": {}
      },
      "cell_type": "code",
      "source": [
        "import pandas as pd\n",
        "import numpy as np\n",
        "import requests, json\n",
        "\n",
        "api_key = '70D413B2-0123-3524-9634-F730BE441009' \n",
        "\n",
        "#years used in study\n",
        "years = map(str,range(1981,2018))\n",
        "\n",
        "#states used in study\n",
        "states = ['IL','IN','IA','KS','KY','MI','MO','NE','OH','SD','WI']\n",
        "\n",
        "payload = {'key':api_key,\n",
        "          'source_desc':'SURVEY', \n",
        "           'sector_desc':'CROPS',\n",
        "           'group_desc':'FIELD CROPS',\n",
        "           'commodity_desc':'CORN', \n",
        "           'util_practice_desc':'ALL UTILIZATION PRACTICES', \n",
        "           'statisticcat_desc':'PROGRESS',\n",
        "           'domain_desc':'TOTAL', \n",
        "           'state_alpha':states,\n",
        "           'year':years,\n",
        "           'format':'JSON'}\n",
        "\n",
        "#disable copy of slice warning\n",
        "pd.options.mode.chained_assignment = None  # default='warn'"
      ],
      "execution_count": 0,
      "outputs": []
    },
    {
      "metadata": {
        "id": "sW--hIxAa8Ml",
        "colab_type": "code",
        "colab": {}
      },
      "cell_type": "code",
      "source": [
        "#df will contain Dented, Dough, Emerged, Mature, Planted, Silking\n",
        "r = requests.get('http://quickstats.nass.usda.gov/api/api_GET/?key='+api_key,params=payload)\n",
        "df = pd.read_json(json.dumps(r.json()),orient='split')"
      ],
      "execution_count": 0,
      "outputs": []
    },
    {
      "metadata": {
        "id": "8Z8WmWZLa9Dk",
        "colab_type": "code",
        "colab": {}
      },
      "cell_type": "code",
      "source": [
        "#Still need harvested phase so change payload to grain which will allow us to access it\n",
        "payload['util_practice_desc'] = 'GRAIN'\n",
        "r = requests.get('http://quickstats.nass.usda.gov/api/api_GET/?key='+api_key,params=payload)\n",
        "dfG = pd.read_json(json.dumps(r.json()),orient='split')"
      ],
      "execution_count": 0,
      "outputs": []
    },
    {
      "metadata": {
        "id": "KUokCamjbQZD",
        "colab_type": "code",
        "outputId": "659b3396-f02e-443b-9c07-6ac454127e36",
        "colab": {
          "base_uri": "https://localhost:8080/",
          "height": 207
        }
      },
      "cell_type": "code",
      "source": [
        "#concatenate the two dataframes together because dfG contains that percent harvested while df contains all other phases\n",
        "#save the raw data incase the gov't shuts down...\n",
        "df = pd.concat([df,dfG])\n",
        "df.to_excel('progress_data_raw.xlsx')\n",
        "df.to_csv('progress_data_raw.csv')"
      ],
      "execution_count": 0,
      "outputs": [
        {
          "output_type": "error",
          "ename": "NameError",
          "evalue": "ignored",
          "traceback": [
            "\u001b[0;31m---------------------------------------------------------------------------\u001b[0m",
            "\u001b[0;31mNameError\u001b[0m                                 Traceback (most recent call last)",
            "\u001b[0;32m<ipython-input-2-968ed9c6f127>\u001b[0m in \u001b[0;36m<module>\u001b[0;34m()\u001b[0m\n\u001b[0;32m----> 1\u001b[0;31m \u001b[0mdf\u001b[0m \u001b[0;34m=\u001b[0m \u001b[0mpd\u001b[0m\u001b[0;34m.\u001b[0m\u001b[0mconcat\u001b[0m\u001b[0;34m(\u001b[0m\u001b[0;34m[\u001b[0m\u001b[0mdf\u001b[0m\u001b[0;34m,\u001b[0m\u001b[0mdfG\u001b[0m\u001b[0;34m]\u001b[0m\u001b[0;34m)\u001b[0m\u001b[0;34m\u001b[0m\u001b[0;34m\u001b[0m\u001b[0m\n\u001b[0m\u001b[1;32m      2\u001b[0m \u001b[0mdf\u001b[0m\u001b[0;34m.\u001b[0m\u001b[0mto_excel\u001b[0m\u001b[0;34m(\u001b[0m\u001b[0;34m'progress_data_raw.xlsx'\u001b[0m\u001b[0;34m)\u001b[0m\u001b[0;34m\u001b[0m\u001b[0;34m\u001b[0m\u001b[0m\n\u001b[1;32m      3\u001b[0m \u001b[0mdf\u001b[0m\u001b[0;34m.\u001b[0m\u001b[0mto_csv\u001b[0m\u001b[0;34m(\u001b[0m\u001b[0;34m'progress_data_raw.csv'\u001b[0m\u001b[0;34m)\u001b[0m\u001b[0;34m\u001b[0m\u001b[0;34m\u001b[0m\u001b[0m\n",
            "\u001b[0;31mNameError\u001b[0m: name 'df' is not defined"
          ]
        }
      ]
    },
    {
      "metadata": {
        "id": "dkjDm8ZMIicV",
        "colab_type": "code",
        "colab": {}
      },
      "cell_type": "code",
      "source": [
        "#use the saved csv\n",
        "df = pd.read_csv('progress_data_raw.csv')"
      ],
      "execution_count": 0,
      "outputs": []
    },
    {
      "metadata": {
        "id": "UGMS-5HUj55c",
        "colab_type": "code",
        "colab": {}
      },
      "cell_type": "code",
      "source": [
        "#Select state and phase\n",
        "df = df[df.state_name == 'ILLINOIS']\n",
        "pl = df['unit_desc'] == 'PCT PLANTED'\n",
        "dfp = df[['week_ending','Value']][pl]"
      ],
      "execution_count": 0,
      "outputs": []
    },
    {
      "metadata": {
        "id": "qewXqpzkoODO",
        "colab_type": "code",
        "outputId": "fb4c8f50-e48a-41e0-f93e-baacc88dd907",
        "colab": {
          "base_uri": "https://localhost:8080/",
          "height": 363
        }
      },
      "cell_type": "code",
      "source": [
        "#This is what unedited df looks like. Dates and values only once per week. Want to change this so have a value every day of the week.\n",
        "dfp.head(10)"
      ],
      "execution_count": 0,
      "outputs": [
        {
          "output_type": "execute_result",
          "data": {
            "text/html": [
              "<div>\n",
              "<style scoped>\n",
              "    .dataframe tbody tr th:only-of-type {\n",
              "        vertical-align: middle;\n",
              "    }\n",
              "\n",
              "    .dataframe tbody tr th {\n",
              "        vertical-align: top;\n",
              "    }\n",
              "\n",
              "    .dataframe thead th {\n",
              "        text-align: right;\n",
              "    }\n",
              "</style>\n",
              "<table border=\"1\" class=\"dataframe\">\n",
              "  <thead>\n",
              "    <tr style=\"text-align: right;\">\n",
              "      <th></th>\n",
              "      <th>week_ending</th>\n",
              "      <th>Value</th>\n",
              "    </tr>\n",
              "  </thead>\n",
              "  <tbody>\n",
              "    <tr>\n",
              "      <th>11182</th>\n",
              "      <td>2018-04-01</td>\n",
              "      <td>0</td>\n",
              "    </tr>\n",
              "    <tr>\n",
              "      <th>11183</th>\n",
              "      <td>2018-04-08</td>\n",
              "      <td>0</td>\n",
              "    </tr>\n",
              "    <tr>\n",
              "      <th>11184</th>\n",
              "      <td>2018-04-15</td>\n",
              "      <td>0</td>\n",
              "    </tr>\n",
              "    <tr>\n",
              "      <th>11185</th>\n",
              "      <td>2018-04-22</td>\n",
              "      <td>4</td>\n",
              "    </tr>\n",
              "    <tr>\n",
              "      <th>11186</th>\n",
              "      <td>2018-04-29</td>\n",
              "      <td>32</td>\n",
              "    </tr>\n",
              "    <tr>\n",
              "      <th>11187</th>\n",
              "      <td>2018-05-06</td>\n",
              "      <td>74</td>\n",
              "    </tr>\n",
              "    <tr>\n",
              "      <th>11188</th>\n",
              "      <td>2018-05-13</td>\n",
              "      <td>90</td>\n",
              "    </tr>\n",
              "    <tr>\n",
              "      <th>11189</th>\n",
              "      <td>2018-05-20</td>\n",
              "      <td>96</td>\n",
              "    </tr>\n",
              "    <tr>\n",
              "      <th>11190</th>\n",
              "      <td>2018-05-27</td>\n",
              "      <td>100</td>\n",
              "    </tr>\n",
              "    <tr>\n",
              "      <th>11191</th>\n",
              "      <td>2018-06-03</td>\n",
              "      <td>100</td>\n",
              "    </tr>\n",
              "  </tbody>\n",
              "</table>\n",
              "</div>"
            ],
            "text/plain": [
              "      week_ending  Value\n",
              "11182  2018-04-01      0\n",
              "11183  2018-04-08      0\n",
              "11184  2018-04-15      0\n",
              "11185  2018-04-22      4\n",
              "11186  2018-04-29     32\n",
              "11187  2018-05-06     74\n",
              "11188  2018-05-13     90\n",
              "11189  2018-05-20     96\n",
              "11190  2018-05-27    100\n",
              "11191  2018-06-03    100"
            ]
          },
          "metadata": {
            "tags": []
          },
          "execution_count": 7
        }
      ]
    },
    {
      "metadata": {
        "id": "FEWve1IE4BaK",
        "colab_type": "code",
        "outputId": "449f713b-b9b2-44c7-d8b8-3e1cf75e7bea",
        "colab": {
          "base_uri": "https://localhost:8080/",
          "height": 81
        }
      },
      "cell_type": "code",
      "source": [
        "#sanity check to see if picked out state and phase correctly. should return only one value.\n",
        "dfp[dfp.week_ending == '2017-04-09']"
      ],
      "execution_count": 0,
      "outputs": [
        {
          "output_type": "execute_result",
          "data": {
            "text/html": [
              "<div>\n",
              "<style scoped>\n",
              "    .dataframe tbody tr th:only-of-type {\n",
              "        vertical-align: middle;\n",
              "    }\n",
              "\n",
              "    .dataframe tbody tr th {\n",
              "        vertical-align: top;\n",
              "    }\n",
              "\n",
              "    .dataframe thead th {\n",
              "        text-align: right;\n",
              "    }\n",
              "</style>\n",
              "<table border=\"1\" class=\"dataframe\">\n",
              "  <thead>\n",
              "    <tr style=\"text-align: right;\">\n",
              "      <th></th>\n",
              "      <th>week_ending</th>\n",
              "      <th>Value</th>\n",
              "    </tr>\n",
              "  </thead>\n",
              "  <tbody>\n",
              "    <tr>\n",
              "      <th>11193</th>\n",
              "      <td>2017-04-09</td>\n",
              "      <td>1</td>\n",
              "    </tr>\n",
              "  </tbody>\n",
              "</table>\n",
              "</div>"
            ],
            "text/plain": [
              "      week_ending  Value\n",
              "11193  2017-04-09      1"
            ]
          },
          "metadata": {
            "tags": []
          },
          "execution_count": 8
        }
      ]
    },
    {
      "metadata": {
        "id": "sfzLBlOYlIeX",
        "colab_type": "code",
        "outputId": "2e7b849b-b399-4f9a-d0cd-13146de673f2",
        "colab": {
          "base_uri": "https://localhost:8080/",
          "height": 394
        }
      },
      "cell_type": "code",
      "source": [
        "#convert week_ending column to datetime format. set year to index.\n",
        "dfp.week_ending = pd.to_datetime(dfp.week_ending, format = '%Y-%m-%d')\n",
        "dfp.set_index('week_ending', inplace = True)\n",
        "dfp.head(10)"
      ],
      "execution_count": 0,
      "outputs": [
        {
          "output_type": "execute_result",
          "data": {
            "text/html": [
              "<div>\n",
              "<style scoped>\n",
              "    .dataframe tbody tr th:only-of-type {\n",
              "        vertical-align: middle;\n",
              "    }\n",
              "\n",
              "    .dataframe tbody tr th {\n",
              "        vertical-align: top;\n",
              "    }\n",
              "\n",
              "    .dataframe thead th {\n",
              "        text-align: right;\n",
              "    }\n",
              "</style>\n",
              "<table border=\"1\" class=\"dataframe\">\n",
              "  <thead>\n",
              "    <tr style=\"text-align: right;\">\n",
              "      <th></th>\n",
              "      <th>Value</th>\n",
              "    </tr>\n",
              "    <tr>\n",
              "      <th>week_ending</th>\n",
              "      <th></th>\n",
              "    </tr>\n",
              "  </thead>\n",
              "  <tbody>\n",
              "    <tr>\n",
              "      <th>2018-04-01</th>\n",
              "      <td>0</td>\n",
              "    </tr>\n",
              "    <tr>\n",
              "      <th>2018-04-08</th>\n",
              "      <td>0</td>\n",
              "    </tr>\n",
              "    <tr>\n",
              "      <th>2018-04-15</th>\n",
              "      <td>0</td>\n",
              "    </tr>\n",
              "    <tr>\n",
              "      <th>2018-04-22</th>\n",
              "      <td>4</td>\n",
              "    </tr>\n",
              "    <tr>\n",
              "      <th>2018-04-29</th>\n",
              "      <td>32</td>\n",
              "    </tr>\n",
              "    <tr>\n",
              "      <th>2018-05-06</th>\n",
              "      <td>74</td>\n",
              "    </tr>\n",
              "    <tr>\n",
              "      <th>2018-05-13</th>\n",
              "      <td>90</td>\n",
              "    </tr>\n",
              "    <tr>\n",
              "      <th>2018-05-20</th>\n",
              "      <td>96</td>\n",
              "    </tr>\n",
              "    <tr>\n",
              "      <th>2018-05-27</th>\n",
              "      <td>100</td>\n",
              "    </tr>\n",
              "    <tr>\n",
              "      <th>2018-06-03</th>\n",
              "      <td>100</td>\n",
              "    </tr>\n",
              "  </tbody>\n",
              "</table>\n",
              "</div>"
            ],
            "text/plain": [
              "             Value\n",
              "week_ending       \n",
              "2018-04-01       0\n",
              "2018-04-08       0\n",
              "2018-04-15       0\n",
              "2018-04-22       4\n",
              "2018-04-29      32\n",
              "2018-05-06      74\n",
              "2018-05-13      90\n",
              "2018-05-20      96\n",
              "2018-05-27     100\n",
              "2018-06-03     100"
            ]
          },
          "metadata": {
            "tags": []
          },
          "execution_count": 9
        }
      ]
    },
    {
      "metadata": {
        "id": "jQihJUufMBNh",
        "colab_type": "code",
        "outputId": "76e43dda-b31e-41ac-8ac3-bd095b15f330",
        "colab": {
          "base_uri": "https://localhost:8080/",
          "height": 206
        }
      },
      "cell_type": "code",
      "source": [
        "#need to extend date range so it runs from 01-01-1981 to 12-31-2017 and has daily points not weekly.\n",
        "\n",
        "ix = pd.date_range(start= '01-01-1981', end = '12-31-2017', freq = 'D')\n",
        "dfp = dfp.reindex(ix)\n",
        "\n",
        "dfp.head()"
      ],
      "execution_count": 0,
      "outputs": [
        {
          "output_type": "execute_result",
          "data": {
            "text/html": [
              "<div>\n",
              "<style scoped>\n",
              "    .dataframe tbody tr th:only-of-type {\n",
              "        vertical-align: middle;\n",
              "    }\n",
              "\n",
              "    .dataframe tbody tr th {\n",
              "        vertical-align: top;\n",
              "    }\n",
              "\n",
              "    .dataframe thead th {\n",
              "        text-align: right;\n",
              "    }\n",
              "</style>\n",
              "<table border=\"1\" class=\"dataframe\">\n",
              "  <thead>\n",
              "    <tr style=\"text-align: right;\">\n",
              "      <th></th>\n",
              "      <th>Value</th>\n",
              "    </tr>\n",
              "  </thead>\n",
              "  <tbody>\n",
              "    <tr>\n",
              "      <th>1981-01-01</th>\n",
              "      <td>NaN</td>\n",
              "    </tr>\n",
              "    <tr>\n",
              "      <th>1981-01-02</th>\n",
              "      <td>NaN</td>\n",
              "    </tr>\n",
              "    <tr>\n",
              "      <th>1981-01-03</th>\n",
              "      <td>NaN</td>\n",
              "    </tr>\n",
              "    <tr>\n",
              "      <th>1981-01-04</th>\n",
              "      <td>NaN</td>\n",
              "    </tr>\n",
              "    <tr>\n",
              "      <th>1981-01-05</th>\n",
              "      <td>NaN</td>\n",
              "    </tr>\n",
              "  </tbody>\n",
              "</table>\n",
              "</div>"
            ],
            "text/plain": [
              "            Value\n",
              "1981-01-01    NaN\n",
              "1981-01-02    NaN\n",
              "1981-01-03    NaN\n",
              "1981-01-04    NaN\n",
              "1981-01-05    NaN"
            ]
          },
          "metadata": {
            "tags": []
          },
          "execution_count": 25
        }
      ]
    },
    {
      "metadata": {
        "id": "knaBe4YcmgOo",
        "colab_type": "code",
        "outputId": "123f883a-8a24-461f-c11e-eb12ec1657dd",
        "colab": {
          "base_uri": "https://localhost:8080/",
          "height": 206
        }
      },
      "cell_type": "code",
      "source": [
        "#locate a specific year\n",
        "#assume 0% progress at start of each year for each phase and 100% progress at end of each year for each phase\n",
        "df_2017 = dfp.loc['2017']\n",
        "df_2017.iloc[0,0] = 0\n",
        "df_2017.iloc[-1] = 100\n",
        "df_2017.head()"
      ],
      "execution_count": 0,
      "outputs": [
        {
          "output_type": "execute_result",
          "data": {
            "text/html": [
              "<div>\n",
              "<style scoped>\n",
              "    .dataframe tbody tr th:only-of-type {\n",
              "        vertical-align: middle;\n",
              "    }\n",
              "\n",
              "    .dataframe tbody tr th {\n",
              "        vertical-align: top;\n",
              "    }\n",
              "\n",
              "    .dataframe thead th {\n",
              "        text-align: right;\n",
              "    }\n",
              "</style>\n",
              "<table border=\"1\" class=\"dataframe\">\n",
              "  <thead>\n",
              "    <tr style=\"text-align: right;\">\n",
              "      <th></th>\n",
              "      <th>Value</th>\n",
              "    </tr>\n",
              "  </thead>\n",
              "  <tbody>\n",
              "    <tr>\n",
              "      <th>2017-01-01</th>\n",
              "      <td>0.0</td>\n",
              "    </tr>\n",
              "    <tr>\n",
              "      <th>2017-01-02</th>\n",
              "      <td>NaN</td>\n",
              "    </tr>\n",
              "    <tr>\n",
              "      <th>2017-01-03</th>\n",
              "      <td>NaN</td>\n",
              "    </tr>\n",
              "    <tr>\n",
              "      <th>2017-01-04</th>\n",
              "      <td>NaN</td>\n",
              "    </tr>\n",
              "    <tr>\n",
              "      <th>2017-01-05</th>\n",
              "      <td>NaN</td>\n",
              "    </tr>\n",
              "  </tbody>\n",
              "</table>\n",
              "</div>"
            ],
            "text/plain": [
              "            Value\n",
              "2017-01-01    0.0\n",
              "2017-01-02    NaN\n",
              "2017-01-03    NaN\n",
              "2017-01-04    NaN\n",
              "2017-01-05    NaN"
            ]
          },
          "metadata": {
            "tags": []
          },
          "execution_count": 24
        }
      ]
    },
    {
      "metadata": {
        "id": "fPFROap44rLP",
        "colab_type": "code",
        "colab": {}
      },
      "cell_type": "code",
      "source": [
        "#will not work because I have NaN values \n",
        "#df_2017.plot()"
      ],
      "execution_count": 0,
      "outputs": []
    },
    {
      "metadata": {
        "id": "7vtxiZ3F1N0J",
        "colab_type": "code",
        "outputId": "e4f116f8-3900-4f04-eb2d-c08f1df50585",
        "colab": {
          "base_uri": "https://localhost:8080/",
          "height": 300
        }
      },
      "cell_type": "code",
      "source": [
        "df_2017.loc['2017-04-09':'2017-04-16']"
      ],
      "execution_count": 0,
      "outputs": [
        {
          "output_type": "execute_result",
          "data": {
            "text/html": [
              "<div>\n",
              "<style scoped>\n",
              "    .dataframe tbody tr th:only-of-type {\n",
              "        vertical-align: middle;\n",
              "    }\n",
              "\n",
              "    .dataframe tbody tr th {\n",
              "        vertical-align: top;\n",
              "    }\n",
              "\n",
              "    .dataframe thead th {\n",
              "        text-align: right;\n",
              "    }\n",
              "</style>\n",
              "<table border=\"1\" class=\"dataframe\">\n",
              "  <thead>\n",
              "    <tr style=\"text-align: right;\">\n",
              "      <th></th>\n",
              "      <th>Value</th>\n",
              "    </tr>\n",
              "  </thead>\n",
              "  <tbody>\n",
              "    <tr>\n",
              "      <th>2017-04-09</th>\n",
              "      <td>1.0</td>\n",
              "    </tr>\n",
              "    <tr>\n",
              "      <th>2017-04-10</th>\n",
              "      <td>NaN</td>\n",
              "    </tr>\n",
              "    <tr>\n",
              "      <th>2017-04-11</th>\n",
              "      <td>NaN</td>\n",
              "    </tr>\n",
              "    <tr>\n",
              "      <th>2017-04-12</th>\n",
              "      <td>NaN</td>\n",
              "    </tr>\n",
              "    <tr>\n",
              "      <th>2017-04-13</th>\n",
              "      <td>NaN</td>\n",
              "    </tr>\n",
              "    <tr>\n",
              "      <th>2017-04-14</th>\n",
              "      <td>NaN</td>\n",
              "    </tr>\n",
              "    <tr>\n",
              "      <th>2017-04-15</th>\n",
              "      <td>NaN</td>\n",
              "    </tr>\n",
              "    <tr>\n",
              "      <th>2017-04-16</th>\n",
              "      <td>6.0</td>\n",
              "    </tr>\n",
              "  </tbody>\n",
              "</table>\n",
              "</div>"
            ],
            "text/plain": [
              "            Value\n",
              "2017-04-09    1.0\n",
              "2017-04-10    NaN\n",
              "2017-04-11    NaN\n",
              "2017-04-12    NaN\n",
              "2017-04-13    NaN\n",
              "2017-04-14    NaN\n",
              "2017-04-15    NaN\n",
              "2017-04-16    6.0"
            ]
          },
          "metadata": {
            "tags": []
          },
          "execution_count": 17
        }
      ]
    },
    {
      "metadata": {
        "id": "gnpjuqwB6iIs",
        "colab_type": "code",
        "outputId": "f4c05ad5-29b9-4244-8e83-56d50d7340a0",
        "colab": {
          "base_uri": "https://localhost:8080/",
          "height": 767
        }
      },
      "cell_type": "code",
      "source": [
        "#resample to ensure  we now have daily data ('D'). should see a lot of NaN because still need to interpolate Value column\n",
        "resampled_dfp = df_2017.resample('D')\n",
        "resampled_dfp.head(20)"
      ],
      "execution_count": 0,
      "outputs": [
        {
          "output_type": "stream",
          "text": [
            "/usr/local/lib/python3.6/dist-packages/ipykernel_launcher.py:2: FutureWarning: \n",
            ".resample() is now a deferred operation\n",
            "You called head(...) on this deferred object which materialized it into a dataframe\n",
            "by implicitly taking the mean.  Use .resample(...).mean() instead\n",
            "  \n"
          ],
          "name": "stderr"
        },
        {
          "output_type": "execute_result",
          "data": {
            "text/html": [
              "<div>\n",
              "<style scoped>\n",
              "    .dataframe tbody tr th:only-of-type {\n",
              "        vertical-align: middle;\n",
              "    }\n",
              "\n",
              "    .dataframe tbody tr th {\n",
              "        vertical-align: top;\n",
              "    }\n",
              "\n",
              "    .dataframe thead th {\n",
              "        text-align: right;\n",
              "    }\n",
              "</style>\n",
              "<table border=\"1\" class=\"dataframe\">\n",
              "  <thead>\n",
              "    <tr style=\"text-align: right;\">\n",
              "      <th></th>\n",
              "      <th>Value</th>\n",
              "    </tr>\n",
              "  </thead>\n",
              "  <tbody>\n",
              "    <tr>\n",
              "      <th>2017-01-01</th>\n",
              "      <td>0.0</td>\n",
              "    </tr>\n",
              "    <tr>\n",
              "      <th>2017-01-02</th>\n",
              "      <td>NaN</td>\n",
              "    </tr>\n",
              "    <tr>\n",
              "      <th>2017-01-03</th>\n",
              "      <td>NaN</td>\n",
              "    </tr>\n",
              "    <tr>\n",
              "      <th>2017-01-04</th>\n",
              "      <td>NaN</td>\n",
              "    </tr>\n",
              "    <tr>\n",
              "      <th>2017-01-05</th>\n",
              "      <td>NaN</td>\n",
              "    </tr>\n",
              "    <tr>\n",
              "      <th>2017-01-06</th>\n",
              "      <td>NaN</td>\n",
              "    </tr>\n",
              "    <tr>\n",
              "      <th>2017-01-07</th>\n",
              "      <td>NaN</td>\n",
              "    </tr>\n",
              "    <tr>\n",
              "      <th>2017-01-08</th>\n",
              "      <td>NaN</td>\n",
              "    </tr>\n",
              "    <tr>\n",
              "      <th>2017-01-09</th>\n",
              "      <td>NaN</td>\n",
              "    </tr>\n",
              "    <tr>\n",
              "      <th>2017-01-10</th>\n",
              "      <td>NaN</td>\n",
              "    </tr>\n",
              "    <tr>\n",
              "      <th>2017-01-11</th>\n",
              "      <td>NaN</td>\n",
              "    </tr>\n",
              "    <tr>\n",
              "      <th>2017-01-12</th>\n",
              "      <td>NaN</td>\n",
              "    </tr>\n",
              "    <tr>\n",
              "      <th>2017-01-13</th>\n",
              "      <td>NaN</td>\n",
              "    </tr>\n",
              "    <tr>\n",
              "      <th>2017-01-14</th>\n",
              "      <td>NaN</td>\n",
              "    </tr>\n",
              "    <tr>\n",
              "      <th>2017-01-15</th>\n",
              "      <td>NaN</td>\n",
              "    </tr>\n",
              "    <tr>\n",
              "      <th>2017-01-16</th>\n",
              "      <td>NaN</td>\n",
              "    </tr>\n",
              "    <tr>\n",
              "      <th>2017-01-17</th>\n",
              "      <td>NaN</td>\n",
              "    </tr>\n",
              "    <tr>\n",
              "      <th>2017-01-18</th>\n",
              "      <td>NaN</td>\n",
              "    </tr>\n",
              "    <tr>\n",
              "      <th>2017-01-19</th>\n",
              "      <td>NaN</td>\n",
              "    </tr>\n",
              "    <tr>\n",
              "      <th>2017-01-20</th>\n",
              "      <td>NaN</td>\n",
              "    </tr>\n",
              "  </tbody>\n",
              "</table>\n",
              "</div>"
            ],
            "text/plain": [
              "            Value\n",
              "2017-01-01    0.0\n",
              "2017-01-02    NaN\n",
              "2017-01-03    NaN\n",
              "2017-01-04    NaN\n",
              "2017-01-05    NaN\n",
              "2017-01-06    NaN\n",
              "2017-01-07    NaN\n",
              "2017-01-08    NaN\n",
              "2017-01-09    NaN\n",
              "2017-01-10    NaN\n",
              "2017-01-11    NaN\n",
              "2017-01-12    NaN\n",
              "2017-01-13    NaN\n",
              "2017-01-14    NaN\n",
              "2017-01-15    NaN\n",
              "2017-01-16    NaN\n",
              "2017-01-17    NaN\n",
              "2017-01-18    NaN\n",
              "2017-01-19    NaN\n",
              "2017-01-20    NaN"
            ]
          },
          "metadata": {
            "tags": []
          },
          "execution_count": 21
        }
      ]
    },
    {
      "metadata": {
        "id": "YeIfUDg07CfS",
        "colab_type": "code",
        "outputId": "8142dced-69f8-4f61-b423-071aa3c0fef7",
        "colab": {
          "base_uri": "https://localhost:8080/",
          "height": 399
        }
      },
      "cell_type": "code",
      "source": [
        "#use linear interpolation to get daily Values\n",
        "interpolated = resampled_dfp.interpolate(method = 'linear')\n",
        "print(interpolated.head(20))"
      ],
      "execution_count": 0,
      "outputs": [
        {
          "output_type": "stream",
          "text": [
            "               Value\n",
            "2017-01-01  0.000000\n",
            "2017-01-02  0.010204\n",
            "2017-01-03  0.020408\n",
            "2017-01-04  0.030612\n",
            "2017-01-05  0.040816\n",
            "2017-01-06  0.051020\n",
            "2017-01-07  0.061224\n",
            "2017-01-08  0.071429\n",
            "2017-01-09  0.081633\n",
            "2017-01-10  0.091837\n",
            "2017-01-11  0.102041\n",
            "2017-01-12  0.112245\n",
            "2017-01-13  0.122449\n",
            "2017-01-14  0.132653\n",
            "2017-01-15  0.142857\n",
            "2017-01-16  0.153061\n",
            "2017-01-17  0.163265\n",
            "2017-01-18  0.173469\n",
            "2017-01-19  0.183673\n",
            "2017-01-20  0.193878\n"
          ],
          "name": "stdout"
        }
      ]
    },
    {
      "metadata": {
        "id": "dQsBSeCU2BsP",
        "colab_type": "code",
        "outputId": "c91a4210-8138-4809-8229-6da055d34d56",
        "colab": {
          "base_uri": "https://localhost:8080/",
          "height": 376
        }
      },
      "cell_type": "code",
      "source": [
        "#visualize 2017 percent planted data\n",
        "interpolated.plot()"
      ],
      "execution_count": 0,
      "outputs": [
        {
          "output_type": "execute_result",
          "data": {
            "text/plain": [
              "<matplotlib.axes._subplots.AxesSubplot at 0x7f8453e38630>"
            ]
          },
          "metadata": {
            "tags": []
          },
          "execution_count": 23
        },
        {
          "output_type": "display_data",
          "data": {
            "image/png": "[encoded data removed]",
            "text/plain": [
              "<Figure size 576x396 with 1 Axes>"
            ]
          },
          "metadata": {
            "tags": []
          }
        }
      ]
    },
    {
      "metadata": {
        "id": "HlOuSlsBJrB8",
        "colab_type": "code",
        "colab": {}
      },
      "cell_type": "code",
      "source": [
        "#Now we need to figure out how to do this for EVERY YEAR in a specific phase in Illinois"
      ],
      "execution_count": 0,
      "outputs": []
    },
    {
      "metadata": {
        "colab_type": "code",
        "id": "oc90_MecZbGk",
        "colab": {}
      },
      "cell_type": "code",
      "source": [
        "#use the saved csv\n",
        "df = pd.read_csv('progress_data_raw.csv')\n",
        "\n",
        "#select state and phase\n",
        "df = df[df.state_name == 'ILLINOIS']\n",
        "pl = df['unit_desc'] == 'PCT PLANTED'\n",
        "dfp = df[['week_ending','Value']][pl]\n",
        "\n",
        "#convert week_ending column to datetime format. set year to index.\n",
        "dfp.week_ending = pd.to_datetime(dfp.week_ending, format = '%Y-%m-%d')\n",
        "dfp.set_index('week_ending', inplace = True)\n",
        "\n",
        "#need to extend date range so it runs from 01-01-1981 to 12-31-2017 and has daily points not weekly.\n",
        "ix = pd.date_range(start= '01-01-1981', end = '12-31-2017', freq = 'D')\n",
        "dfp = dfp.reindex(ix)\n",
        "\n",
        "#find all the unique years\n",
        "yrs = list(dfp.index.year.unique())\n",
        "\n",
        "df_all = pd.DataFrame()\n",
        "for y in yrs:\n",
        "  df_year = dfp.loc[str(y)]\n",
        "  df_year.iloc[0,0] = 0\n",
        "  df_year.iloc[-1] = 100\n",
        "  \n",
        "  resampled_dfp = df_year.resample('D')\n",
        "  interpolated_dfp = resampled_dfp.interpolate(method = 'linear')\n",
        "  \n",
        "  df_all = pd.concat([df_all, interpolated_dfp], axis = 0)"
      ],
      "execution_count": 0,
      "outputs": []
    },
    {
      "metadata": {
        "id": "Mroens-cU6yw",
        "colab_type": "code",
        "colab": {}
      },
      "cell_type": "code",
      "source": [
        "#Now we need to figure out how to do this for every year in EVERY PHASE in Illinois"
      ],
      "execution_count": 0,
      "outputs": []
    },
    {
      "metadata": {
        "id": "iHccsvmNVMXu",
        "colab_type": "code",
        "outputId": "d8a3b516-c58f-473a-97a9-08ff7ae483d6",
        "colab": {
          "base_uri": "https://localhost:8080/",
          "height": 108
        }
      },
      "cell_type": "code",
      "source": [
        "#Note: This function fails to interpolate between year-01-01 to year-12-31\n",
        "#use the saved csv\n",
        "df = pd.read_csv('progress_data_raw.csv')\n",
        "df = df[df.state_name == 'ILLINOIS']\n",
        "\n",
        "#list all the phases\n",
        "phase = ['PCT PLANTED', 'PCT SILKING', 'PCT DOUGH','PCT DENTED', 'PCT MATURE'] #removed PCT HARVESTED b/c duplicate dates\n",
        "\n",
        "df_all_phases_all_years = pd.DataFrame()\n",
        "\n",
        "for p in phase:\n",
        "  pl = df['unit_desc'] == p\n",
        "  dfp = df[['week_ending','Value']][pl]\n",
        "  \n",
        "  dfp.week_ending = pd.to_datetime(dfp.week_ending, format = '%Y-%m-%d')\n",
        "  dfp.set_index('week_ending', inplace = True)\n",
        "  \n",
        "  yrs = list(dfp.index.year.unique())\n",
        "  \n",
        "  df_specific_phase_all_years = pd.DataFrame() #prime the empty dataframe to collect specific phase data for every year\n",
        "  \n",
        "  for y in yrs:\n",
        "    df_year = dfp.loc[str(y)]\n",
        "    df_year.iloc[0,0] = 0\n",
        "    df_year.iloc[-1,0] = 100\n",
        "  \n",
        "    resampled_dfp = df_year.resample('D')\n",
        "    interpolated_dfp = resampled_dfp.interpolate(method = 'linear')\n",
        "  \n",
        "    df_specific_phase_all_years = pd.concat([df_specific_phase_all_years, interpolated_dfp], axis = 0)\n",
        "    \n",
        "  df_all_phases_all_years = pd.concat([df_all_phases_all_years, df_specific_phase_all_years], axis = 1)\n",
        "  \n",
        "  print(p)\n",
        "  \n",
        "df_all_phases_all_years.columns = ['PCT PLANTED', 'PCT SILKING', 'PCT DOUGH', 'PCT DENTED', 'PCT MATURE'] #still missing harvested\n",
        "\n",
        "#there will be a lot of NaN values b/c while the crop is in one phase it cannot be in the other. rows should usually only have one value.\n",
        "df_all_phases_all_years.fillna(0, inplace = True)\n",
        "\n",
        "#df_all_phases_all_years.to_csv('illinois_development_data.csv', header = True, index = True)"
      ],
      "execution_count": 0,
      "outputs": [
        {
          "output_type": "stream",
          "text": [
            "PCT PLANTED\n",
            "PCT SILKING\n",
            "PCT DOUGH\n",
            "PCT DENTED\n",
            "PCT MATURE\n"
          ],
          "name": "stdout"
        }
      ]
    },
    {
      "metadata": {
        "colab_type": "code",
        "outputId": "20b04c47-8b9e-4b7b-d7f3-3c29e5ea9caf",
        "id": "4M2z3bQ2sOs1",
        "colab": {
          "base_uri": "https://localhost:8080/",
          "height": 110
        }
      },
      "cell_type": "code",
      "source": [
        "#Note: This function DOES interpolate between year-01-01 to year-12-31\n",
        "\n",
        "#use the saved csv\n",
        "df = pd.read_csv('progress_data_raw.csv')\n",
        "df = df[df.state_name == 'ILLINOIS']\n",
        "\n",
        "#list all the phases\n",
        "phase = ['PCT PLANTED', 'PCT SILKING', 'PCT DOUGH','PCT DENTED', 'PCT MATURE'] #removed PCT HARVESTED b/c duplicate dates\n",
        "\n",
        "df_all_phases_all_years = pd.DataFrame()\n",
        "\n",
        "for p in phase:\n",
        "  pl = df['unit_desc'] == p\n",
        "  dfp = df[['week_ending','Value']][pl]\n",
        "  \n",
        "  dfp.week_ending = pd.to_datetime(dfp.week_ending, format = '%Y-%m-%d')\n",
        "  dfp.set_index('week_ending', inplace = True)\n",
        "  \n",
        "  yrs = list(dfp.index.year.unique())\n",
        "  \n",
        "  df_specific_phase_all_years = pd.DataFrame() #prime the empty dataframe to collect specific phase data for every year\n",
        "  \n",
        "  for y in yrs:\n",
        "    \n",
        "    #make sure existing data starts with 0 and ends in 100 even when index does not extend full year yet\n",
        "    df_year = dfp.loc[str(y)]\n",
        "    df_year.iloc[0,0] = 0\n",
        "    df_year.iloc[-1,0] = 100\n",
        "    \n",
        "    #extend index to full year\n",
        "    ix = pd.date_range(start= '01-01-'+str(y), end = '12-31-'+str(y), freq = 'D')\n",
        "    df_year = df_year.reindex(ix)\n",
        "    \n",
        "    #make sure new extended index now starts with 0 and ends in 100\n",
        "    df_year.iloc[0,0] = 0\n",
        "    df_year.iloc[-1,0] = 100\n",
        "    \n",
        "    #linearly interpolate data\n",
        "    resampled_dfp = df_year.resample('D')\n",
        "    interpolated_dfp = resampled_dfp.interpolate(method = 'linear')\n",
        "  \n",
        "    df_specific_phase_all_years = pd.concat([df_specific_phase_all_years, interpolated_dfp], axis = 0)\n",
        "    \n",
        "  df_all_phases_all_years = pd.concat([df_all_phases_all_years, df_specific_phase_all_years], axis = 1)\n",
        "  \n",
        "  print(p)\n",
        "  \n",
        "df_all_phases_all_years.columns = ['PCT PLANTED', 'PCT SILKING', 'PCT DOUGH', 'PCT DENTED', 'PCT MATURE'] #still missing harvested\n",
        "\n",
        "#there will be a lot of NaN values b/c while the crop is in one phase it cannot be in the other. this is not true!!!\n",
        "\n",
        "df_all_phases_all_years.to_csv('illinois_development_data.csv', header = True, index = True)\n"
      ],
      "execution_count": 0,
      "outputs": [
        {
          "output_type": "stream",
          "text": [
            "PCT PLANTED\n",
            "PCT SILKING\n",
            "PCT DOUGH\n",
            "PCT DENTED\n",
            "PCT MATURE\n"
          ],
          "name": "stdout"
        }
      ]
    },
    {
      "metadata": {
        "id": "zhcznE6h2_PK",
        "colab_type": "code",
        "colab": {}
      },
      "cell_type": "code",
      "source": [
        "#figure out how to convert cdf to pdf\n",
        "import matplotlib.pyplot as plt\n",
        "import copy\n",
        "df = pd.read_csv('illinois_development_data.csv', index_col = 0, header = 0)"
      ],
      "execution_count": 0,
      "outputs": []
    },
    {
      "metadata": {
        "id": "ybymwhpl3Ggh",
        "colab_type": "code",
        "colab": {}
      },
      "cell_type": "code",
      "source": [
        "#work with subset of data"
      ],
      "execution_count": 0,
      "outputs": []
    },
    {
      "metadata": {
        "id": "7I54lroN5bY0",
        "colab_type": "code",
        "outputId": "dc6aacd2-eb83-40c5-fafd-3341e6e4f4db",
        "colab": {
          "base_uri": "https://localhost:8080/",
          "height": 376
        }
      },
      "cell_type": "code",
      "source": [
        "#plot what the development data currently looks like. this is a CDF. we want a PDF.\n",
        "df = pd.read_csv('illinois_development_data.csv', index_col = 0, header = 0)\n",
        "df.index = pd.to_datetime(df.index)\n",
        "df = df.loc['2016-01-01':'2016-12-31']\n",
        "\n",
        "for i in df.columns:\n",
        "  dfp = copy.deepcopy(df[[str(i)]])\n",
        "  \n",
        "  x = dfp.index\n",
        "  y = dfp[str(i)]\n",
        "\n",
        "  plt.plot(x,y.values,label = str(i))\n",
        "  \n",
        "plt.title('CROP DEVELOPMENT IN ILLINOIS')\n",
        "plt.xlabel('Date')\n",
        "plt.ylabel('% Crop')\n",
        "plt.legend(loc = 'upper left', prop={'size': 8})\n",
        "plt.show()"
      ],
      "execution_count": 0,
      "outputs": [
        {
          "output_type": "display_data",
          "data": {
            "image/png": "[encoded data removed]",
            "text/plain": [
              "<Figure size 576x396 with 1 Axes>"
            ]
          },
          "metadata": {
            "tags": []
          }
        }
      ]
    },
    {
      "metadata": {
        "id": "KG_xGJJP5dBl",
        "colab_type": "code",
        "outputId": "9f4f8c38-da0b-4ca3-cb7e-a0b033ab7aac",
        "colab": {
          "base_uri": "https://localhost:8080/",
          "height": 347
        }
      },
      "cell_type": "code",
      "source": [
        "#testing out gradient to take derivative of series\n",
        "import numpy as np\n",
        "test = {'counter':[1,2,3,4,5,6,7,8,9,10,11], 'cats':[0,2,4,6,8,10,12,14,16,18,20]}\n",
        "test = pd.DataFrame.from_dict(test)\n",
        "test.set_index('counter', inplace = True)\n",
        "\n",
        "y = test.cats.values\n",
        "j = np.gradient(y)\n",
        "\n",
        "test['gradient'] = j\n",
        "\n",
        "x =test.index\n",
        "y1 = test.cats.values\n",
        "y2 = test.gradient.values\n",
        "\n",
        "plt.plot(x,y1)\n",
        "plt.plot(x,y2)\n",
        "plt.show()\n"
      ],
      "execution_count": 0,
      "outputs": [
        {
          "output_type": "display_data",
          "data": {
            "image/png": "[encoded data removed]",
            "text/plain": [
              "<Figure size 576x396 with 1 Axes>"
            ]
          },
          "metadata": {
            "tags": []
          }
        }
      ]
    },
    {
      "metadata": {
        "id": "H4bEgdW63K2Y",
        "colab_type": "code",
        "outputId": "61c96e68-0951-4104-bb07-bccacd269a80",
        "colab": {
          "base_uri": "https://localhost:8080/",
          "height": 347
        }
      },
      "cell_type": "code",
      "source": [
        "#Applied np.gradient to subset of data and looks pretty bad\n",
        "df = pd.read_csv('illinois_development_data.csv', index_col = 0, header = 0)\n",
        "df.index = pd.to_datetime(df.index)\n",
        "#found that 100 is reach on 2016-06-05 really need to reinteprolate data to fix this. Start on 2016-04-03\n",
        "df = df.loc['2016-04-03':'2016-06-05']\n",
        "\n",
        "dfp = copy.deepcopy(df[['PCT PLANTED']])\n",
        "\n",
        "#np.gradient(dfp.values)\n",
        "\n",
        "dfp['gradient'] = np.gradient(dfp['PCT PLANTED'].values)\n",
        "\n",
        "x = dfp.index\n",
        "y1 = dfp['PCT PLANTED']\n",
        "y2 = dfp['gradient']\n",
        "\n",
        "plt.plot(x,y1)\n",
        "plt.plot(x,y2)\n",
        "plt.show()\n"
      ],
      "execution_count": 0,
      "outputs": [
        {
          "output_type": "display_data",
          "data": {
            "image/png": "[encoded data removed]",
            "text/plain": [
              "<Figure size 576x396 with 1 Axes>"
            ]
          },
          "metadata": {
            "tags": []
          }
        }
      ]
    },
    {
      "metadata": {
        "id": "cwhgJjdC3d5t",
        "colab_type": "code",
        "colab": {}
      },
      "cell_type": "code",
      "source": [
        "#try using numpy.diff on percent planted data \n",
        "\n",
        "#read interolated IL progress data\n",
        "df = pd.read_csv('illinois_development_data.csv', index_col = 0, header = 0)\n",
        "df.index = pd.to_datetime(df.index)\n",
        "\n",
        "#pick out one year\n",
        "df = df.loc['2016-01-01':'2016-12-31']\n",
        "\n",
        "#make a seperate dataframe to preserve original. also select PCT PLANTED\n",
        "dfp = copy.deepcopy(df[['PCT PLANTED']])\n",
        "\n",
        "#difference between points is 1 day\n",
        "dx = 1\n",
        "\n",
        "y = dfp['PCT PLANTED'].values\n",
        "dy = np.diff(y)\n",
        "\n",
        "dydx = dy/dx"
      ],
      "execution_count": 0,
      "outputs": []
    },
    {
      "metadata": {
        "id": "FiOZXPhL38uk",
        "colab_type": "code",
        "outputId": "ac64b10a-4c79-41ac-c8dd-7c448f6ab760",
        "colab": {
          "base_uri": "https://localhost:8080/",
          "height": 36
        }
      },
      "cell_type": "code",
      "source": [
        "#complaning the dy/dx is not came length as dfp.index which is true. dydx should be one less. added on number on end just for now.\n",
        "dydx= np.append(dydx, [[0]])\n",
        "\n",
        "#check length of index is same length of derivatives after above adjustment\n",
        "len(dydx) == len(dfp.index)"
      ],
      "execution_count": 0,
      "outputs": [
        {
          "output_type": "execute_result",
          "data": {
            "text/plain": [
              "True"
            ]
          },
          "metadata": {
            "tags": []
          },
          "execution_count": 27
        }
      ]
    },
    {
      "metadata": {
        "id": "ZNgC6yULOv3g",
        "colab_type": "code",
        "outputId": "bcf430ce-53fc-4b48-df57-de96b0bc31ce",
        "colab": {
          "base_uri": "https://localhost:8080/",
          "height": 376
        }
      },
      "cell_type": "code",
      "source": [
        "#add derivative column \n",
        "dfp['derivative'] = dydx\n",
        "\n",
        "#plot the CDF(PCT PLANTED) and PDF(derivative)\n",
        "x = dfp.index\n",
        "y1 = dfp['PCT PLANTED']\n",
        "y2 = dfp['derivative']\n",
        "\n",
        "\n",
        "\n",
        "plt.plot(x, y1, label = 'CDF')\n",
        "plt.plot(x,y2, label = 'PDF')\n",
        "\n",
        "plt.title('CROP DEVELOPMENT IN ILLINOIS (CDF and PDF)')\n",
        "plt.xlabel('Date')\n",
        "plt.ylabel('% Crop')\n",
        "plt.legend(loc = 'upper left', prop={'size': 15})\n",
        "\n",
        "plt.show()"
      ],
      "execution_count": 0,
      "outputs": [
        {
          "output_type": "display_data",
          "data": {
            "image/png": "[encoded data removed]",
            "text/plain": [
              "<Figure size 576x396 with 1 Axes>"
            ]
          },
          "metadata": {
            "tags": []
          }
        }
      ]
    },
    {
      "metadata": {
        "id": "iIbXzd3wP-v0",
        "colab_type": "code",
        "outputId": "96798c9d-9d5b-4d91-a058-cb9535246980",
        "colab": {
          "base_uri": "https://localhost:8080/",
          "height": 376
        }
      },
      "cell_type": "code",
      "source": [
        "#replot only PDF to inspect\n",
        "\n",
        "x = dfp.index\n",
        "y2 = dfp['derivative']\n",
        "\n",
        "plt.plot(x,y2, label = 'PDF')\n",
        "\n",
        "plt.title('CROP DEVELOPMENT IN ILLINOIS (PDF)')\n",
        "plt.xlabel('Date')\n",
        "plt.ylabel('% Crop')\n",
        "plt.legend(loc = 'upper left', prop={'size': 10})\n",
        "\n",
        "plt.show()"
      ],
      "execution_count": 0,
      "outputs": [
        {
          "output_type": "display_data",
          "data": {
            "image/png": "[encoded data removed]",
            "text/plain": [
              "<Figure size 576x396 with 1 Axes>"
            ]
          },
          "metadata": {
            "tags": []
          }
        }
      ]
    },
    {
      "metadata": {
        "id": "qbc923JIY3O4",
        "colab_type": "code",
        "outputId": "eb189b74-ab27-4218-85ff-efea25009309",
        "colab": {
          "base_uri": "https://localhost:8080/",
          "height": 36
        }
      },
      "cell_type": "code",
      "source": [
        "#calculate area under PDF to make sure it is correct. the area under the pdf must be 1 (or 100%).\n",
        "\n",
        "import numpy as np\n",
        "from numpy import trapz\n",
        "\n",
        "# Compute the area using the composite trapezoidal rule.\n",
        "area = trapz(dydx, dx=1)\n",
        "print(\"area =\", area)"
      ],
      "execution_count": 0,
      "outputs": [
        {
          "output_type": "stream",
          "text": [
            "area = 100.0\n"
          ],
          "name": "stdout"
        }
      ]
    },
    {
      "metadata": {
        "id": "Hr7SgqqnRcRf",
        "colab_type": "code",
        "colab": {}
      },
      "cell_type": "code",
      "source": [
        "#now we need to perform the above operation for every phase in Illinois in 2016 to make sure rows now add to 100\n",
        "\n",
        "import copy\n",
        "\n",
        "#read interolated IL progress data\n",
        "df = pd.read_csv('illinois_development_data.csv', index_col = 0, header = 0)\n",
        "df.index = pd.to_datetime(df.index)\n",
        "\n",
        "#make sure only using 2016\n",
        "df = copy.deepcopy(df.loc['2016-01-01':'2016-12-31'])\n",
        "\n",
        "#make empty df for derivatives. use copy of index of above df.\n",
        "df_deriv = pd.DataFrame(index = df.index.copy())\n",
        "\n",
        "for i in df.columns:\n",
        "  dfp = copy.deepcopy(df[[str(i)]])\n",
        "  \n",
        "  dx = 1\n",
        "  \n",
        "  y = dfp[str(i)].values\n",
        "  dy = np.diff(y)\n",
        "  \n",
        "  dydx = dy/dx\n",
        "  \n",
        "  dydx= np.append(dydx, [[0]])\n",
        "  \n",
        "  df_deriv[str(i) + '_deriv'] = dydx"
      ],
      "execution_count": 0,
      "outputs": []
    },
    {
      "metadata": {
        "id": "_aaUEUWyU4HB",
        "colab_type": "code",
        "outputId": "7df566a8-359c-46fb-a9d7-ff75ba83c1c6",
        "colab": {
          "base_uri": "https://localhost:8080/",
          "height": 206
        }
      },
      "cell_type": "code",
      "source": [
        "#rows are still not adding to 100 (or anywhere close!!!) for above df created with loop\n",
        "df_deriv.head()"
      ],
      "execution_count": 0,
      "outputs": [
        {
          "output_type": "execute_result",
          "data": {
            "text/html": [
              "<div>\n",
              "<style scoped>\n",
              "    .dataframe tbody tr th:only-of-type {\n",
              "        vertical-align: middle;\n",
              "    }\n",
              "\n",
              "    .dataframe tbody tr th {\n",
              "        vertical-align: top;\n",
              "    }\n",
              "\n",
              "    .dataframe thead th {\n",
              "        text-align: right;\n",
              "    }\n",
              "</style>\n",
              "<table border=\"1\" class=\"dataframe\">\n",
              "  <thead>\n",
              "    <tr style=\"text-align: right;\">\n",
              "      <th></th>\n",
              "      <th>PCT PLANTED_deriv</th>\n",
              "      <th>PCT SILKING_deriv</th>\n",
              "      <th>PCT DOUGH_deriv</th>\n",
              "      <th>PCT DENTED_deriv</th>\n",
              "      <th>PCT MATURE_deriv</th>\n",
              "    </tr>\n",
              "  </thead>\n",
              "  <tbody>\n",
              "    <tr>\n",
              "      <th>2016-01-01</th>\n",
              "      <td>0.0</td>\n",
              "      <td>0.0</td>\n",
              "      <td>0.0</td>\n",
              "      <td>0.0</td>\n",
              "      <td>0.0</td>\n",
              "    </tr>\n",
              "    <tr>\n",
              "      <th>2016-01-02</th>\n",
              "      <td>0.0</td>\n",
              "      <td>0.0</td>\n",
              "      <td>0.0</td>\n",
              "      <td>0.0</td>\n",
              "      <td>0.0</td>\n",
              "    </tr>\n",
              "    <tr>\n",
              "      <th>2016-01-03</th>\n",
              "      <td>0.0</td>\n",
              "      <td>0.0</td>\n",
              "      <td>0.0</td>\n",
              "      <td>0.0</td>\n",
              "      <td>0.0</td>\n",
              "    </tr>\n",
              "    <tr>\n",
              "      <th>2016-01-04</th>\n",
              "      <td>0.0</td>\n",
              "      <td>0.0</td>\n",
              "      <td>0.0</td>\n",
              "      <td>0.0</td>\n",
              "      <td>0.0</td>\n",
              "    </tr>\n",
              "    <tr>\n",
              "      <th>2016-01-05</th>\n",
              "      <td>0.0</td>\n",
              "      <td>0.0</td>\n",
              "      <td>0.0</td>\n",
              "      <td>0.0</td>\n",
              "      <td>0.0</td>\n",
              "    </tr>\n",
              "  </tbody>\n",
              "</table>\n",
              "</div>"
            ],
            "text/plain": [
              "            PCT PLANTED_deriv  PCT SILKING_deriv  PCT DOUGH_deriv  \\\n",
              "2016-01-01                0.0                0.0              0.0   \n",
              "2016-01-02                0.0                0.0              0.0   \n",
              "2016-01-03                0.0                0.0              0.0   \n",
              "2016-01-04                0.0                0.0              0.0   \n",
              "2016-01-05                0.0                0.0              0.0   \n",
              "\n",
              "            PCT DENTED_deriv  PCT MATURE_deriv  \n",
              "2016-01-01               0.0               0.0  \n",
              "2016-01-02               0.0               0.0  \n",
              "2016-01-03               0.0               0.0  \n",
              "2016-01-04               0.0               0.0  \n",
              "2016-01-05               0.0               0.0  "
            ]
          },
          "metadata": {
            "tags": []
          },
          "execution_count": 10
        }
      ]
    },
    {
      "metadata": {
        "id": "yl-6S494SU20",
        "colab_type": "code",
        "outputId": "e48e1a9c-7a87-448c-8e92-d0696a899b28",
        "colab": {
          "base_uri": "https://localhost:8080/",
          "height": 376
        }
      },
      "cell_type": "code",
      "source": [
        "#Plot PDFs all together\n",
        "\n",
        "import matplotlib.pyplot as plt\n",
        "\n",
        "for i in df_deriv.columns:\n",
        "  dfp = copy.deepcopy(df_deriv[[str(i)]])\n",
        "  \n",
        "  x = dfp.index\n",
        "  y = dfp[str(i)]\n",
        "\n",
        "  plt.plot(x,y.values,label = str(i))\n",
        "\n",
        "plt.title('CROP DEVELOPMENT IN ILLINOIS (PDFs)')\n",
        "plt.xlabel('Date')\n",
        "plt.ylabel('% Crop')\n",
        "plt.legend(loc = 'upper left', prop={'size': 8})\n",
        "plt.show()"
      ],
      "execution_count": 0,
      "outputs": [
        {
          "output_type": "display_data",
          "data": {
            "image/png": "[encoded data removed]",
            "text/plain": [
              "<Figure size 576x396 with 1 Axes>"
            ]
          },
          "metadata": {
            "tags": []
          }
        }
      ]
    },
    {
      "metadata": {
        "id": "WF39ggP3UIzt",
        "colab_type": "code",
        "outputId": "091d2ffd-f92f-4067-d161-fb37884f6b73",
        "colab": {
          "base_uri": "https://localhost:8080/",
          "height": 206
        }
      },
      "cell_type": "code",
      "source": [
        "#sum across rows and add as new column\n",
        "df_deriv['sum'] = df_deriv.sum(axis=1)\n",
        "df_deriv.head()"
      ],
      "execution_count": 0,
      "outputs": [
        {
          "output_type": "execute_result",
          "data": {
            "text/html": [
              "<div>\n",
              "<style scoped>\n",
              "    .dataframe tbody tr th:only-of-type {\n",
              "        vertical-align: middle;\n",
              "    }\n",
              "\n",
              "    .dataframe tbody tr th {\n",
              "        vertical-align: top;\n",
              "    }\n",
              "\n",
              "    .dataframe thead th {\n",
              "        text-align: right;\n",
              "    }\n",
              "</style>\n",
              "<table border=\"1\" class=\"dataframe\">\n",
              "  <thead>\n",
              "    <tr style=\"text-align: right;\">\n",
              "      <th></th>\n",
              "      <th>PCT PLANTED_deriv</th>\n",
              "      <th>PCT SILKING_deriv</th>\n",
              "      <th>PCT DOUGH_deriv</th>\n",
              "      <th>PCT DENTED_deriv</th>\n",
              "      <th>PCT MATURE_deriv</th>\n",
              "      <th>sum</th>\n",
              "    </tr>\n",
              "  </thead>\n",
              "  <tbody>\n",
              "    <tr>\n",
              "      <th>2016-01-01</th>\n",
              "      <td>0.0</td>\n",
              "      <td>0.0</td>\n",
              "      <td>0.0</td>\n",
              "      <td>0.0</td>\n",
              "      <td>0.0</td>\n",
              "      <td>0.0</td>\n",
              "    </tr>\n",
              "    <tr>\n",
              "      <th>2016-01-02</th>\n",
              "      <td>0.0</td>\n",
              "      <td>0.0</td>\n",
              "      <td>0.0</td>\n",
              "      <td>0.0</td>\n",
              "      <td>0.0</td>\n",
              "      <td>0.0</td>\n",
              "    </tr>\n",
              "    <tr>\n",
              "      <th>2016-01-03</th>\n",
              "      <td>0.0</td>\n",
              "      <td>0.0</td>\n",
              "      <td>0.0</td>\n",
              "      <td>0.0</td>\n",
              "      <td>0.0</td>\n",
              "      <td>0.0</td>\n",
              "    </tr>\n",
              "    <tr>\n",
              "      <th>2016-01-04</th>\n",
              "      <td>0.0</td>\n",
              "      <td>0.0</td>\n",
              "      <td>0.0</td>\n",
              "      <td>0.0</td>\n",
              "      <td>0.0</td>\n",
              "      <td>0.0</td>\n",
              "    </tr>\n",
              "    <tr>\n",
              "      <th>2016-01-05</th>\n",
              "      <td>0.0</td>\n",
              "      <td>0.0</td>\n",
              "      <td>0.0</td>\n",
              "      <td>0.0</td>\n",
              "      <td>0.0</td>\n",
              "      <td>0.0</td>\n",
              "    </tr>\n",
              "  </tbody>\n",
              "</table>\n",
              "</div>"
            ],
            "text/plain": [
              "            PCT PLANTED_deriv  PCT SILKING_deriv  PCT DOUGH_deriv  \\\n",
              "2016-01-01                0.0                0.0              0.0   \n",
              "2016-01-02                0.0                0.0              0.0   \n",
              "2016-01-03                0.0                0.0              0.0   \n",
              "2016-01-04                0.0                0.0              0.0   \n",
              "2016-01-05                0.0                0.0              0.0   \n",
              "\n",
              "            PCT DENTED_deriv  PCT MATURE_deriv  sum  \n",
              "2016-01-01               0.0               0.0  0.0  \n",
              "2016-01-02               0.0               0.0  0.0  \n",
              "2016-01-03               0.0               0.0  0.0  \n",
              "2016-01-04               0.0               0.0  0.0  \n",
              "2016-01-05               0.0               0.0  0.0  "
            ]
          },
          "metadata": {
            "tags": []
          },
          "execution_count": 18
        }
      ]
    },
    {
      "metadata": {
        "id": "YwMIeDT8R3G6",
        "colab_type": "code",
        "outputId": "d35661cf-1133-4c12-9fb1-f00d2a2e92bc",
        "colab": {
          "base_uri": "https://localhost:8080/",
          "height": 376
        }
      },
      "cell_type": "code",
      "source": [
        "#plot the row sums to see what value they add to.\n",
        "\n",
        "x = df_deriv.index\n",
        "y = df_deriv['sum']\n",
        "plt.plot(x,y.values, label = 'PDF Sum')\n",
        "\n",
        "plt.title('CROP DEVELOPMENT IN ILLINOIS SUM OF PDFS')\n",
        "plt.xlabel('Date')\n",
        "plt.ylabel('% Crop')\n",
        "plt.legend(loc = 'upper left', prop={'size': 15})\n",
        "plt.show()"
      ],
      "execution_count": 0,
      "outputs": [
        {
          "output_type": "display_data",
          "data": {
            "image/png": "[encoded data removed]",
            "text/plain": [
              "<Figure size 576x396 with 1 Axes>"
            ]
          },
          "metadata": {
            "tags": []
          }
        }
      ]
    },
    {
      "metadata": {
        "id": "igc3B4AKBd_Z",
        "colab_type": "code",
        "colab": {}
      },
      "cell_type": "code",
      "source": [
        "#summing PDFs did not work! now we will only work with the CDF."
      ],
      "execution_count": 0,
      "outputs": []
    },
    {
      "metadata": {
        "id": "lu007_5qyA-0",
        "colab_type": "code",
        "colab": {
          "base_uri": "https://localhost:8080/",
          "height": 376
        },
        "outputId": "8a437097-d017-4695-ee87-7defb63d6fb5"
      },
      "cell_type": "code",
      "source": [
        "#review what CDF looks like\n",
        "df = pd.read_csv('illinois_development_data.csv', index_col = 0, header = 0)\n",
        "df.index = pd.to_datetime(df.index)\n",
        "df = df.loc['2016-01-01':'2016-12-31']\n",
        "\n",
        "for i in df.columns:\n",
        "  dfp = copy.deepcopy(df[[str(i)]])\n",
        "  \n",
        "  x = dfp.index\n",
        "  y = dfp[str(i)]\n",
        "\n",
        "  plt.plot(x,y.values,label = str(i))\n",
        "  \n",
        "plt.title('CROP DEVELOPMENT IN ILLINOIS')\n",
        "plt.xlabel('Date')\n",
        "plt.ylabel('% Crop')\n",
        "plt.legend(loc = 'upper left', prop={'size': 8})\n",
        "plt.show()"
      ],
      "execution_count": 3,
      "outputs": [
        {
          "output_type": "display_data",
          "data": {
            "image/png": "[encoded data removed]",
            "text/plain": [
              "<Figure size 576x396 with 1 Axes>"
            ]
          },
          "metadata": {
            "tags": []
          }
        }
      ]
    },
    {
      "metadata": {
        "id": "EwGVUxoVyOwZ",
        "colab_type": "code",
        "colab": {
          "base_uri": "https://localhost:8080/",
          "height": 206
        },
        "outputId": "3c39864d-ef55-4e41-a8d3-fbac8689ef19"
      },
      "cell_type": "code",
      "source": [
        "df.head()"
      ],
      "execution_count": 4,
      "outputs": [
        {
          "output_type": "execute_result",
          "data": {
            "text/html": [
              "<div>\n",
              "<style scoped>\n",
              "    .dataframe tbody tr th:only-of-type {\n",
              "        vertical-align: middle;\n",
              "    }\n",
              "\n",
              "    .dataframe tbody tr th {\n",
              "        vertical-align: top;\n",
              "    }\n",
              "\n",
              "    .dataframe thead th {\n",
              "        text-align: right;\n",
              "    }\n",
              "</style>\n",
              "<table border=\"1\" class=\"dataframe\">\n",
              "  <thead>\n",
              "    <tr style=\"text-align: right;\">\n",
              "      <th></th>\n",
              "      <th>PCT PLANTED</th>\n",
              "      <th>PCT SILKING</th>\n",
              "      <th>PCT DOUGH</th>\n",
              "      <th>PCT DENTED</th>\n",
              "      <th>PCT MATURE</th>\n",
              "    </tr>\n",
              "  </thead>\n",
              "  <tbody>\n",
              "    <tr>\n",
              "      <th>2016-01-01</th>\n",
              "      <td>0.0</td>\n",
              "      <td>0.0</td>\n",
              "      <td>0.0</td>\n",
              "      <td>0.0</td>\n",
              "      <td>0.0</td>\n",
              "    </tr>\n",
              "    <tr>\n",
              "      <th>2016-01-02</th>\n",
              "      <td>0.0</td>\n",
              "      <td>0.0</td>\n",
              "      <td>0.0</td>\n",
              "      <td>0.0</td>\n",
              "      <td>0.0</td>\n",
              "    </tr>\n",
              "    <tr>\n",
              "      <th>2016-01-03</th>\n",
              "      <td>0.0</td>\n",
              "      <td>0.0</td>\n",
              "      <td>0.0</td>\n",
              "      <td>0.0</td>\n",
              "      <td>0.0</td>\n",
              "    </tr>\n",
              "    <tr>\n",
              "      <th>2016-01-04</th>\n",
              "      <td>0.0</td>\n",
              "      <td>0.0</td>\n",
              "      <td>0.0</td>\n",
              "      <td>0.0</td>\n",
              "      <td>0.0</td>\n",
              "    </tr>\n",
              "    <tr>\n",
              "      <th>2016-01-05</th>\n",
              "      <td>0.0</td>\n",
              "      <td>0.0</td>\n",
              "      <td>0.0</td>\n",
              "      <td>0.0</td>\n",
              "      <td>0.0</td>\n",
              "    </tr>\n",
              "  </tbody>\n",
              "</table>\n",
              "</div>"
            ],
            "text/plain": [
              "            PCT PLANTED  PCT SILKING  PCT DOUGH  PCT DENTED  PCT MATURE\n",
              "2016-01-01          0.0          0.0        0.0         0.0         0.0\n",
              "2016-01-02          0.0          0.0        0.0         0.0         0.0\n",
              "2016-01-03          0.0          0.0        0.0         0.0         0.0\n",
              "2016-01-04          0.0          0.0        0.0         0.0         0.0\n",
              "2016-01-05          0.0          0.0        0.0         0.0         0.0"
            ]
          },
          "metadata": {
            "tags": []
          },
          "execution_count": 4
        }
      ]
    },
    {
      "metadata": {
        "id": "N5dauk1zyYhM",
        "colab_type": "code",
        "colab": {}
      },
      "cell_type": "code",
      "source": [
        "#planted should be PCT PLANTED - PCT SILKING\n",
        "df['planted-silking'] = df['PCT PLANTED'] - df['PCT SILKING']\n",
        "\n",
        "#silking should be PCT SILKING - PCT DOUGH\n",
        "df['silking-dough'] = df['PCT SILKING'] - df['PCT DOUGH']\n",
        "\n",
        "#doughing should be PCT DOUGH - PCT DENTED\n",
        "df['dough-dented'] = df['PCT DOUGH'] - df['PCT DENTED']\n",
        "\n",
        "#dented should be PCT DENTED - PCT MATURE\n",
        "df['dented-mature'] = df['PCT DENTED'] - df['PCT MATURE']\n"
      ],
      "execution_count": 0,
      "outputs": []
    },
    {
      "metadata": {
        "id": "gqv2pELyypSx",
        "colab_type": "code",
        "colab": {
          "base_uri": "https://localhost:8080/",
          "height": 376
        },
        "outputId": "05b1c946-e172-42cd-ba9c-6bc03e45648d"
      },
      "cell_type": "code",
      "source": [
        "for i in df.columns:\n",
        "  dfp = copy.deepcopy(df[[str(i)]])\n",
        "  \n",
        "  x = dfp.index\n",
        "  y = dfp[str(i)]\n",
        "\n",
        "  plt.plot(x,y.values,label = str(i))\n",
        "  \n",
        "plt.title('CROP DEVELOPMENT IN ILLINOIS')\n",
        "plt.xlabel('Date')\n",
        "plt.ylabel('% Crop')\n",
        "plt.legend(loc = 'upper left', prop={'size': 8})\n",
        "plt.show()"
      ],
      "execution_count": 12,
      "outputs": [
        {
          "output_type": "display_data",
          "data": {
            "image/png": "[encoded data removed]",
            "text/plain": [
              "<Figure size 576x396 with 1 Axes>"
            ]
          },
          "metadata": {
            "tags": []
          }
        }
      ]
    },
    {
      "metadata": {
        "id": "8qwvDuAe0zXx",
        "colab_type": "code",
        "colab": {}
      },
      "cell_type": "code",
      "source": [
        "#make a new dataframe of the adjusted phases\n",
        "df_altered = df[['planted-silking', 'silking-dough', 'dough-dented', 'dented-mature', 'PCT MATURE']].copy()\n",
        "df_altered['sum'] = df_altered.sum(axis = 1)"
      ],
      "execution_count": 0,
      "outputs": []
    },
    {
      "metadata": {
        "id": "CMWzI0EsyszQ",
        "colab_type": "code",
        "colab": {
          "base_uri": "https://localhost:8080/",
          "height": 376
        },
        "outputId": "6f23d383-1f2a-4854-e04a-63a721e49a72"
      },
      "cell_type": "code",
      "source": [
        "#use loop to plot new data frame\n",
        "for i in df_altered.columns:\n",
        "  dfp = copy.deepcopy(df_altered[[str(i)]])\n",
        "  \n",
        "  x = dfp.index\n",
        "  y = dfp[str(i)]\n",
        "\n",
        "  plt.plot(x,y.values,label = str(i))\n",
        "  \n",
        "plt.title('CROP DEVELOPMENT IN ILLINOIS')\n",
        "plt.xlabel('Date')\n",
        "plt.ylabel('% Crop')\n",
        "plt.legend(loc = 'upper left', prop={'size': 8})\n",
        "plt.show()"
      ],
      "execution_count": 26,
      "outputs": [
        {
          "output_type": "display_data",
          "data": {
            "image/png": "[encoded data removed]",
            "text/plain": [
              "<Figure size 576x396 with 1 Axes>"
            ]
          },
          "metadata": {
            "tags": []
          }
        }
      ]
    },
    {
      "metadata": {
        "id": "xArHh1Z20DwS",
        "colab_type": "code",
        "colab": {
          "base_uri": "https://localhost:8080/",
          "height": 206
        },
        "outputId": "8c2f7aaa-df18-4c55-e937-fd0bce3c6db8"
      },
      "cell_type": "code",
      "source": [
        "#combine six distinct phases such that there are only three distinct phases. do this before subtracting adjacent CDFs.\n",
        "df = pd.read_csv('illinois_development_data.csv', index_col = 0, header = 0)\n",
        "df.index = pd.to_datetime(df.index)\n",
        "df = df.loc['2016-01-01':'2016-12-31']\n",
        "\n",
        "df['vegetative'] = df['PCT PLANTED'] + df['PCT SILKING']\n",
        "df['early_grain'] = df['PCT SILKING'] + df['PCT DOUGH']\n",
        "df['late_grain'] = df['PCT DOUGH'] + df['PCT MATURE'] \n",
        " \n",
        "df_combined = df[['vegetative', 'early_grain', 'late_grain']]\n",
        "df_combined.head()"
      ],
      "execution_count": 54,
      "outputs": [
        {
          "output_type": "execute_result",
          "data": {
            "text/html": [
              "<div>\n",
              "<style scoped>\n",
              "    .dataframe tbody tr th:only-of-type {\n",
              "        vertical-align: middle;\n",
              "    }\n",
              "\n",
              "    .dataframe tbody tr th {\n",
              "        vertical-align: top;\n",
              "    }\n",
              "\n",
              "    .dataframe thead th {\n",
              "        text-align: right;\n",
              "    }\n",
              "</style>\n",
              "<table border=\"1\" class=\"dataframe\">\n",
              "  <thead>\n",
              "    <tr style=\"text-align: right;\">\n",
              "      <th></th>\n",
              "      <th>vegetative</th>\n",
              "      <th>early_grain</th>\n",
              "      <th>late_grain</th>\n",
              "    </tr>\n",
              "  </thead>\n",
              "  <tbody>\n",
              "    <tr>\n",
              "      <th>2016-01-01</th>\n",
              "      <td>0.0</td>\n",
              "      <td>0.0</td>\n",
              "      <td>0.0</td>\n",
              "    </tr>\n",
              "    <tr>\n",
              "      <th>2016-01-02</th>\n",
              "      <td>0.0</td>\n",
              "      <td>0.0</td>\n",
              "      <td>0.0</td>\n",
              "    </tr>\n",
              "    <tr>\n",
              "      <th>2016-01-03</th>\n",
              "      <td>0.0</td>\n",
              "      <td>0.0</td>\n",
              "      <td>0.0</td>\n",
              "    </tr>\n",
              "    <tr>\n",
              "      <th>2016-01-04</th>\n",
              "      <td>0.0</td>\n",
              "      <td>0.0</td>\n",
              "      <td>0.0</td>\n",
              "    </tr>\n",
              "    <tr>\n",
              "      <th>2016-01-05</th>\n",
              "      <td>0.0</td>\n",
              "      <td>0.0</td>\n",
              "      <td>0.0</td>\n",
              "    </tr>\n",
              "  </tbody>\n",
              "</table>\n",
              "</div>"
            ],
            "text/plain": [
              "            vegetative  early_grain  late_grain\n",
              "2016-01-01         0.0          0.0         0.0\n",
              "2016-01-02         0.0          0.0         0.0\n",
              "2016-01-03         0.0          0.0         0.0\n",
              "2016-01-04         0.0          0.0         0.0\n",
              "2016-01-05         0.0          0.0         0.0"
            ]
          },
          "metadata": {
            "tags": []
          },
          "execution_count": 54
        }
      ]
    },
    {
      "metadata": {
        "id": "jBRn-q5_0lvv",
        "colab_type": "code",
        "colab": {
          "base_uri": "https://localhost:8080/",
          "height": 376
        },
        "outputId": "8ba61421-e830-4e2b-8407-5af4cf1143b1"
      },
      "cell_type": "code",
      "source": [
        "#use loop to plot new data frame\n",
        "for i in df_combined.columns:\n",
        "  dfp = copy.deepcopy(df_combined[[str(i)]])\n",
        "  \n",
        "  x = dfp.index\n",
        "  y = dfp[str(i)]\n",
        "\n",
        "  plt.plot(x,y.values,label = str(i))\n",
        "  \n",
        "plt.title('CROP DEVELOPMENT IN ILLINOIS')\n",
        "plt.xlabel('Date')\n",
        "plt.ylabel('% Crop')\n",
        "plt.legend(loc = 'upper left', prop={'size': 8})\n",
        "plt.show()"
      ],
      "execution_count": 45,
      "outputs": [
        {
          "output_type": "display_data",
          "data": {
            "image/png": "[encoded data removed]",
            "text/plain": [
              "<Figure size 576x396 with 1 Axes>"
            ]
          },
          "metadata": {
            "tags": []
          }
        }
      ]
    },
    {
      "metadata": {
        "id": "EZttSREA0pns",
        "colab_type": "code",
        "colab": {}
      },
      "cell_type": "code",
      "source": [
        "#subtract adjacent CDFs\n",
        "\n",
        "df_combined['vegetative_altered'] = df_combined['vegetative'] - df_combined['early_grain']\n",
        "\n",
        "df_combined['early_grain_altered'] = df_combined['early_grain'] - df_combined['late_grain']\n",
        "\n",
        "#df_combined['late_grain_altered'] = df['late_grain'] - df['early_grain']\n",
        "\n",
        "# #dented should be PCT DENTED - PCT MATURE\n",
        "# df['dented-mature'] = df['PCT DENTED'] - df['PCT MATURE']"
      ],
      "execution_count": 0,
      "outputs": []
    },
    {
      "metadata": {
        "id": "9fin_dsWFnjL",
        "colab_type": "code",
        "colab": {
          "base_uri": "https://localhost:8080/",
          "height": 376
        },
        "outputId": "0f392137-d6be-469d-8928-8c73ee8eeb01"
      },
      "cell_type": "code",
      "source": [
        "#use loop to plot new data frame. Problem: sum is greater than 100%.\n",
        "for i in df_combined.columns:\n",
        "  dfp = copy.deepcopy(df_combined[[str(i)]])\n",
        "  \n",
        "  x = dfp.index\n",
        "  y = dfp[str(i)]\n",
        "\n",
        "  plt.plot(x,y.values,label = str(i))\n",
        "  \n",
        "plt.title('CROP DEVELOPMENT IN ILLINOIS')\n",
        "plt.xlabel('Date')\n",
        "plt.ylabel('% Crop')\n",
        "plt.legend(loc = 'upper left', prop={'size': 8})\n",
        "plt.show()"
      ],
      "execution_count": 56,
      "outputs": [
        {
          "output_type": "display_data",
          "data": {
            "image/png": "[encoded data removed]",
            "text/plain": [
              "<Figure size 576x396 with 1 Axes>"
            ]
          },
          "metadata": {
            "tags": []
          }
        }
      ]
    },
    {
      "metadata": {
        "id": "hoV1UX8QF6dv",
        "colab_type": "code",
        "colab": {
          "base_uri": "https://localhost:8080/",
          "height": 206
        },
        "outputId": "351d50b1-4558-4158-f738-35d3ea29bf28"
      },
      "cell_type": "code",
      "source": [
        "df = pd.read_csv('illinois_development_data.csv', index_col = 0, header = 0)\n",
        "df.index = pd.to_datetime(df.index)\n",
        "df = df.loc['2016-01-01':'2016-12-31']\n",
        "\n",
        "#subtract adjacent CDFs first.\n",
        "\n",
        "#planted should be PCT PLANTED - PCT SILKING\n",
        "df['planted-silking'] = df['PCT PLANTED'] - df['PCT SILKING']\n",
        "\n",
        "#silking should be PCT SILKING - PCT DOUGH\n",
        "df['silking-dough'] = df['PCT SILKING'] - df['PCT DOUGH']\n",
        "\n",
        "#doughing should be PCT DOUGH - PCT DENTED\n",
        "df['dough-dented'] = df['PCT DOUGH'] - df['PCT DENTED']\n",
        "\n",
        "#dented should be PCT DENTED - PCT MATURE\n",
        "df['dented-mature'] = df['PCT DENTED'] - df['PCT MATURE']\n",
        "\n",
        "#now the phases into three.\n",
        "\n",
        "df['vegetative'] = df['planted-silking'] + df['silking-dough']\n",
        "df['early_grain'] = df['silking-dough'] + df['dough-dented']\n",
        "df['late_grain'] = df['dough-dented'] + df['PCT MATURE'] \n",
        " \n",
        "df_combined = df[['vegetative', 'early_grain', 'late_grain']]\n",
        "df_combined.head()"
      ],
      "execution_count": 57,
      "outputs": [
        {
          "output_type": "execute_result",
          "data": {
            "text/html": [
              "<div>\n",
              "<style scoped>\n",
              "    .dataframe tbody tr th:only-of-type {\n",
              "        vertical-align: middle;\n",
              "    }\n",
              "\n",
              "    .dataframe tbody tr th {\n",
              "        vertical-align: top;\n",
              "    }\n",
              "\n",
              "    .dataframe thead th {\n",
              "        text-align: right;\n",
              "    }\n",
              "</style>\n",
              "<table border=\"1\" class=\"dataframe\">\n",
              "  <thead>\n",
              "    <tr style=\"text-align: right;\">\n",
              "      <th></th>\n",
              "      <th>vegetative</th>\n",
              "      <th>early_grain</th>\n",
              "      <th>late_grain</th>\n",
              "    </tr>\n",
              "  </thead>\n",
              "  <tbody>\n",
              "    <tr>\n",
              "      <th>2016-01-01</th>\n",
              "      <td>0.0</td>\n",
              "      <td>0.0</td>\n",
              "      <td>0.0</td>\n",
              "    </tr>\n",
              "    <tr>\n",
              "      <th>2016-01-02</th>\n",
              "      <td>0.0</td>\n",
              "      <td>0.0</td>\n",
              "      <td>0.0</td>\n",
              "    </tr>\n",
              "    <tr>\n",
              "      <th>2016-01-03</th>\n",
              "      <td>0.0</td>\n",
              "      <td>0.0</td>\n",
              "      <td>0.0</td>\n",
              "    </tr>\n",
              "    <tr>\n",
              "      <th>2016-01-04</th>\n",
              "      <td>0.0</td>\n",
              "      <td>0.0</td>\n",
              "      <td>0.0</td>\n",
              "    </tr>\n",
              "    <tr>\n",
              "      <th>2016-01-05</th>\n",
              "      <td>0.0</td>\n",
              "      <td>0.0</td>\n",
              "      <td>0.0</td>\n",
              "    </tr>\n",
              "  </tbody>\n",
              "</table>\n",
              "</div>"
            ],
            "text/plain": [
              "            vegetative  early_grain  late_grain\n",
              "2016-01-01         0.0          0.0         0.0\n",
              "2016-01-02         0.0          0.0         0.0\n",
              "2016-01-03         0.0          0.0         0.0\n",
              "2016-01-04         0.0          0.0         0.0\n",
              "2016-01-05         0.0          0.0         0.0"
            ]
          },
          "metadata": {
            "tags": []
          },
          "execution_count": 57
        }
      ]
    },
    {
      "metadata": {
        "id": "nWyyMZDsJols",
        "colab_type": "code",
        "colab": {
          "base_uri": "https://localhost:8080/",
          "height": 376
        },
        "outputId": "f3ac9876-a8d4-4e22-e286-559a4013071e"
      },
      "cell_type": "code",
      "source": [
        "#use loop to plot new data frame. Problem: sums greater than 100, looks funny...\n",
        "for i in df_combined.columns:\n",
        "  dfp = copy.deepcopy(df_combined[[str(i)]])\n",
        "  \n",
        "  x = dfp.index\n",
        "  y = dfp[str(i)]\n",
        "\n",
        "  plt.plot(x,y.values,label = str(i))\n",
        "  \n",
        "plt.title('CROP DEVELOPMENT IN ILLINOIS')\n",
        "plt.xlabel('Date')\n",
        "plt.ylabel('% Crop')\n",
        "plt.legend(loc = 'upper left', prop={'size': 8})\n",
        "plt.show()"
      ],
      "execution_count": 58,
      "outputs": [
        {
          "output_type": "display_data",
          "data": {
            "image/png": "[encoded data removed]",
            "text/plain": [
              "<Figure size 576x396 with 1 Axes>"
            ]
          },
          "metadata": {
            "tags": []
          }
        }
      ]
    },
    {
      "metadata": {
        "id": "YqZ9ibvPJtAN",
        "colab_type": "code",
        "colab": {}
      },
      "cell_type": "code",
      "source": [
        ""
      ],
      "execution_count": 0,
      "outputs": []
    }
  ]
}