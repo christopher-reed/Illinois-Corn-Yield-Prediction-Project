{
  "nbformat": 4,
  "nbformat_minor": 0,
  "metadata": {
    "colab": {
      "name": "interpolate develoment data",
      "version": "0.3.2",
      "provenance": [],
      "collapsed_sections": []
    },
    "kernelspec": {
      "name": "python3",
      "display_name": "Python 3"
    }
  },
  "cells": [
    {
      "metadata": {
        "id": "Ejeu3_ffa4s7",
        "colab_type": "code",
        "colab": {}
      },
      "cell_type": "code",
      "source": [
        "import pandas as pd\n",
        "import numpy as np\n",
        "import requests, json\n",
        "\n",
        "api_key = '70D413B2-0123-3524-9634-F730BE441009' \n",
        "\n",
        "#years used in study\n",
        "years = map(str,range(1981,2018))\n",
        "\n",
        "#states used in study\n",
        "states = ['IL','IN','IA','KS','KY','MI','MO','NE','OH','SD','WI']\n",
        "\n",
        "payload = {'key':api_key,\n",
        "          'source_desc':'SURVEY', \n",
        "           'sector_desc':'CROPS',\n",
        "           'group_desc':'FIELD CROPS',\n",
        "           'commodity_desc':'CORN', \n",
        "           'util_practice_desc':'ALL UTILIZATION PRACTICES', \n",
        "           'statisticcat_desc':'PROGRESS',\n",
        "           'domain_desc':'TOTAL', \n",
        "           'state_alpha':states,\n",
        "           'year':years,\n",
        "           'format':'JSON'}\n",
        "\n",
        "#disable copy of slice warning\n",
        "pd.options.mode.chained_assignment = None  # default='warn'"
      ],
      "execution_count": 0,
      "outputs": []
    },
    {
      "metadata": {
        "id": "sW--hIxAa8Ml",
        "colab_type": "code",
        "colab": {}
      },
      "cell_type": "code",
      "source": [
        "#df will contain Dented, Dough, Emerged, Mature, Planted, Silking\n",
        "r = requests.get('http://quickstats.nass.usda.gov/api/api_GET/?key='+api_key,params=payload)\n",
        "df = pd.read_json(json.dumps(r.json()),orient='split')"
      ],
      "execution_count": 0,
      "outputs": []
    },
    {
      "metadata": {
        "id": "8Z8WmWZLa9Dk",
        "colab_type": "code",
        "colab": {}
      },
      "cell_type": "code",
      "source": [
        "#Still need harvested phase so change payload to grain which will allow us to access it\n",
        "payload['util_practice_desc'] = 'GRAIN'\n",
        "r = requests.get('http://quickstats.nass.usda.gov/api/api_GET/?key='+api_key,params=payload)\n",
        "dfG = pd.read_json(json.dumps(r.json()),orient='split')"
      ],
      "execution_count": 0,
      "outputs": []
    },
    {
      "metadata": {
        "id": "KUokCamjbQZD",
        "colab_type": "code",
        "colab": {}
      },
      "cell_type": "code",
      "source": [
        "#concatenate the two dataframes together because dfG contains that percent harvested while df contains all other phases\n",
        "#save the raw data incase the gov't shuts down...\n",
        "df = pd.concat([df,dfG])\n",
        "df.to_excel('progress_data_raw.xlsx')\n",
        "df.to_csv('progress_data_raw.csv')"
      ],
      "execution_count": 0,
      "outputs": []
    },
    {
      "metadata": {
        "id": "dkjDm8ZMIicV",
        "colab_type": "code",
        "colab": {}
      },
      "cell_type": "code",
      "source": [
        "#use the saved csv\n",
        "df = pd.read_csv('progress_data_raw.csv')"
      ],
      "execution_count": 0,
      "outputs": []
    },
    {
      "metadata": {
        "id": "UGMS-5HUj55c",
        "colab_type": "code",
        "colab": {}
      },
      "cell_type": "code",
      "source": [
        "#Select state and phase\n",
        "df = df[df.state_name == 'ILLINOIS']\n",
        "pl = df['unit_desc'] == 'PCT PLANTED'\n",
        "dfp = df[['week_ending','Value']][pl]"
      ],
      "execution_count": 0,
      "outputs": []
    },
    {
      "metadata": {
        "id": "qewXqpzkoODO",
        "colab_type": "code",
        "outputId": "4343eac9-63ee-4435-c01f-f4f6b11e532c",
        "colab": {
          "base_uri": "https://localhost:8080/",
          "height": 363
        }
      },
      "cell_type": "code",
      "source": [
        "#This is what unedited df looks like. Dates and values only once per week. Want to change this so have a value every day of the week.\n",
        "dfp.head(10)"
      ],
      "execution_count": 0,
      "outputs": [
        {
          "output_type": "execute_result",
          "data": {
            "text/html": [
              "<div>\n",
              "<style scoped>\n",
              "    .dataframe tbody tr th:only-of-type {\n",
              "        vertical-align: middle;\n",
              "    }\n",
              "\n",
              "    .dataframe tbody tr th {\n",
              "        vertical-align: top;\n",
              "    }\n",
              "\n",
              "    .dataframe thead th {\n",
              "        text-align: right;\n",
              "    }\n",
              "</style>\n",
              "<table border=\"1\" class=\"dataframe\">\n",
              "  <thead>\n",
              "    <tr style=\"text-align: right;\">\n",
              "      <th></th>\n",
              "      <th>week_ending</th>\n",
              "      <th>Value</th>\n",
              "    </tr>\n",
              "  </thead>\n",
              "  <tbody>\n",
              "    <tr>\n",
              "      <th>11182</th>\n",
              "      <td>2018-04-01</td>\n",
              "      <td>0</td>\n",
              "    </tr>\n",
              "    <tr>\n",
              "      <th>11183</th>\n",
              "      <td>2018-04-08</td>\n",
              "      <td>0</td>\n",
              "    </tr>\n",
              "    <tr>\n",
              "      <th>11184</th>\n",
              "      <td>2018-04-15</td>\n",
              "      <td>0</td>\n",
              "    </tr>\n",
              "    <tr>\n",
              "      <th>11185</th>\n",
              "      <td>2018-04-22</td>\n",
              "      <td>4</td>\n",
              "    </tr>\n",
              "    <tr>\n",
              "      <th>11186</th>\n",
              "      <td>2018-04-29</td>\n",
              "      <td>32</td>\n",
              "    </tr>\n",
              "    <tr>\n",
              "      <th>11187</th>\n",
              "      <td>2018-05-06</td>\n",
              "      <td>74</td>\n",
              "    </tr>\n",
              "    <tr>\n",
              "      <th>11188</th>\n",
              "      <td>2018-05-13</td>\n",
              "      <td>90</td>\n",
              "    </tr>\n",
              "    <tr>\n",
              "      <th>11189</th>\n",
              "      <td>2018-05-20</td>\n",
              "      <td>96</td>\n",
              "    </tr>\n",
              "    <tr>\n",
              "      <th>11190</th>\n",
              "      <td>2018-05-27</td>\n",
              "      <td>100</td>\n",
              "    </tr>\n",
              "    <tr>\n",
              "      <th>11191</th>\n",
              "      <td>2018-06-03</td>\n",
              "      <td>100</td>\n",
              "    </tr>\n",
              "  </tbody>\n",
              "</table>\n",
              "</div>"
            ],
            "text/plain": [
              "      week_ending  Value\n",
              "11182  2018-04-01      0\n",
              "11183  2018-04-08      0\n",
              "11184  2018-04-15      0\n",
              "11185  2018-04-22      4\n",
              "11186  2018-04-29     32\n",
              "11187  2018-05-06     74\n",
              "11188  2018-05-13     90\n",
              "11189  2018-05-20     96\n",
              "11190  2018-05-27    100\n",
              "11191  2018-06-03    100"
            ]
          },
          "metadata": {
            "tags": []
          },
          "execution_count": 8
        }
      ]
    },
    {
      "metadata": {
        "id": "FEWve1IE4BaK",
        "colab_type": "code",
        "outputId": "246b087a-9185-4e3e-ad50-d0a2783a30c6",
        "colab": {
          "base_uri": "https://localhost:8080/",
          "height": 81
        }
      },
      "cell_type": "code",
      "source": [
        "#sanity check to see if picked out state and phase correctly. should return only one value.\n",
        "dfp[dfp.week_ending == '2017-04-09']"
      ],
      "execution_count": 0,
      "outputs": [
        {
          "output_type": "execute_result",
          "data": {
            "text/html": [
              "<div>\n",
              "<style scoped>\n",
              "    .dataframe tbody tr th:only-of-type {\n",
              "        vertical-align: middle;\n",
              "    }\n",
              "\n",
              "    .dataframe tbody tr th {\n",
              "        vertical-align: top;\n",
              "    }\n",
              "\n",
              "    .dataframe thead th {\n",
              "        text-align: right;\n",
              "    }\n",
              "</style>\n",
              "<table border=\"1\" class=\"dataframe\">\n",
              "  <thead>\n",
              "    <tr style=\"text-align: right;\">\n",
              "      <th></th>\n",
              "      <th>week_ending</th>\n",
              "      <th>Value</th>\n",
              "    </tr>\n",
              "  </thead>\n",
              "  <tbody>\n",
              "    <tr>\n",
              "      <th>11193</th>\n",
              "      <td>2017-04-09</td>\n",
              "      <td>1</td>\n",
              "    </tr>\n",
              "  </tbody>\n",
              "</table>\n",
              "</div>"
            ],
            "text/plain": [
              "      week_ending  Value\n",
              "11193  2017-04-09      1"
            ]
          },
          "metadata": {
            "tags": []
          },
          "execution_count": 9
        }
      ]
    },
    {
      "metadata": {
        "id": "sfzLBlOYlIeX",
        "colab_type": "code",
        "outputId": "0cd66ec9-1d65-45f5-af1b-0b62ba604da8",
        "colab": {
          "base_uri": "https://localhost:8080/",
          "height": 394
        }
      },
      "cell_type": "code",
      "source": [
        "#convert week_ending column to datetime format. set year to index.\n",
        "dfp.week_ending = pd.to_datetime(dfp.week_ending, format = '%Y-%m-%d')\n",
        "dfp.set_index('week_ending', inplace = True)\n",
        "dfp.head(10)"
      ],
      "execution_count": 0,
      "outputs": [
        {
          "output_type": "execute_result",
          "data": {
            "text/html": [
              "<div>\n",
              "<style scoped>\n",
              "    .dataframe tbody tr th:only-of-type {\n",
              "        vertical-align: middle;\n",
              "    }\n",
              "\n",
              "    .dataframe tbody tr th {\n",
              "        vertical-align: top;\n",
              "    }\n",
              "\n",
              "    .dataframe thead th {\n",
              "        text-align: right;\n",
              "    }\n",
              "</style>\n",
              "<table border=\"1\" class=\"dataframe\">\n",
              "  <thead>\n",
              "    <tr style=\"text-align: right;\">\n",
              "      <th></th>\n",
              "      <th>Value</th>\n",
              "    </tr>\n",
              "    <tr>\n",
              "      <th>week_ending</th>\n",
              "      <th></th>\n",
              "    </tr>\n",
              "  </thead>\n",
              "  <tbody>\n",
              "    <tr>\n",
              "      <th>2018-04-01</th>\n",
              "      <td>0</td>\n",
              "    </tr>\n",
              "    <tr>\n",
              "      <th>2018-04-08</th>\n",
              "      <td>0</td>\n",
              "    </tr>\n",
              "    <tr>\n",
              "      <th>2018-04-15</th>\n",
              "      <td>0</td>\n",
              "    </tr>\n",
              "    <tr>\n",
              "      <th>2018-04-22</th>\n",
              "      <td>4</td>\n",
              "    </tr>\n",
              "    <tr>\n",
              "      <th>2018-04-29</th>\n",
              "      <td>32</td>\n",
              "    </tr>\n",
              "    <tr>\n",
              "      <th>2018-05-06</th>\n",
              "      <td>74</td>\n",
              "    </tr>\n",
              "    <tr>\n",
              "      <th>2018-05-13</th>\n",
              "      <td>90</td>\n",
              "    </tr>\n",
              "    <tr>\n",
              "      <th>2018-05-20</th>\n",
              "      <td>96</td>\n",
              "    </tr>\n",
              "    <tr>\n",
              "      <th>2018-05-27</th>\n",
              "      <td>100</td>\n",
              "    </tr>\n",
              "    <tr>\n",
              "      <th>2018-06-03</th>\n",
              "      <td>100</td>\n",
              "    </tr>\n",
              "  </tbody>\n",
              "</table>\n",
              "</div>"
            ],
            "text/plain": [
              "             Value\n",
              "week_ending       \n",
              "2018-04-01       0\n",
              "2018-04-08       0\n",
              "2018-04-15       0\n",
              "2018-04-22       4\n",
              "2018-04-29      32\n",
              "2018-05-06      74\n",
              "2018-05-13      90\n",
              "2018-05-20      96\n",
              "2018-05-27     100\n",
              "2018-06-03     100"
            ]
          },
          "metadata": {
            "tags": []
          },
          "execution_count": 10
        }
      ]
    },
    {
      "metadata": {
        "id": "knaBe4YcmgOo",
        "colab_type": "code",
        "outputId": "db66fc28-655c-4079-fc01-fe17ad714669",
        "colab": {
          "base_uri": "https://localhost:8080/",
          "height": 363
        }
      },
      "cell_type": "code",
      "source": [
        "#locate a specific year\n",
        "#assume 0% progress at start of each year for each phase and 100% progress at end of each year for each phase\n",
        "df_2017 = dfp.loc['2017']\n",
        "df_2017.iloc[0,0] = 0\n",
        "df_2017.iloc[-1] = 100\n",
        "df_2017"
      ],
      "execution_count": 0,
      "outputs": [
        {
          "output_type": "execute_result",
          "data": {
            "text/html": [
              "<div>\n",
              "<style scoped>\n",
              "    .dataframe tbody tr th:only-of-type {\n",
              "        vertical-align: middle;\n",
              "    }\n",
              "\n",
              "    .dataframe tbody tr th {\n",
              "        vertical-align: top;\n",
              "    }\n",
              "\n",
              "    .dataframe thead th {\n",
              "        text-align: right;\n",
              "    }\n",
              "</style>\n",
              "<table border=\"1\" class=\"dataframe\">\n",
              "  <thead>\n",
              "    <tr style=\"text-align: right;\">\n",
              "      <th></th>\n",
              "      <th>Value</th>\n",
              "    </tr>\n",
              "    <tr>\n",
              "      <th>week_ending</th>\n",
              "      <th></th>\n",
              "    </tr>\n",
              "  </thead>\n",
              "  <tbody>\n",
              "    <tr>\n",
              "      <th>2017-04-09</th>\n",
              "      <td>0</td>\n",
              "    </tr>\n",
              "    <tr>\n",
              "      <th>2017-04-16</th>\n",
              "      <td>6</td>\n",
              "    </tr>\n",
              "    <tr>\n",
              "      <th>2017-04-23</th>\n",
              "      <td>34</td>\n",
              "    </tr>\n",
              "    <tr>\n",
              "      <th>2017-04-30</th>\n",
              "      <td>63</td>\n",
              "    </tr>\n",
              "    <tr>\n",
              "      <th>2017-05-07</th>\n",
              "      <td>65</td>\n",
              "    </tr>\n",
              "    <tr>\n",
              "      <th>2017-05-14</th>\n",
              "      <td>75</td>\n",
              "    </tr>\n",
              "    <tr>\n",
              "      <th>2017-05-21</th>\n",
              "      <td>89</td>\n",
              "    </tr>\n",
              "    <tr>\n",
              "      <th>2017-05-28</th>\n",
              "      <td>93</td>\n",
              "    </tr>\n",
              "    <tr>\n",
              "      <th>2017-06-04</th>\n",
              "      <td>100</td>\n",
              "    </tr>\n",
              "  </tbody>\n",
              "</table>\n",
              "</div>"
            ],
            "text/plain": [
              "             Value\n",
              "week_ending       \n",
              "2017-04-09       0\n",
              "2017-04-16       6\n",
              "2017-04-23      34\n",
              "2017-04-30      63\n",
              "2017-05-07      65\n",
              "2017-05-14      75\n",
              "2017-05-21      89\n",
              "2017-05-28      93\n",
              "2017-06-04     100"
            ]
          },
          "metadata": {
            "tags": []
          },
          "execution_count": 36
        }
      ]
    },
    {
      "metadata": {
        "id": "fPFROap44rLP",
        "colab_type": "code",
        "outputId": "89e4208e-ca40-4b16-8399-b3e2ffbc49a2",
        "colab": {
          "base_uri": "https://localhost:8080/",
          "height": 414
        }
      },
      "cell_type": "code",
      "source": [
        "#visualize the progress \n",
        "df_2017.plot()"
      ],
      "execution_count": 0,
      "outputs": [
        {
          "output_type": "execute_result",
          "data": {
            "text/plain": [
              "<matplotlib.axes._subplots.AxesSubplot at 0x7f457c5c56d8>"
            ]
          },
          "metadata": {
            "tags": []
          },
          "execution_count": 18
        },
        {
          "output_type": "display_data",
          "data": {
            "image/png": "[encoded data removed]",
            "text/plain": [
              "<Figure size 576x396 with 1 Axes>"
            ]
          },
          "metadata": {
            "tags": []
          }
        }
      ]
    },
    {
      "metadata": {
        "id": "gnpjuqwB6iIs",
        "colab_type": "code",
        "outputId": "9da3c779-c60c-48dc-c683-b62293a08469",
        "colab": {
          "base_uri": "https://localhost:8080/",
          "height": 799
        }
      },
      "cell_type": "code",
      "source": [
        "#resample so we now have daily data ('D'). should see a lot of NaN because still need to interpolate Value column\n",
        "resampled_dfp = df_2017.resample('D')\n",
        "resampled_dfp.head(20)"
      ],
      "execution_count": 0,
      "outputs": [
        {
          "output_type": "stream",
          "text": [
            "/usr/local/lib/python3.6/dist-packages/ipykernel_launcher.py:2: FutureWarning: \n",
            ".resample() is now a deferred operation\n",
            "You called head(...) on this deferred object which materialized it into a dataframe\n",
            "by implicitly taking the mean.  Use .resample(...).mean() instead\n",
            "  \n"
          ],
          "name": "stderr"
        },
        {
          "output_type": "execute_result",
          "data": {
            "text/html": [
              "<div>\n",
              "<style scoped>\n",
              "    .dataframe tbody tr th:only-of-type {\n",
              "        vertical-align: middle;\n",
              "    }\n",
              "\n",
              "    .dataframe tbody tr th {\n",
              "        vertical-align: top;\n",
              "    }\n",
              "\n",
              "    .dataframe thead th {\n",
              "        text-align: right;\n",
              "    }\n",
              "</style>\n",
              "<table border=\"1\" class=\"dataframe\">\n",
              "  <thead>\n",
              "    <tr style=\"text-align: right;\">\n",
              "      <th></th>\n",
              "      <th>Value</th>\n",
              "    </tr>\n",
              "    <tr>\n",
              "      <th>week_ending</th>\n",
              "      <th></th>\n",
              "    </tr>\n",
              "  </thead>\n",
              "  <tbody>\n",
              "    <tr>\n",
              "      <th>2017-04-09</th>\n",
              "      <td>1.0</td>\n",
              "    </tr>\n",
              "    <tr>\n",
              "      <th>2017-04-10</th>\n",
              "      <td>NaN</td>\n",
              "    </tr>\n",
              "    <tr>\n",
              "      <th>2017-04-11</th>\n",
              "      <td>NaN</td>\n",
              "    </tr>\n",
              "    <tr>\n",
              "      <th>2017-04-12</th>\n",
              "      <td>NaN</td>\n",
              "    </tr>\n",
              "    <tr>\n",
              "      <th>2017-04-13</th>\n",
              "      <td>NaN</td>\n",
              "    </tr>\n",
              "    <tr>\n",
              "      <th>2017-04-14</th>\n",
              "      <td>NaN</td>\n",
              "    </tr>\n",
              "    <tr>\n",
              "      <th>2017-04-15</th>\n",
              "      <td>NaN</td>\n",
              "    </tr>\n",
              "    <tr>\n",
              "      <th>2017-04-16</th>\n",
              "      <td>6.0</td>\n",
              "    </tr>\n",
              "    <tr>\n",
              "      <th>2017-04-17</th>\n",
              "      <td>NaN</td>\n",
              "    </tr>\n",
              "    <tr>\n",
              "      <th>2017-04-18</th>\n",
              "      <td>NaN</td>\n",
              "    </tr>\n",
              "    <tr>\n",
              "      <th>2017-04-19</th>\n",
              "      <td>NaN</td>\n",
              "    </tr>\n",
              "    <tr>\n",
              "      <th>2017-04-20</th>\n",
              "      <td>NaN</td>\n",
              "    </tr>\n",
              "    <tr>\n",
              "      <th>2017-04-21</th>\n",
              "      <td>NaN</td>\n",
              "    </tr>\n",
              "    <tr>\n",
              "      <th>2017-04-22</th>\n",
              "      <td>NaN</td>\n",
              "    </tr>\n",
              "    <tr>\n",
              "      <th>2017-04-23</th>\n",
              "      <td>34.0</td>\n",
              "    </tr>\n",
              "    <tr>\n",
              "      <th>2017-04-24</th>\n",
              "      <td>NaN</td>\n",
              "    </tr>\n",
              "    <tr>\n",
              "      <th>2017-04-25</th>\n",
              "      <td>NaN</td>\n",
              "    </tr>\n",
              "    <tr>\n",
              "      <th>2017-04-26</th>\n",
              "      <td>NaN</td>\n",
              "    </tr>\n",
              "    <tr>\n",
              "      <th>2017-04-27</th>\n",
              "      <td>NaN</td>\n",
              "    </tr>\n",
              "    <tr>\n",
              "      <th>2017-04-28</th>\n",
              "      <td>NaN</td>\n",
              "    </tr>\n",
              "  </tbody>\n",
              "</table>\n",
              "</div>"
            ],
            "text/plain": [
              "             Value\n",
              "week_ending       \n",
              "2017-04-09     1.0\n",
              "2017-04-10     NaN\n",
              "2017-04-11     NaN\n",
              "2017-04-12     NaN\n",
              "2017-04-13     NaN\n",
              "2017-04-14     NaN\n",
              "2017-04-15     NaN\n",
              "2017-04-16     6.0\n",
              "2017-04-17     NaN\n",
              "2017-04-18     NaN\n",
              "2017-04-19     NaN\n",
              "2017-04-20     NaN\n",
              "2017-04-21     NaN\n",
              "2017-04-22     NaN\n",
              "2017-04-23    34.0\n",
              "2017-04-24     NaN\n",
              "2017-04-25     NaN\n",
              "2017-04-26     NaN\n",
              "2017-04-27     NaN\n",
              "2017-04-28     NaN"
            ]
          },
          "metadata": {
            "tags": []
          },
          "execution_count": 13
        }
      ]
    },
    {
      "metadata": {
        "id": "YeIfUDg07CfS",
        "colab_type": "code",
        "outputId": "05c01ab0-807f-4fda-a9f4-1e9a12b74ce3",
        "colab": {
          "base_uri": "https://localhost:8080/",
          "height": 417
        }
      },
      "cell_type": "code",
      "source": [
        "#use linear interpolation to get daily Values\n",
        "interpolated = resampled_dfp.interpolate(method = 'linear')\n",
        "print(interpolated.head(20))"
      ],
      "execution_count": 0,
      "outputs": [
        {
          "output_type": "stream",
          "text": [
            "                 Value\n",
            "week_ending           \n",
            "2017-04-09    1.000000\n",
            "2017-04-10    1.714286\n",
            "2017-04-11    2.428571\n",
            "2017-04-12    3.142857\n",
            "2017-04-13    3.857143\n",
            "2017-04-14    4.571429\n",
            "2017-04-15    5.285714\n",
            "2017-04-16    6.000000\n",
            "2017-04-17   10.000000\n",
            "2017-04-18   14.000000\n",
            "2017-04-19   18.000000\n",
            "2017-04-20   22.000000\n",
            "2017-04-21   26.000000\n",
            "2017-04-22   30.000000\n",
            "2017-04-23   34.000000\n",
            "2017-04-24   38.142857\n",
            "2017-04-25   42.285714\n",
            "2017-04-26   46.428571\n",
            "2017-04-27   50.571429\n",
            "2017-04-28   54.714286\n"
          ],
          "name": "stdout"
        }
      ]
    },
    {
      "metadata": {
        "id": "HlOuSlsBJrB8",
        "colab_type": "code",
        "colab": {}
      },
      "cell_type": "code",
      "source": [
        "#Now we need to figure out how to do this for EVERY YEAR in a specific phase in Illinois"
      ],
      "execution_count": 0,
      "outputs": []
    },
    {
      "metadata": {
        "colab_type": "code",
        "id": "oc90_MecZbGk",
        "colab": {}
      },
      "cell_type": "code",
      "source": [
        "#use the saved csv\n",
        "df = pd.read_csv('progress_data_raw.csv')\n",
        "\n",
        "#select state and phase\n",
        "df = df[df.state_name == 'ILLINOIS']\n",
        "pl = df['unit_desc'] == 'PCT PLANTED'\n",
        "dfp = df[['week_ending','Value']][pl]\n",
        "\n",
        "#convert week_ending column to datetime format. set year to index.\n",
        "dfp.week_ending = pd.to_datetime(dfp.week_ending, format = '%Y-%m-%d')\n",
        "dfp.set_index('week_ending', inplace = True)\n",
        "\n",
        "#find all the unique years\n",
        "yrs = list(dfp.index.year.unique())\n",
        "\n",
        "df_all = pd.DataFrame()\n",
        "for y in yrs:\n",
        "  df_year = dfp.loc[str(y)]\n",
        "  df_year.iloc[0,0] = 0\n",
        "  df_year.iloc[-1] = 100\n",
        "  \n",
        "  resampled_dfp = df_year.resample('D')\n",
        "  interpolated_dfp = resampled_dfp.interpolate(method = 'linear')\n",
        "  \n",
        "  df_all = pd.concat([df_all, interpolated_dfp], axis = 0)"
      ],
      "execution_count": 0,
      "outputs": []
    },
    {
      "metadata": {
        "id": "Mroens-cU6yw",
        "colab_type": "code",
        "colab": {}
      },
      "cell_type": "code",
      "source": [
        "#Now we need to figure out how to do this for every year in EVERY PHASE in Illinois"
      ],
      "execution_count": 0,
      "outputs": []
    },
    {
      "metadata": {
        "id": "iHccsvmNVMXu",
        "colab_type": "code",
        "colab": {
          "base_uri": "https://localhost:8080/",
          "height": 108
        },
        "outputId": "4e9df2ec-c0b8-485c-a063-53085e6045a4"
      },
      "cell_type": "code",
      "source": [
        "#use the saved csv\n",
        "df = pd.read_csv('progress_data_raw.csv')\n",
        "df = df[df.state_name == 'ILLINOIS']\n",
        "\n",
        "#list all the phases\n",
        "phase = ['PCT PLANTED', 'PCT SILKING', 'PCT DOUGH','PCT DENTED', 'PCT MATURE'] #removed PCT HARVESTED b/c duplicate dates\n",
        "\n",
        "df_all_phases_all_years = pd.DataFrame()\n",
        "\n",
        "for p in phase:\n",
        "  pl = df['unit_desc'] == p\n",
        "  dfp = df[['week_ending','Value']][pl]\n",
        "  \n",
        "  dfp.week_ending = pd.to_datetime(dfp.week_ending, format = '%Y-%m-%d')\n",
        "  dfp.set_index('week_ending', inplace = True)\n",
        "  \n",
        "  yrs = list(dfp.index.year.unique())\n",
        "  \n",
        "  df_specific_phase_all_years = pd.DataFrame() #prime the empty dataframe to collect specific phase data for every year\n",
        "  \n",
        "  for y in yrs:\n",
        "    df_year = dfp.loc[str(y)]\n",
        "    df_year.iloc[0,0] = 0\n",
        "    df_year.iloc[-1,0] = 100\n",
        "  \n",
        "    resampled_dfp = df_year.resample('D')\n",
        "    interpolated_dfp = resampled_dfp.interpolate(method = 'linear')\n",
        "  \n",
        "    df_specific_phase_all_years = pd.concat([df_specific_phase_all_years, interpolated_dfp], axis = 0)\n",
        "    \n",
        "  df_all_phases_all_years = pd.concat([df_all_phases_all_years, df_specific_phase_all_years], axis = 1)\n",
        "  \n",
        "  print(p)\n",
        "  \n",
        "df_all_phases_all_years.columns = ['PCT PLANTED', 'PCT SILKING', 'PCT DOUGH', 'PCT DENTED', 'PCT MATURE'] #still missing harvested"
      ],
      "execution_count": 121,
      "outputs": [
        {
          "output_type": "stream",
          "text": [
            "PCT PLANTED\n",
            "PCT SILKING\n",
            "PCT DOUGH\n",
            "PCT DENTED\n",
            "PCT MATURE\n"
          ],
          "name": "stdout"
        }
      ]
    },
    {
      "metadata": {
        "id": "LYlWDEMf07YO",
        "colab_type": "code",
        "colab": {
          "base_uri": "https://localhost:8080/",
          "height": 237
        },
        "outputId": "ba09e071-8c14-4362-ead5-5b9c40cc1636"
      },
      "cell_type": "code",
      "source": [
        "#should see a lot of NaN b/c not all phases have data for the same dates\n",
        "df_all_phases_all_years.head()"
      ],
      "execution_count": 123,
      "outputs": [
        {
          "output_type": "execute_result",
          "data": {
            "text/html": [
              "<div>\n",
              "<style scoped>\n",
              "    .dataframe tbody tr th:only-of-type {\n",
              "        vertical-align: middle;\n",
              "    }\n",
              "\n",
              "    .dataframe tbody tr th {\n",
              "        vertical-align: top;\n",
              "    }\n",
              "\n",
              "    .dataframe thead th {\n",
              "        text-align: right;\n",
              "    }\n",
              "</style>\n",
              "<table border=\"1\" class=\"dataframe\">\n",
              "  <thead>\n",
              "    <tr style=\"text-align: right;\">\n",
              "      <th></th>\n",
              "      <th>PCT PLANTED</th>\n",
              "      <th>PCT SILKING</th>\n",
              "      <th>PCT DOUGH</th>\n",
              "      <th>PCT DENTED</th>\n",
              "      <th>PCT MATURE</th>\n",
              "    </tr>\n",
              "    <tr>\n",
              "      <th>week_ending</th>\n",
              "      <th></th>\n",
              "      <th></th>\n",
              "      <th></th>\n",
              "      <th></th>\n",
              "      <th></th>\n",
              "    </tr>\n",
              "  </thead>\n",
              "  <tbody>\n",
              "    <tr>\n",
              "      <th>1979-04-29</th>\n",
              "      <td>0.000000</td>\n",
              "      <td>NaN</td>\n",
              "      <td>NaN</td>\n",
              "      <td>NaN</td>\n",
              "      <td>NaN</td>\n",
              "    </tr>\n",
              "    <tr>\n",
              "      <th>1979-04-30</th>\n",
              "      <td>0.571429</td>\n",
              "      <td>NaN</td>\n",
              "      <td>NaN</td>\n",
              "      <td>NaN</td>\n",
              "      <td>NaN</td>\n",
              "    </tr>\n",
              "    <tr>\n",
              "      <th>1979-05-01</th>\n",
              "      <td>1.142857</td>\n",
              "      <td>NaN</td>\n",
              "      <td>NaN</td>\n",
              "      <td>NaN</td>\n",
              "      <td>NaN</td>\n",
              "    </tr>\n",
              "    <tr>\n",
              "      <th>1979-05-02</th>\n",
              "      <td>1.714286</td>\n",
              "      <td>NaN</td>\n",
              "      <td>NaN</td>\n",
              "      <td>NaN</td>\n",
              "      <td>NaN</td>\n",
              "    </tr>\n",
              "    <tr>\n",
              "      <th>1979-05-03</th>\n",
              "      <td>2.285714</td>\n",
              "      <td>NaN</td>\n",
              "      <td>NaN</td>\n",
              "      <td>NaN</td>\n",
              "      <td>NaN</td>\n",
              "    </tr>\n",
              "  </tbody>\n",
              "</table>\n",
              "</div>"
            ],
            "text/plain": [
              "             PCT PLANTED  PCT SILKING  PCT DOUGH  PCT DENTED  PCT MATURE\n",
              "week_ending                                                             \n",
              "1979-04-29      0.000000          NaN        NaN         NaN         NaN\n",
              "1979-04-30      0.571429          NaN        NaN         NaN         NaN\n",
              "1979-05-01      1.142857          NaN        NaN         NaN         NaN\n",
              "1979-05-02      1.714286          NaN        NaN         NaN         NaN\n",
              "1979-05-03      2.285714          NaN        NaN         NaN         NaN"
            ]
          },
          "metadata": {
            "tags": []
          },
          "execution_count": 123
        }
      ]
    },
    {
      "metadata": {
        "id": "kalKsXvZpSy4",
        "colab_type": "code",
        "colab": {}
      },
      "cell_type": "code",
      "source": [
        "#Next step is to do this for every year in every phase in EVERY STATE"
      ],
      "execution_count": 0,
      "outputs": []
    }
  ]
}