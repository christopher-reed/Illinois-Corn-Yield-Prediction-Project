{
  "nbformat": 4,
  "nbformat_minor": 0,
  "metadata": {
    "colab": {
      "name": "harvested_area_data",
      "version": "0.3.2",
      "provenance": []
    },
    "kernelspec": {
      "name": "python3",
      "display_name": "Python 3"
    }
  },
  "cells": [
    {
      "metadata": {
        "id": "Q-wm1VXDne8p",
        "colab_type": "code",
        "colab": {}
      },
      "cell_type": "code",
      "source": [
        "import pandas as pd\n",
        "import numpy as np\n",
        "import requests, json\n",
        "\n",
        "api_key = '70D413B2-0123-3524-9634-F730BE441009' \n",
        "\n",
        "#years used in study\n",
        "years = map(str,range(1981,2018))\n",
        "\n",
        "#states used in study\n",
        "states = ['IL','IN','IA','KS','KY','MI','MO','NE','OH','SD','WI']\n",
        "\n",
        "payload = {'key':api_key,\n",
        "          'source_desc':'CENSUS', \n",
        "           'sector_desc':'CROPS',\n",
        "           'group_desc':'FIELD CROPS',\n",
        "           'commodity_desc':'CORN', \n",
        "           'util_practice_desc':'GRAIN', \n",
        "           'unit_desc':'ACRES',\n",
        "           'statisticcat_desc':'AREA HARVESTED',\n",
        "           'domain_desc':'TOTAL',\n",
        "           'prodn_practice_desc':'ALL PRODUCTION PRACTICES',\n",
        "           'agg_level_desc':'COUNTY', \n",
        "           'state_alpha':states,\n",
        "           'year':years,\n",
        "           'format':'JSON'}"
      ],
      "execution_count": 0,
      "outputs": []
    },
    {
      "metadata": {
        "id": "WpFnsRJJn78Q",
        "colab_type": "code",
        "colab": {}
      },
      "cell_type": "code",
      "source": [
        "r = requests.get('http://quickstats.nass.usda.gov/api/api_GET/?key='+api_key,params=payload)\n",
        "df = pd.read_json(json.dumps(r.json()),orient='split') "
      ],
      "execution_count": 0,
      "outputs": []
    },
    {
      "metadata": {
        "id": "czrYKAY-oCV3",
        "colab_type": "code",
        "colab": {}
      },
      "cell_type": "code",
      "source": [
        "#truncate dow to columns of interest\n",
        "df_trunc = df[['state_fips_code','county_name','county_code','year','Value']]"
      ],
      "execution_count": 0,
      "outputs": []
    },
    {
      "metadata": {
        "id": "_1weerf6oE1o",
        "colab_type": "code",
        "colab": {
          "base_uri": "https://localhost:8080/",
          "height": 35
        },
        "outputId": "21b92c28-eb69-4de0-d9b3-71712476cf0c"
      },
      "cell_type": "code",
      "source": [
        "#find counties with missing data\n",
        "sum(df_trunc.Value.str.contains('D'))"
      ],
      "execution_count": 6,
      "outputs": [
        {
          "output_type": "execute_result",
          "data": {
            "text/plain": [
              "75"
            ]
          },
          "metadata": {
            "tags": []
          },
          "execution_count": 6
        }
      ]
    },
    {
      "metadata": {
        "id": "w5ZCmcXHozwH",
        "colab_type": "code",
        "colab": {
          "base_uri": "https://localhost:8080/",
          "height": 35
        },
        "outputId": "e8669f52-bbb8-4980-e739-57ab5eeecc1c"
      },
      "cell_type": "code",
      "source": [
        "#find original diminensions of df_trunc\n",
        "#after removing problematic rows we expect 75 less rows than original\n",
        "df_trunc.shape"
      ],
      "execution_count": 8,
      "outputs": [
        {
          "output_type": "execute_result",
          "data": {
            "text/plain": [
              "(4043, 5)"
            ]
          },
          "metadata": {
            "tags": []
          },
          "execution_count": 8
        }
      ]
    },
    {
      "metadata": {
        "id": "DOZIk0EsoXuL",
        "colab_type": "code",
        "colab": {
          "base_uri": "https://localhost:8080/",
          "height": 35
        },
        "outputId": "d305a8eb-3238-4a02-9cb1-8f5581087821"
      },
      "cell_type": "code",
      "source": [
        "#remove rows that contain 'D' which is the usda marking for no data.\n",
        "#.contains returns true for columns that contain 'D', then ~ negates it so we can later on only extract the true columns\n",
        "\n",
        "df_trunc = df_trunc[~df_trunc.Value.str.contains('D')]\n",
        "df_trunc.shape"
      ],
      "execution_count": 9,
      "outputs": [
        {
          "output_type": "execute_result",
          "data": {
            "text/plain": [
              "(3968, 5)"
            ]
          },
          "metadata": {
            "tags": []
          },
          "execution_count": 9
        }
      ]
    },
    {
      "metadata": {
        "id": "XUhSMpD6pMNT",
        "colab_type": "code",
        "colab": {}
      },
      "cell_type": "code",
      "source": [
        "#remove comma values and replace with integers\n",
        "list_area = list(df_trunc['Value'])\n",
        "list_area = [i.replace(',','') for i in list_area]\n",
        "df_trunc['Value'] = list_area"
      ],
      "execution_count": 0,
      "outputs": []
    },
    {
      "metadata": {
        "id": "7JhJO2Q0pQPA",
        "colab_type": "code",
        "colab": {
          "base_uri": "https://localhost:8080/",
          "height": 206
        },
        "outputId": "cd23e8bc-fde3-4d17-bfb9-7494a96d0659"
      },
      "cell_type": "code",
      "source": [
        "#preview df_trunc\n",
        "df_trunc.head()"
      ],
      "execution_count": 12,
      "outputs": [
        {
          "output_type": "execute_result",
          "data": {
            "text/html": [
              "<div>\n",
              "<style scoped>\n",
              "    .dataframe tbody tr th:only-of-type {\n",
              "        vertical-align: middle;\n",
              "    }\n",
              "\n",
              "    .dataframe tbody tr th {\n",
              "        vertical-align: top;\n",
              "    }\n",
              "\n",
              "    .dataframe thead th {\n",
              "        text-align: right;\n",
              "    }\n",
              "</style>\n",
              "<table border=\"1\" class=\"dataframe\">\n",
              "  <thead>\n",
              "    <tr style=\"text-align: right;\">\n",
              "      <th></th>\n",
              "      <th>state_fips_code</th>\n",
              "      <th>county_name</th>\n",
              "      <th>county_code</th>\n",
              "      <th>year</th>\n",
              "      <th>Value</th>\n",
              "    </tr>\n",
              "  </thead>\n",
              "  <tbody>\n",
              "    <tr>\n",
              "      <th>0</th>\n",
              "      <td>17</td>\n",
              "      <td>BUREAU</td>\n",
              "      <td>11</td>\n",
              "      <td>2012</td>\n",
              "      <td>270914</td>\n",
              "    </tr>\n",
              "    <tr>\n",
              "      <th>1</th>\n",
              "      <td>17</td>\n",
              "      <td>BUREAU</td>\n",
              "      <td>11</td>\n",
              "      <td>2007</td>\n",
              "      <td>307842</td>\n",
              "    </tr>\n",
              "    <tr>\n",
              "      <th>2</th>\n",
              "      <td>17</td>\n",
              "      <td>BUREAU</td>\n",
              "      <td>11</td>\n",
              "      <td>2002</td>\n",
              "      <td>251941</td>\n",
              "    </tr>\n",
              "    <tr>\n",
              "      <th>3</th>\n",
              "      <td>17</td>\n",
              "      <td>BUREAU</td>\n",
              "      <td>11</td>\n",
              "      <td>1997</td>\n",
              "      <td>257811</td>\n",
              "    </tr>\n",
              "    <tr>\n",
              "      <th>4</th>\n",
              "      <td>17</td>\n",
              "      <td>CARROLL</td>\n",
              "      <td>15</td>\n",
              "      <td>2012</td>\n",
              "      <td>149056</td>\n",
              "    </tr>\n",
              "  </tbody>\n",
              "</table>\n",
              "</div>"
            ],
            "text/plain": [
              "   state_fips_code county_name  county_code  year   Value\n",
              "0               17      BUREAU           11  2012  270914\n",
              "1               17      BUREAU           11  2007  307842\n",
              "2               17      BUREAU           11  2002  251941\n",
              "3               17      BUREAU           11  1997  257811\n",
              "4               17     CARROLL           15  2012  149056"
            ]
          },
          "metadata": {
            "tags": []
          },
          "execution_count": 12
        }
      ]
    },
    {
      "metadata": {
        "id": "4t-bWNCZpbzq",
        "colab_type": "code",
        "colab": {}
      },
      "cell_type": "code",
      "source": [
        "#save as csv\n",
        "df_trunc.to_csv('harvested_area.csv',header=False, index = False)"
      ],
      "execution_count": 0,
      "outputs": []
    }
  ]
}