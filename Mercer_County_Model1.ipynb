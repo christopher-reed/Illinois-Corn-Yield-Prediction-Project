{
  "nbformat": 4,
  "nbformat_minor": 0,
  "metadata": {
    "colab": {
      "name": "Mercer_County_Model",
      "version": "0.3.2",
      "provenance": []
    },
    "kernelspec": {
      "name": "python3",
      "display_name": "Python 3"
    }
  },
  "cells": [
    {
      "metadata": {
        "id": "Bt7RPx9Ht_1u",
        "colab_type": "code",
        "colab": {}
      },
      "cell_type": "code",
      "source": [
        "import pandas as pd\n",
        "import numpy as np\n",
        "import matplotlib.pyplot as plt\n",
        "import copy"
      ],
      "execution_count": 0,
      "outputs": []
    },
    {
      "metadata": {
        "id": "8gYhlCWlcbAc",
        "colab_type": "code",
        "colab": {}
      },
      "cell_type": "code",
      "source": [
        "#Import GDD and KDD data. Keep only GDD and KDD data\n",
        "GDD_KDD = pd.read_csv('GDD_KDD_Cleaned.csv', index_col = 0)\n",
        "GDD_KDD.index = pd.to_datetime(GDD_KDD.index)\n",
        "\n",
        "GDD_KDD = GDD_KDD.drop(['TMAX_obs', 'TMIN_obs', 'TMAX_bound', 'TMIN_bound'], axis = 1)"
      ],
      "execution_count": 0,
      "outputs": []
    },
    {
      "metadata": {
        "id": "M390uChDcv4u",
        "colab_type": "code",
        "colab": {}
      },
      "cell_type": "code",
      "source": [
        "#Import development data for Illinois\n",
        "\n",
        "IL_Development = pd.read_csv('illinois_combined_development_data.csv', index_col = 0)\n",
        "IL_Development.index = pd.to_datetime(IL_Development.index)\n",
        "\n",
        "IL_Development = IL_Development.drop(['sum'], axis = 1)"
      ],
      "execution_count": 0,
      "outputs": []
    },
    {
      "metadata": {
        "id": "84FpcOyccw50",
        "colab_type": "code",
        "colab": {}
      },
      "cell_type": "code",
      "source": [
        "#GDD are calculated for each county and development phase. For each day, multiply percent of crop in phase of interest by the GDD on that day.\n",
        "#Since we only have one county, product of GDD and percent of crop in phase of interest is the GDD for that day"
      ],
      "execution_count": 0,
      "outputs": []
    },
    {
      "metadata": {
        "id": "dFgYAEOwc8Tp",
        "colab_type": "code",
        "outputId": "a1534531-f0b3-409d-cc9e-df132df0c0d3",
        "colab": {
          "base_uri": "https://localhost:8080/",
          "height": 73
        }
      },
      "cell_type": "code",
      "source": [
        "#Index for both dataframes needs to be identical. Currently they are not because we removed some \"bad years\" from the weather data due to holes\n",
        "#Removed 1983, 1986, 1998, 1999, 2000, and 2016. There are 13514 days between (inclusive) 1981 - 2017. Removing these years there should be 11322 days.\n",
        "#Rember about leap years!\n",
        "\n",
        "print(len(IL_Development.index))\n",
        "print(len(GDD_KDD.index))\n",
        "\n",
        "#Join the dfs. GDD and KDD columns will have NaN for years that were removed in previous cleaning. Then drop rows with any NaN.\n",
        "df = IL_Development.join(GDD_KDD)\n",
        "df = df.dropna()\n",
        "\n",
        "print(len(df.index))"
      ],
      "execution_count": 62,
      "outputs": [
        {
          "output_type": "stream",
          "text": [
            "13514\n",
            "11322\n",
            "11322\n"
          ],
          "name": "stdout"
        }
      ]
    },
    {
      "metadata": {
        "id": "qWSqb1dVxBmx",
        "colab_type": "code",
        "colab": {}
      },
      "cell_type": "code",
      "source": [
        "#Calculate GDDs and KDDs for phases. Phase data should be in percent format so divide phase columns by 100\n",
        "\n",
        "phases = ['vegetative', 'early_grain', 'late_grain']\n",
        "\n",
        "for p in phases:\n",
        "  df[p] = df[p]/100\n",
        "\n",
        "for p in phases:\n",
        "  df['GDD_'+p] = df[p] * df['GDD']\n",
        "  \n",
        "for p in phases:\n",
        "  df['KDD_'+p] = df[p] *df['KDD']\n",
        "  \n",
        "df.loc['2017-04-15':'2017-04-20']"
      ],
      "execution_count": 0,
      "outputs": []
    },
    {
      "metadata": {
        "id": "kcUITw4VJjij",
        "colab_type": "code",
        "colab": {}
      },
      "cell_type": "code",
      "source": [
        "#Find yearly average GDD/KDD for each phase.\n",
        "data = {}\n",
        "phase = ['GDD_vegetative', 'GDD_early_grain', 'GDD_late_grain', 'KDD_vegetative', 'KDD_early_grain', 'KDD_late_grain']\n",
        "\n",
        "storage_df = pd.DataFrame()\n",
        "storage_df['year'] = df.index.year.unique() #Make year column to eventually map dictionaries to\n",
        "\n",
        "for p in phase: #Iterate through all phases\n",
        "  for y in df.index.year.unique(): #Iterate through all years within each phase\n",
        "    data[y] = df[p][(df.index.year == y)].mean() #Make a dictionary with key = year and values are the mean values in each phase for that year\n",
        "    storage_df[p] = storage_df['year'].map(data) #Match dictionart key to column of years and put in values from dictionary"
      ],
      "execution_count": 0,
      "outputs": []
    },
    {
      "metadata": {
        "id": "4Xvyb4XrA3lu",
        "colab_type": "code",
        "colab": {
          "base_uri": "https://localhost:8080/",
          "height": 206
        },
        "outputId": "f4d3e0d9-9510-47f7-dfb0-f4878e8b8a7d"
      },
      "cell_type": "code",
      "source": [
        "storage_df.head()"
      ],
      "execution_count": 90,
      "outputs": [
        {
          "output_type": "execute_result",
          "data": {
            "text/html": [
              "<div>\n",
              "<style scoped>\n",
              "    .dataframe tbody tr th:only-of-type {\n",
              "        vertical-align: middle;\n",
              "    }\n",
              "\n",
              "    .dataframe tbody tr th {\n",
              "        vertical-align: top;\n",
              "    }\n",
              "\n",
              "    .dataframe thead th {\n",
              "        text-align: right;\n",
              "    }\n",
              "</style>\n",
              "<table border=\"1\" class=\"dataframe\">\n",
              "  <thead>\n",
              "    <tr style=\"text-align: right;\">\n",
              "      <th></th>\n",
              "      <th>year</th>\n",
              "      <th>GDD_vegetative</th>\n",
              "      <th>GDD_early_grain</th>\n",
              "      <th>GDD_late_grain</th>\n",
              "      <th>KDD_vegetative</th>\n",
              "      <th>KDD_early_grain</th>\n",
              "      <th>KDD_late_grain</th>\n",
              "    </tr>\n",
              "  </thead>\n",
              "  <tbody>\n",
              "    <tr>\n",
              "      <th>0</th>\n",
              "      <td>1981</td>\n",
              "      <td>2.108359</td>\n",
              "      <td>0.823876</td>\n",
              "      <td>1.234161</td>\n",
              "      <td>0.095409</td>\n",
              "      <td>0.028719</td>\n",
              "      <td>0.031610</td>\n",
              "    </tr>\n",
              "    <tr>\n",
              "      <th>1</th>\n",
              "      <td>1982</td>\n",
              "      <td>2.237647</td>\n",
              "      <td>0.745351</td>\n",
              "      <td>1.224173</td>\n",
              "      <td>0.074162</td>\n",
              "      <td>0.063381</td>\n",
              "      <td>0.038842</td>\n",
              "    </tr>\n",
              "    <tr>\n",
              "      <th>2</th>\n",
              "      <td>1984</td>\n",
              "      <td>2.255080</td>\n",
              "      <td>0.742555</td>\n",
              "      <td>1.241253</td>\n",
              "      <td>0.187655</td>\n",
              "      <td>0.110284</td>\n",
              "      <td>0.183959</td>\n",
              "    </tr>\n",
              "    <tr>\n",
              "      <th>3</th>\n",
              "      <td>1985</td>\n",
              "      <td>2.201089</td>\n",
              "      <td>0.800572</td>\n",
              "      <td>1.433259</td>\n",
              "      <td>0.164840</td>\n",
              "      <td>0.079768</td>\n",
              "      <td>0.140930</td>\n",
              "    </tr>\n",
              "    <tr>\n",
              "      <th>4</th>\n",
              "      <td>1987</td>\n",
              "      <td>2.240381</td>\n",
              "      <td>0.831239</td>\n",
              "      <td>1.297272</td>\n",
              "      <td>0.265117</td>\n",
              "      <td>0.172497</td>\n",
              "      <td>0.241803</td>\n",
              "    </tr>\n",
              "  </tbody>\n",
              "</table>\n",
              "</div>"
            ],
            "text/plain": [
              "   year  GDD_vegetative  GDD_early_grain  GDD_late_grain  KDD_vegetative  \\\n",
              "0  1981        2.108359         0.823876        1.234161        0.095409   \n",
              "1  1982        2.237647         0.745351        1.224173        0.074162   \n",
              "2  1984        2.255080         0.742555        1.241253        0.187655   \n",
              "3  1985        2.201089         0.800572        1.433259        0.164840   \n",
              "4  1987        2.240381         0.831239        1.297272        0.265117   \n",
              "\n",
              "   KDD_early_grain  KDD_late_grain  \n",
              "0         0.028719        0.031610  \n",
              "1         0.063381        0.038842  \n",
              "2         0.110284        0.183959  \n",
              "3         0.079768        0.140930  \n",
              "4         0.172497        0.241803  "
            ]
          },
          "metadata": {
            "tags": []
          },
          "execution_count": 90
        }
      ]
    },
    {
      "metadata": {
        "id": "XG4mjena2Z3M",
        "colab_type": "code",
        "outputId": "3695cc4e-0e9c-45eb-98ac-ed62109b14bc",
        "colab": {
          "base_uri": "https://localhost:8080/",
          "height": 241
        }
      },
      "cell_type": "code",
      "source": [
        "#Upload the yield data. Filter to Mercer County in IL.\n",
        "df_yield = pd.read_csv('yield.csv')\n",
        "\n",
        "df_yield = df_yield[(df_yield['county'] == 'MERCER') & (df_yield['year'] >= 1981) & (df_yield['state_fips'] == 17)]\n",
        "\n",
        "print(df_yield.head())\n",
        "\n",
        "print(df_yield.tail())"
      ],
      "execution_count": 0,
      "outputs": [
        {
          "output_type": "stream",
          "text": [
            "     year  state_fips  county  county_code  yield\n",
            "185  2017          17  MERCER          131  238.7\n",
            "186  2016          17  MERCER          131  213.5\n",
            "187  2015          17  MERCER          131  205.7\n",
            "188  2014          17  MERCER          131  193.5\n",
            "189  2013          17  MERCER          131  177.1\n",
            "     year  state_fips  county  county_code  yield\n",
            "217  1985          17  MERCER          131  119.0\n",
            "218  1984          17  MERCER          131  118.0\n",
            "219  1983          17  MERCER          131   96.0\n",
            "220  1982          17  MERCER          131  124.0\n",
            "221  1981          17  MERCER          131  134.0\n"
          ],
          "name": "stdout"
        }
      ]
    }
  ]
}