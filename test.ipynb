{
  "nbformat": 4,
  "nbformat_minor": 0,
  "metadata": {
    "colab": {
      "name": "Untitled0.ipynb",
      "version": "0.3.2",
      "provenance": [],
      "include_colab_link": true
    },
    "kernelspec": {
      "name": "python3",
      "display_name": "Python 3"
    }
  },
  "cells": [
    {
      "cell_type": "markdown",
      "metadata": {
        "id": "view-in-github",
        "colab_type": "text"
      },
      "source": [
        "<a href=\"https://colab.research.google.com/github/christopher-reed/ag_data_project/blob/master/test.ipynb\" target=\"_parent\"><img src=\"https://colab.research.google.com/assets/colab-badge.svg\" alt=\"Open In Colab\"/></a>"
      ]
    },
    {
      "metadata": {
        "id": "uvIxlTY-e86z",
        "colab_type": "code",
        "outputId": "2e83abef-9760-4208-d474-1b46317f7b70",
        "colab": {
          "base_uri": "https://localhost:8080/",
          "height": 219
        }
      },
      "cell_type": "code",
      "source": [
        "import pandas as pd\n",
        "import numpy as np\n",
        "import requests, json\n",
        "\n",
        "api_key = '70D413B2-0123-3524-9634-F730BE441009' \n",
        "\n",
        "r = requests.get('http://quickstats.nass.usda.gov/api/api_GET/?key='+api_key)\n",
        "\n",
        "years = map(str,range(1981,2018))\n",
        "\n",
        "payload = {'key':api_key,\n",
        "          'source_desc':'SURVEY',\n",
        "          'sector_desc':'CROPS',\n",
        "          'commodity_desc':'CORN',\n",
        "           'prodn_practice_desc':'ALL PRODUCTION PRACTICES',\n",
        "          'statisticcat_desc':'YIELD',\n",
        "           'unit_desc':'BU / ACRE',\n",
        "          'agg_level_desc':'COUNTY',\n",
        "           'year':years, #here is the list of years as strings\n",
        "           'format':'JSON'}\n",
        "\n",
        "states = ['IL','IN','IA','KS','KY','MI','MO','NE','OH','SD','WI']\n",
        "\n",
        "df_all = pd.DataFrame()\n",
        "\n",
        "for i in states:\n",
        "    payload['state_alpha'] = i \n",
        "    r = requests.get('http://quickstats.nass.usda.gov/api/api_GET/?key='+api_key, params = payload)\n",
        "    df = pd.read_json(json.dumps(r.json()),orient='split') #r.json() makes request (r) into a dictionary. json.dumps makes the dictionary into json file. Orient argument makes sure it is read correctly.\n",
        "    \n",
        "    df_trunc = df[['state_fips_code','county_name','county_code','year','Value']]\n",
        "    \n",
        "    df_all = pd.concat([df_all, df_trunc])\n",
        "    print(i) #ticker for progress"
      ],
      "execution_count": 0,
      "outputs": [
        {
          "output_type": "stream",
          "text": [
            "IL\n",
            "IN\n",
            "IA\n",
            "KS\n",
            "KY\n",
            "MI\n",
            "MO\n",
            "NE\n",
            "OH\n",
            "SD\n",
            "WI\n"
          ],
          "name": "stdout"
        }
      ]
    },
    {
      "metadata": {
        "id": "LE0FXk_ffLnU",
        "colab_type": "code",
        "outputId": "dcd10268-c491-4ffc-94db-08a6ad417ec4",
        "colab": {
          "base_uri": "https://localhost:8080/",
          "height": 206
        }
      },
      "cell_type": "code",
      "source": [
        "df_all.head()"
      ],
      "execution_count": 0,
      "outputs": [
        {
          "output_type": "execute_result",
          "data": {
            "text/html": [
              "<div>\n",
              "<style scoped>\n",
              "    .dataframe tbody tr th:only-of-type {\n",
              "        vertical-align: middle;\n",
              "    }\n",
              "\n",
              "    .dataframe tbody tr th {\n",
              "        vertical-align: top;\n",
              "    }\n",
              "\n",
              "    .dataframe thead th {\n",
              "        text-align: right;\n",
              "    }\n",
              "</style>\n",
              "<table border=\"1\" class=\"dataframe\">\n",
              "  <thead>\n",
              "    <tr style=\"text-align: right;\">\n",
              "      <th></th>\n",
              "      <th>state_fips_code</th>\n",
              "      <th>county_name</th>\n",
              "      <th>county_code</th>\n",
              "      <th>year</th>\n",
              "      <th>Value</th>\n",
              "    </tr>\n",
              "  </thead>\n",
              "  <tbody>\n",
              "    <tr>\n",
              "      <th>0</th>\n",
              "      <td>17</td>\n",
              "      <td>BUREAU</td>\n",
              "      <td>11</td>\n",
              "      <td>2017</td>\n",
              "      <td>215.4</td>\n",
              "    </tr>\n",
              "    <tr>\n",
              "      <th>1</th>\n",
              "      <td>17</td>\n",
              "      <td>BUREAU</td>\n",
              "      <td>11</td>\n",
              "      <td>2016</td>\n",
              "      <td>203.9</td>\n",
              "    </tr>\n",
              "    <tr>\n",
              "      <th>2</th>\n",
              "      <td>17</td>\n",
              "      <td>BUREAU</td>\n",
              "      <td>11</td>\n",
              "      <td>2015</td>\n",
              "      <td>196.8</td>\n",
              "    </tr>\n",
              "    <tr>\n",
              "      <th>3</th>\n",
              "      <td>17</td>\n",
              "      <td>BUREAU</td>\n",
              "      <td>11</td>\n",
              "      <td>2014</td>\n",
              "      <td>196.0</td>\n",
              "    </tr>\n",
              "    <tr>\n",
              "      <th>4</th>\n",
              "      <td>17</td>\n",
              "      <td>BUREAU</td>\n",
              "      <td>11</td>\n",
              "      <td>2013</td>\n",
              "      <td>185.9</td>\n",
              "    </tr>\n",
              "  </tbody>\n",
              "</table>\n",
              "</div>"
            ],
            "text/plain": [
              "   state_fips_code county_name  county_code  year  Value\n",
              "0               17      BUREAU           11  2017  215.4\n",
              "1               17      BUREAU           11  2016  203.9\n",
              "2               17      BUREAU           11  2015  196.8\n",
              "3               17      BUREAU           11  2014  196.0\n",
              "4               17      BUREAU           11  2013  185.9"
            ]
          },
          "metadata": {
            "tags": []
          },
          "execution_count": 2
        }
      ]
    },
    {
      "metadata": {
        "id": "rZ7nHYblfqtv",
        "colab_type": "code",
        "colab": {}
      },
      "cell_type": "code",
      "source": [
        ""
      ],
      "execution_count": 0,
      "outputs": []
    }
  ]
}