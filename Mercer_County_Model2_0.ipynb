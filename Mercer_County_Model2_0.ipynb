{
  "nbformat": 4,
  "nbformat_minor": 0,
  "metadata": {
    "colab": {
      "name": "Mercer_County_Model2.0",
      "version": "0.3.2",
      "provenance": [],
      "collapsed_sections": []
    },
    "kernelspec": {
      "name": "python3",
      "display_name": "Python 3"
    }
  },
  "cells": [
    {
      "metadata": {
        "id": "xP6bYmN1fHcQ",
        "colab_type": "code",
        "colab": {}
      },
      "cell_type": "code",
      "source": [
        "import pandas as pd\n",
        "import numpy as np\n",
        "import matplotlib.pyplot as plt\n",
        "import copy\n",
        "import random"
      ],
      "execution_count": 0,
      "outputs": []
    },
    {
      "metadata": {
        "id": "TgeoQ9O7fKGW",
        "colab_type": "code",
        "colab": {}
      },
      "cell_type": "code",
      "source": [
        "#Import GDD and KDD data. Keep only GDD and KDD data\n",
        "GDD_KDD = pd.read_csv('GDD_KDD_Cleaned.csv', index_col = 0)\n",
        "GDD_KDD.index = pd.to_datetime(GDD_KDD.index)\n",
        "\n",
        "GDD_KDD = GDD_KDD.drop(['TMAX_obs', 'TMIN_obs', 'TMAX_bound', 'TMIN_bound'], axis = 1)"
      ],
      "execution_count": 0,
      "outputs": []
    },
    {
      "metadata": {
        "id": "fxavhiU3fKK_",
        "colab_type": "code",
        "colab": {}
      },
      "cell_type": "code",
      "source": [
        "#Import development data for Illinois\n",
        "\n",
        "IL_Development = pd.read_csv('illinois_combined_development_data.csv', index_col = 0)\n",
        "IL_Development.index = pd.to_datetime(IL_Development.index)\n",
        "\n",
        "IL_Development = IL_Development.drop(['sum'], axis = 1)"
      ],
      "execution_count": 0,
      "outputs": []
    },
    {
      "metadata": {
        "id": "PCqcDZDHfKNc",
        "colab_type": "code",
        "colab": {}
      },
      "cell_type": "code",
      "source": [
        "#GDD are calculated for each county and development phase. For each day, multiply percent of crop in phase of interest by the GDD on that day.\n",
        "#Since we only have one county, product of GDD and percent of crop in phase of interest is the GDD for that day"
      ],
      "execution_count": 0,
      "outputs": []
    },
    {
      "metadata": {
        "id": "2UC1k091fKP6",
        "colab_type": "code",
        "outputId": "afd114b8-d0cb-4865-f1b0-0d88a409e946",
        "colab": {
          "base_uri": "https://localhost:8080/",
          "height": 262
        }
      },
      "cell_type": "code",
      "source": [
        "#Index for both dataframes needs to be identical. Currently they are not because we removed some \"bad years\" from the weather data due to holes\n",
        "#Removed 1983, 1986, 1998, 1999, 2000, and 2016. There are 13514 days between (inclusive) 1981 - 2017. Removing these years there should be 11322 days.\n",
        "#Rember about leap years!\n",
        "\n",
        "print(len(IL_Development.index))\n",
        "print(len(GDD_KDD.index))\n",
        "\n",
        "#Join the dfs. GDD and KDD columns will have NaN for years that were removed in previous cleaning. Then drop rows with any NaN.\n",
        "df = IL_Development.join(GDD_KDD)\n",
        "df = df.dropna()\n",
        "\n",
        "print(len(df.index))\n",
        "\n",
        "df.head()"
      ],
      "execution_count": 9,
      "outputs": [
        {
          "output_type": "stream",
          "text": [
            "13514\n",
            "11322\n",
            "11322\n"
          ],
          "name": "stdout"
        },
        {
          "output_type": "execute_result",
          "data": {
            "text/html": [
              "<div>\n",
              "<style scoped>\n",
              "    .dataframe tbody tr th:only-of-type {\n",
              "        vertical-align: middle;\n",
              "    }\n",
              "\n",
              "    .dataframe tbody tr th {\n",
              "        vertical-align: top;\n",
              "    }\n",
              "\n",
              "    .dataframe thead th {\n",
              "        text-align: right;\n",
              "    }\n",
              "</style>\n",
              "<table border=\"1\" class=\"dataframe\">\n",
              "  <thead>\n",
              "    <tr style=\"text-align: right;\">\n",
              "      <th></th>\n",
              "      <th>vegetative</th>\n",
              "      <th>early_grain</th>\n",
              "      <th>late_grain</th>\n",
              "      <th>GDD</th>\n",
              "      <th>KDD</th>\n",
              "    </tr>\n",
              "  </thead>\n",
              "  <tbody>\n",
              "    <tr>\n",
              "      <th>1981-01-01</th>\n",
              "      <td>0.0</td>\n",
              "      <td>0.0</td>\n",
              "      <td>0.0</td>\n",
              "      <td>0.0</td>\n",
              "      <td>0.0</td>\n",
              "    </tr>\n",
              "    <tr>\n",
              "      <th>1981-01-02</th>\n",
              "      <td>0.0</td>\n",
              "      <td>0.0</td>\n",
              "      <td>0.0</td>\n",
              "      <td>0.0</td>\n",
              "      <td>0.0</td>\n",
              "    </tr>\n",
              "    <tr>\n",
              "      <th>1981-01-03</th>\n",
              "      <td>0.0</td>\n",
              "      <td>0.0</td>\n",
              "      <td>0.0</td>\n",
              "      <td>0.0</td>\n",
              "      <td>0.0</td>\n",
              "    </tr>\n",
              "    <tr>\n",
              "      <th>1981-01-04</th>\n",
              "      <td>0.0</td>\n",
              "      <td>0.0</td>\n",
              "      <td>0.0</td>\n",
              "      <td>0.0</td>\n",
              "      <td>0.0</td>\n",
              "    </tr>\n",
              "    <tr>\n",
              "      <th>1981-01-05</th>\n",
              "      <td>0.0</td>\n",
              "      <td>0.0</td>\n",
              "      <td>0.0</td>\n",
              "      <td>0.0</td>\n",
              "      <td>0.0</td>\n",
              "    </tr>\n",
              "  </tbody>\n",
              "</table>\n",
              "</div>"
            ],
            "text/plain": [
              "            vegetative  early_grain  late_grain  GDD  KDD\n",
              "1981-01-01         0.0          0.0         0.0  0.0  0.0\n",
              "1981-01-02         0.0          0.0         0.0  0.0  0.0\n",
              "1981-01-03         0.0          0.0         0.0  0.0  0.0\n",
              "1981-01-04         0.0          0.0         0.0  0.0  0.0\n",
              "1981-01-05         0.0          0.0         0.0  0.0  0.0"
            ]
          },
          "metadata": {
            "tags": []
          },
          "execution_count": 9
        }
      ]
    },
    {
      "metadata": {
        "id": "8AxZcnadfKS5",
        "colab_type": "code",
        "outputId": "ca157e9f-e73c-4cdd-ef93-df590b3bc988",
        "colab": {
          "base_uri": "https://localhost:8080/",
          "height": 257
        }
      },
      "cell_type": "code",
      "source": [
        "#Calculate GDDs and KDDs for phases. Phase data should be in percent format so divide phase columns by 100\n",
        "\n",
        "phases = ['vegetative', 'early_grain', 'late_grain']\n",
        "\n",
        "for p in phases:\n",
        "  df[p] = df[p]/100\n",
        "\n",
        "for p in phases:\n",
        "  df['GDD_'+p] = df[p] * df['GDD']\n",
        "  \n",
        "for p in phases:\n",
        "  df['KDD_'+p] = df[p] * df['KDD']\n",
        "  \n",
        "df.loc['2017-04-15':'2017-04-20']"
      ],
      "execution_count": 10,
      "outputs": [
        {
          "output_type": "execute_result",
          "data": {
            "text/html": [
              "<div>\n",
              "<style scoped>\n",
              "    .dataframe tbody tr th:only-of-type {\n",
              "        vertical-align: middle;\n",
              "    }\n",
              "\n",
              "    .dataframe tbody tr th {\n",
              "        vertical-align: top;\n",
              "    }\n",
              "\n",
              "    .dataframe thead th {\n",
              "        text-align: right;\n",
              "    }\n",
              "</style>\n",
              "<table border=\"1\" class=\"dataframe\">\n",
              "  <thead>\n",
              "    <tr style=\"text-align: right;\">\n",
              "      <th></th>\n",
              "      <th>vegetative</th>\n",
              "      <th>early_grain</th>\n",
              "      <th>late_grain</th>\n",
              "      <th>GDD</th>\n",
              "      <th>KDD</th>\n",
              "      <th>GDD_vegetative</th>\n",
              "      <th>GDD_early_grain</th>\n",
              "      <th>GDD_late_grain</th>\n",
              "      <th>KDD_vegetative</th>\n",
              "      <th>KDD_early_grain</th>\n",
              "      <th>KDD_late_grain</th>\n",
              "    </tr>\n",
              "  </thead>\n",
              "  <tbody>\n",
              "    <tr>\n",
              "      <th>2017-04-15</th>\n",
              "      <td>0.051429</td>\n",
              "      <td>0.0</td>\n",
              "      <td>0.0</td>\n",
              "      <td>8.20</td>\n",
              "      <td>0.0</td>\n",
              "      <td>0.421714</td>\n",
              "      <td>0.0</td>\n",
              "      <td>0.0</td>\n",
              "      <td>0.0</td>\n",
              "      <td>0.0</td>\n",
              "      <td>0.0</td>\n",
              "    </tr>\n",
              "    <tr>\n",
              "      <th>2017-04-16</th>\n",
              "      <td>0.060000</td>\n",
              "      <td>0.0</td>\n",
              "      <td>0.0</td>\n",
              "      <td>11.00</td>\n",
              "      <td>0.0</td>\n",
              "      <td>0.660000</td>\n",
              "      <td>0.0</td>\n",
              "      <td>0.0</td>\n",
              "      <td>0.0</td>\n",
              "      <td>0.0</td>\n",
              "      <td>0.0</td>\n",
              "    </tr>\n",
              "    <tr>\n",
              "      <th>2017-04-17</th>\n",
              "      <td>0.100000</td>\n",
              "      <td>0.0</td>\n",
              "      <td>0.0</td>\n",
              "      <td>6.35</td>\n",
              "      <td>0.0</td>\n",
              "      <td>0.635000</td>\n",
              "      <td>0.0</td>\n",
              "      <td>0.0</td>\n",
              "      <td>0.0</td>\n",
              "      <td>0.0</td>\n",
              "      <td>0.0</td>\n",
              "    </tr>\n",
              "    <tr>\n",
              "      <th>2017-04-18</th>\n",
              "      <td>0.140000</td>\n",
              "      <td>0.0</td>\n",
              "      <td>0.0</td>\n",
              "      <td>7.15</td>\n",
              "      <td>0.0</td>\n",
              "      <td>1.001000</td>\n",
              "      <td>0.0</td>\n",
              "      <td>0.0</td>\n",
              "      <td>0.0</td>\n",
              "      <td>0.0</td>\n",
              "      <td>0.0</td>\n",
              "    </tr>\n",
              "    <tr>\n",
              "      <th>2017-04-19</th>\n",
              "      <td>0.180000</td>\n",
              "      <td>0.0</td>\n",
              "      <td>0.0</td>\n",
              "      <td>7.70</td>\n",
              "      <td>0.0</td>\n",
              "      <td>1.386000</td>\n",
              "      <td>0.0</td>\n",
              "      <td>0.0</td>\n",
              "      <td>0.0</td>\n",
              "      <td>0.0</td>\n",
              "      <td>0.0</td>\n",
              "    </tr>\n",
              "    <tr>\n",
              "      <th>2017-04-20</th>\n",
              "      <td>0.220000</td>\n",
              "      <td>0.0</td>\n",
              "      <td>0.0</td>\n",
              "      <td>8.80</td>\n",
              "      <td>0.0</td>\n",
              "      <td>1.936000</td>\n",
              "      <td>0.0</td>\n",
              "      <td>0.0</td>\n",
              "      <td>0.0</td>\n",
              "      <td>0.0</td>\n",
              "      <td>0.0</td>\n",
              "    </tr>\n",
              "  </tbody>\n",
              "</table>\n",
              "</div>"
            ],
            "text/plain": [
              "            vegetative  early_grain  late_grain    GDD  KDD  GDD_vegetative  \\\n",
              "2017-04-15    0.051429          0.0         0.0   8.20  0.0        0.421714   \n",
              "2017-04-16    0.060000          0.0         0.0  11.00  0.0        0.660000   \n",
              "2017-04-17    0.100000          0.0         0.0   6.35  0.0        0.635000   \n",
              "2017-04-18    0.140000          0.0         0.0   7.15  0.0        1.001000   \n",
              "2017-04-19    0.180000          0.0         0.0   7.70  0.0        1.386000   \n",
              "2017-04-20    0.220000          0.0         0.0   8.80  0.0        1.936000   \n",
              "\n",
              "            GDD_early_grain  GDD_late_grain  KDD_vegetative  KDD_early_grain  \\\n",
              "2017-04-15              0.0             0.0             0.0              0.0   \n",
              "2017-04-16              0.0             0.0             0.0              0.0   \n",
              "2017-04-17              0.0             0.0             0.0              0.0   \n",
              "2017-04-18              0.0             0.0             0.0              0.0   \n",
              "2017-04-19              0.0             0.0             0.0              0.0   \n",
              "2017-04-20              0.0             0.0             0.0              0.0   \n",
              "\n",
              "            KDD_late_grain  \n",
              "2017-04-15             0.0  \n",
              "2017-04-16             0.0  \n",
              "2017-04-17             0.0  \n",
              "2017-04-18             0.0  \n",
              "2017-04-19             0.0  \n",
              "2017-04-20             0.0  "
            ]
          },
          "metadata": {
            "tags": []
          },
          "execution_count": 10
        }
      ]
    },
    {
      "metadata": {
        "id": "kRYEwvWvfKVF",
        "colab_type": "code",
        "outputId": "ba2189df-effb-440d-891a-77c5fefced06",
        "colab": {
          "base_uri": "https://localhost:8080/",
          "height": 300
        }
      },
      "cell_type": "code",
      "source": [
        "#Visualize GDD and KDD for vegetative phase\n",
        "#Orientation from https://matplotlib.org/examples/pylab_examples/subplots_demo.html\n",
        "\n",
        "x = df.loc['2012-01-01':'2012-12-31'].index\n",
        "y1 = df.loc['2012-01-01':'2012-12-31']['GDD_vegetative'].values\n",
        "y2 = df.loc['2012-01-01':'2012-12-31']['KDD_vegetative'].values\n",
        "y3 = df.loc['2012-01-01':'2012-12-31']['GDD_early_grain'].values  \n",
        "y4 = df.loc['2012-01-01':'2012-12-31']['KDD_early_grain'].values\n",
        "y5 = df.loc['2012-01-01':'2012-12-31']['GDD_late_grain'].values \n",
        "y6 = df.loc['2012-01-01':'2012-12-31']['KDD_late_grain'].values  \n",
        "  \n",
        "  \n",
        "f, axarr = plt.subplots(3, sharex=True)\n",
        "axarr[0].plot(x, y1, color = 'green', label = 'Veg GDD')\n",
        "axarr[0].plot(x, y2, color = 'red', label = 'Veg KDD')\n",
        "axarr[0].legend(loc = 'upper left')\n",
        "axarr[0].set_title('GDD AND KDD IN MERCER COUNTY, IL 2012 - 2013')\n",
        "\n",
        "axarr[1].plot(x, y3, color = 'green', label = 'Early GDD')\n",
        "axarr[1].plot(x, y4, color = 'red', label = 'Early KDD')\n",
        "axarr[1].legend(loc = 'upper left')\n",
        "\n",
        "axarr[2].plot(x, y5, color = 'green', label = 'Late GDD')\n",
        "axarr[2].plot(x, y6, color = 'red', label= 'Late KDD')\n",
        "axarr[2].legend(loc = 'upper left')"
      ],
      "execution_count": 12,
      "outputs": [
        {
          "output_type": "execute_result",
          "data": {
            "text/plain": [
              "<matplotlib.legend.Legend at 0x7fd7db4ded30>"
            ]
          },
          "metadata": {
            "tags": []
          },
          "execution_count": 12
        },
        {
          "output_type": "display_data",
          "data": {
            "image/png": "[encoded data removed]",
            "text/plain": [
              "<Figure size 432x288 with 3 Axes>"
            ]
          },
          "metadata": {
            "tags": []
          }
        }
      ]
    },
    {
      "metadata": {
        "id": "ZZ3oO9yFt9ub",
        "colab_type": "code",
        "outputId": "d0e2f072-eb19-4c96-b3a3-8dd8256346d1",
        "colab": {
          "base_uri": "https://localhost:8080/",
          "height": 206
        }
      },
      "cell_type": "code",
      "source": [
        "#Find cumulative sum in each phase for each year\n",
        "\n",
        "#Drop extra rows from df. Only need phase-wise columns.\n",
        "df1 = df.drop(['vegetative', 'early_grain', 'late_grain', 'GDD', 'KDD'], axis =1) #drop extra columns from df\n",
        "\n",
        "#Prepare empty df\n",
        "df_sum = pd.DataFrame()\n",
        "\n",
        "#Iterate through all years. Filter down to y, find cumulative sum, place values in dataframe. Values in series are in order from df columns.\n",
        "for y in df1.index.year.unique():\n",
        "  df_sorted = df1[df1.index.year == y]\n",
        "  holder = df_sorted.sum(axis = 0)\n",
        "  df_sum[y] = holder.values\n",
        "\n",
        "#Swap columns and rows. Fix index and name columns.\n",
        "df_sum = df_sum.transpose()\n",
        "df_sum = df_sum.reset_index()\n",
        "df_sum = df_sum.rename(index = str, columns = {'index':'year', 0:'GDD_vegetative', 1: 'GDD_early_grain', 2:'GDD_late_grain', 3:'KDD_vegetative', 4:'KDD_early_grain', 5:'KDD_late_grain'})\n",
        "df_sum.tail()"
      ],
      "execution_count": 14,
      "outputs": [
        {
          "output_type": "execute_result",
          "data": {
            "text/html": [
              "<div>\n",
              "<style scoped>\n",
              "    .dataframe tbody tr th:only-of-type {\n",
              "        vertical-align: middle;\n",
              "    }\n",
              "\n",
              "    .dataframe tbody tr th {\n",
              "        vertical-align: top;\n",
              "    }\n",
              "\n",
              "    .dataframe thead th {\n",
              "        text-align: right;\n",
              "    }\n",
              "</style>\n",
              "<table border=\"1\" class=\"dataframe\">\n",
              "  <thead>\n",
              "    <tr style=\"text-align: right;\">\n",
              "      <th></th>\n",
              "      <th>year</th>\n",
              "      <th>GDD_vegetative</th>\n",
              "      <th>GDD_early_grain</th>\n",
              "      <th>GDD_late_grain</th>\n",
              "      <th>KDD_vegetative</th>\n",
              "      <th>KDD_early_grain</th>\n",
              "      <th>KDD_late_grain</th>\n",
              "    </tr>\n",
              "  </thead>\n",
              "  <tbody>\n",
              "    <tr>\n",
              "      <th>26</th>\n",
              "      <td>2012</td>\n",
              "      <td>701.574000</td>\n",
              "      <td>384.649214</td>\n",
              "      <td>399.781000</td>\n",
              "      <td>46.505571</td>\n",
              "      <td>74.319571</td>\n",
              "      <td>49.877714</td>\n",
              "    </tr>\n",
              "    <tr>\n",
              "      <th>27</th>\n",
              "      <td>2013</td>\n",
              "      <td>766.389464</td>\n",
              "      <td>297.524643</td>\n",
              "      <td>504.888381</td>\n",
              "      <td>63.720714</td>\n",
              "      <td>27.951000</td>\n",
              "      <td>76.749762</td>\n",
              "    </tr>\n",
              "    <tr>\n",
              "      <th>28</th>\n",
              "      <td>2014</td>\n",
              "      <td>733.184000</td>\n",
              "      <td>301.412643</td>\n",
              "      <td>493.217643</td>\n",
              "      <td>32.315429</td>\n",
              "      <td>6.991143</td>\n",
              "      <td>20.901143</td>\n",
              "    </tr>\n",
              "    <tr>\n",
              "      <th>29</th>\n",
              "      <td>2015</td>\n",
              "      <td>767.107500</td>\n",
              "      <td>287.390643</td>\n",
              "      <td>467.498214</td>\n",
              "      <td>16.619000</td>\n",
              "      <td>20.632571</td>\n",
              "      <td>33.914571</td>\n",
              "    </tr>\n",
              "    <tr>\n",
              "      <th>30</th>\n",
              "      <td>2017</td>\n",
              "      <td>756.171214</td>\n",
              "      <td>304.800571</td>\n",
              "      <td>496.079786</td>\n",
              "      <td>72.182857</td>\n",
              "      <td>31.967143</td>\n",
              "      <td>12.743000</td>\n",
              "    </tr>\n",
              "  </tbody>\n",
              "</table>\n",
              "</div>"
            ],
            "text/plain": [
              "    year  GDD_vegetative  GDD_early_grain  GDD_late_grain  KDD_vegetative  \\\n",
              "26  2012      701.574000       384.649214      399.781000       46.505571   \n",
              "27  2013      766.389464       297.524643      504.888381       63.720714   \n",
              "28  2014      733.184000       301.412643      493.217643       32.315429   \n",
              "29  2015      767.107500       287.390643      467.498214       16.619000   \n",
              "30  2017      756.171214       304.800571      496.079786       72.182857   \n",
              "\n",
              "    KDD_early_grain  KDD_late_grain  \n",
              "26        74.319571       49.877714  \n",
              "27        27.951000       76.749762  \n",
              "28         6.991143       20.901143  \n",
              "29        20.632571       33.914571  \n",
              "30        31.967143       12.743000  "
            ]
          },
          "metadata": {
            "tags": []
          },
          "execution_count": 14
        }
      ]
    },
    {
      "metadata": {
        "id": "EqyoBaZWff8J",
        "colab_type": "code",
        "outputId": "883c3661-873d-4a50-b9c9-fdac96cf53b3",
        "colab": {
          "base_uri": "https://localhost:8080/",
          "height": 241
        }
      },
      "cell_type": "code",
      "source": [
        "#Upload the yield data. Filter to Mercer County in IL.\n",
        "df_yield = pd.read_csv('yield.csv')\n",
        "\n",
        "df_yield = df_yield[(df_yield['county'] == 'MERCER') & (df_yield['year'] >= 1981) & (df_yield['state_fips'] == 17)]\n",
        "\n",
        "print(df_yield.head())\n",
        "\n",
        "print(df_yield.tail())"
      ],
      "execution_count": 15,
      "outputs": [
        {
          "output_type": "stream",
          "text": [
            "     year  state_fips  county  county_code  yield\n",
            "185  2017          17  MERCER          131  238.7\n",
            "186  2016          17  MERCER          131  213.5\n",
            "187  2015          17  MERCER          131  205.7\n",
            "188  2014          17  MERCER          131  193.5\n",
            "189  2013          17  MERCER          131  177.1\n",
            "     year  state_fips  county  county_code  yield\n",
            "217  1985          17  MERCER          131  119.0\n",
            "218  1984          17  MERCER          131  118.0\n",
            "219  1983          17  MERCER          131   96.0\n",
            "220  1982          17  MERCER          131  124.0\n",
            "221  1981          17  MERCER          131  134.0\n"
          ],
          "name": "stdout"
        }
      ]
    },
    {
      "metadata": {
        "id": "y-d9jFp0tVSN",
        "colab_type": "code",
        "outputId": "3d20ab83-ddc1-4f61-c359-7ee176737ce1",
        "colab": {
          "base_uri": "https://localhost:8080/",
          "height": 225
        }
      },
      "cell_type": "code",
      "source": [
        "#Prepare to combine yield and yearly GDD and KDD data into one dataframe\n",
        "\n",
        "#Remember that we removed some \"bad\" years from GDD and KDD data. Remove those same years from yield.\n",
        "years = df_sum['year'].values\n",
        "df_yield = df_yield[df_yield['year'].isin(years)]\n",
        "\n",
        "#Check that the length of years is the same for both dataframes before appending\n",
        "print(len(df_yield['year']) == len(df_sum['year']))\n",
        "\n",
        "#Append on years column\n",
        "mercer_county_df = pd.merge(df_yield, df_sum, how = 'left', on = ['year'])\n",
        "\n",
        "#Reverse order so oldest is in row 1\n",
        "#mercer_county_df = mercer_county_df.iloc[::-1]\n",
        "\n",
        "mercer_county_df.head()"
      ],
      "execution_count": 16,
      "outputs": [
        {
          "output_type": "stream",
          "text": [
            "True\n"
          ],
          "name": "stdout"
        },
        {
          "output_type": "execute_result",
          "data": {
            "text/html": [
              "<div>\n",
              "<style scoped>\n",
              "    .dataframe tbody tr th:only-of-type {\n",
              "        vertical-align: middle;\n",
              "    }\n",
              "\n",
              "    .dataframe tbody tr th {\n",
              "        vertical-align: top;\n",
              "    }\n",
              "\n",
              "    .dataframe thead th {\n",
              "        text-align: right;\n",
              "    }\n",
              "</style>\n",
              "<table border=\"1\" class=\"dataframe\">\n",
              "  <thead>\n",
              "    <tr style=\"text-align: right;\">\n",
              "      <th></th>\n",
              "      <th>year</th>\n",
              "      <th>state_fips</th>\n",
              "      <th>county</th>\n",
              "      <th>county_code</th>\n",
              "      <th>yield</th>\n",
              "      <th>GDD_vegetative</th>\n",
              "      <th>GDD_early_grain</th>\n",
              "      <th>GDD_late_grain</th>\n",
              "      <th>KDD_vegetative</th>\n",
              "      <th>KDD_early_grain</th>\n",
              "      <th>KDD_late_grain</th>\n",
              "    </tr>\n",
              "  </thead>\n",
              "  <tbody>\n",
              "    <tr>\n",
              "      <th>0</th>\n",
              "      <td>2017</td>\n",
              "      <td>17</td>\n",
              "      <td>MERCER</td>\n",
              "      <td>131</td>\n",
              "      <td>238.7</td>\n",
              "      <td>756.171214</td>\n",
              "      <td>304.800571</td>\n",
              "      <td>496.079786</td>\n",
              "      <td>72.182857</td>\n",
              "      <td>31.967143</td>\n",
              "      <td>12.743000</td>\n",
              "    </tr>\n",
              "    <tr>\n",
              "      <th>1</th>\n",
              "      <td>2015</td>\n",
              "      <td>17</td>\n",
              "      <td>MERCER</td>\n",
              "      <td>131</td>\n",
              "      <td>205.7</td>\n",
              "      <td>767.107500</td>\n",
              "      <td>287.390643</td>\n",
              "      <td>467.498214</td>\n",
              "      <td>16.619000</td>\n",
              "      <td>20.632571</td>\n",
              "      <td>33.914571</td>\n",
              "    </tr>\n",
              "    <tr>\n",
              "      <th>2</th>\n",
              "      <td>2014</td>\n",
              "      <td>17</td>\n",
              "      <td>MERCER</td>\n",
              "      <td>131</td>\n",
              "      <td>193.5</td>\n",
              "      <td>733.184000</td>\n",
              "      <td>301.412643</td>\n",
              "      <td>493.217643</td>\n",
              "      <td>32.315429</td>\n",
              "      <td>6.991143</td>\n",
              "      <td>20.901143</td>\n",
              "    </tr>\n",
              "    <tr>\n",
              "      <th>3</th>\n",
              "      <td>2013</td>\n",
              "      <td>17</td>\n",
              "      <td>MERCER</td>\n",
              "      <td>131</td>\n",
              "      <td>177.1</td>\n",
              "      <td>766.389464</td>\n",
              "      <td>297.524643</td>\n",
              "      <td>504.888381</td>\n",
              "      <td>63.720714</td>\n",
              "      <td>27.951000</td>\n",
              "      <td>76.749762</td>\n",
              "    </tr>\n",
              "    <tr>\n",
              "      <th>4</th>\n",
              "      <td>2012</td>\n",
              "      <td>17</td>\n",
              "      <td>MERCER</td>\n",
              "      <td>131</td>\n",
              "      <td>180.1</td>\n",
              "      <td>701.574000</td>\n",
              "      <td>384.649214</td>\n",
              "      <td>399.781000</td>\n",
              "      <td>46.505571</td>\n",
              "      <td>74.319571</td>\n",
              "      <td>49.877714</td>\n",
              "    </tr>\n",
              "  </tbody>\n",
              "</table>\n",
              "</div>"
            ],
            "text/plain": [
              "   year  state_fips  county  county_code  yield  GDD_vegetative  \\\n",
              "0  2017          17  MERCER          131  238.7      756.171214   \n",
              "1  2015          17  MERCER          131  205.7      767.107500   \n",
              "2  2014          17  MERCER          131  193.5      733.184000   \n",
              "3  2013          17  MERCER          131  177.1      766.389464   \n",
              "4  2012          17  MERCER          131  180.1      701.574000   \n",
              "\n",
              "   GDD_early_grain  GDD_late_grain  KDD_vegetative  KDD_early_grain  \\\n",
              "0       304.800571      496.079786       72.182857        31.967143   \n",
              "1       287.390643      467.498214       16.619000        20.632571   \n",
              "2       301.412643      493.217643       32.315429         6.991143   \n",
              "3       297.524643      504.888381       63.720714        27.951000   \n",
              "4       384.649214      399.781000       46.505571        74.319571   \n",
              "\n",
              "   KDD_late_grain  \n",
              "0       12.743000  \n",
              "1       33.914571  \n",
              "2       20.901143  \n",
              "3       76.749762  \n",
              "4       49.877714  "
            ]
          },
          "metadata": {
            "tags": []
          },
          "execution_count": 16
        }
      ]
    },
    {
      "metadata": {
        "id": "3JmG0heuz2qB",
        "colab_type": "code",
        "outputId": "59c8553e-a9f3-491b-dce3-2b0690e02070",
        "colab": {
          "base_uri": "https://localhost:8080/",
          "height": 288
        }
      },
      "cell_type": "code",
      "source": [
        "x = mercer_county_df['year']\n",
        "y = mercer_county_df['GDD_vegetative']\n",
        "plt.plot(x,y)"
      ],
      "execution_count": 17,
      "outputs": [
        {
          "output_type": "execute_result",
          "data": {
            "text/plain": [
              "[<matplotlib.lines.Line2D at 0x7fd7db432080>]"
            ]
          },
          "metadata": {
            "tags": []
          },
          "execution_count": 17
        },
        {
          "output_type": "display_data",
          "data": {
            "image/png": "[encoded data removed]",
            "text/plain": [
              "<Figure size 432x288 with 1 Axes>"
            ]
          },
          "metadata": {
            "tags": []
          }
        }
      ]
    },
    {
      "metadata": {
        "id": "TyO2hxYH0ST7",
        "colab_type": "code",
        "outputId": "1ed68fdc-8904-4e21-c48f-ef36adf6d456",
        "colab": {
          "base_uri": "https://localhost:8080/",
          "height": 288
        }
      },
      "cell_type": "code",
      "source": [
        "x = mercer_county_df['GDD_vegetative']\n",
        "y = mercer_county_df['yield']\n",
        "plt.scatter(x,y)"
      ],
      "execution_count": 18,
      "outputs": [
        {
          "output_type": "execute_result",
          "data": {
            "text/plain": [
              "<matplotlib.collections.PathCollection at 0x7fd7db391c50>"
            ]
          },
          "metadata": {
            "tags": []
          },
          "execution_count": 18
        },
        {
          "output_type": "display_data",
          "data": {
            "image/png": "[encoded data removed]",
            "text/plain": [
              "<Figure size 432x288 with 1 Axes>"
            ]
          },
          "metadata": {
            "tags": []
          }
        }
      ]
    },
    {
      "metadata": {
        "id": "mMcKxRZOfgDn",
        "colab_type": "code",
        "outputId": "df4ff4ea-12a3-4c93-e535-6508672cf692",
        "colab": {
          "base_uri": "https://localhost:8080/",
          "height": 749
        }
      },
      "cell_type": "code",
      "source": [
        "#Check for linearity in variables\n",
        "\n",
        "df = mercer_county_df\n",
        "y = df['yield']\n",
        "\n",
        "f = plt.figure(figsize = (20,10))\n",
        "ax = f.add_subplot(331)\n",
        "ax2 = f.add_subplot(334)\n",
        "ax3 = f.add_subplot(335)\n",
        "ax4 = f.add_subplot(336)\n",
        "ax5 = f.add_subplot(337)\n",
        "ax6 = f.add_subplot(338)\n",
        "ax7 = f.add_subplot(339)\n",
        "\n",
        "ax.scatter(df['year'], y)\n",
        "ax.set_xlabel('Year')\n",
        "ax.set_ylabel('Yield')\n",
        "ax.set_title('Year vs. Yield')\n",
        "\n",
        "ax2.scatter(df['GDD_vegetative'], y)\n",
        "ax2.set_xlabel('GDD')\n",
        "ax2.set_ylabel('Yield')\n",
        "ax2.set_title('GDD_Vegetative vs. Yield')\n",
        "\n",
        "ax3.scatter(df['GDD_early_grain'], y)\n",
        "ax3.set_xlabel('GDD')\n",
        "ax3.set_ylabel('Yield')\n",
        "ax3.set_title('GDD_early_grain vs. Yield')\n",
        "\n",
        "ax4.scatter(df['GDD_late_grain'], y)\n",
        "ax4.set_xlabel('GDD')\n",
        "ax4.set_ylabel('Yield')\n",
        "ax4.set_title('GDD_late_grain vs. Yield')\n",
        "\n",
        "ax5.scatter(df['KDD_vegetative'], y)\n",
        "ax5.set_xlabel('KDD')\n",
        "ax5.set_ylabel('Yield')\n",
        "ax5.set_title('KDD_vegetative vs. Yield')\n",
        "\n",
        "ax6.scatter(df['KDD_early_grain'], y)\n",
        "ax6.set_xlabel('KDD')\n",
        "ax6.set_ylabel('Yield')\n",
        "ax6.set_title('KDD_early_grain vs. Yield')\n",
        "\n",
        "ax7.scatter(df['KDD_late_grain'], y)\n",
        "ax7.set_xlabel('KDD')\n",
        "ax7.set_ylabel('Yield')\n",
        "ax7.set_title('KDD_late_grain vs. Yield')\n",
        "\n",
        "plt.tight_layout()"
      ],
      "execution_count": 19,
      "outputs": [
        {
          "output_type": "display_data",
          "data": {
            "image/png": "[encoded data removed]",
            "text/plain": [
              "<Figure size 1440x720 with 7 Axes>"
            ]
          },
          "metadata": {
            "tags": []
          }
        }
      ]
    },
    {
      "metadata": {
        "id": "4jFN2bscfgF8",
        "colab_type": "code",
        "outputId": "0f8437e3-6ffe-4d93-99cf-cf428e5bd757",
        "colab": {
          "base_uri": "https://localhost:8080/",
          "height": 110
        }
      },
      "cell_type": "code",
      "source": [
        "from sklearn import linear_model\n",
        "\n",
        "x = mercer_county_df[['year','GDD_vegetative', 'GDD_early_grain', 'GDD_late_grain', 'KDD_vegetative', 'KDD_early_grain', 'KDD_late_grain']]\n",
        "y =mercer_county_df['yield']\n",
        "\n",
        "regr = linear_model.LinearRegression()\n",
        "regr.fit(x, y)\n",
        "\n",
        "print('Intercept: \\n', regr.intercept_)\n",
        "print('Coefficients: \\n', regr.coef_)"
      ],
      "execution_count": 20,
      "outputs": [
        {
          "output_type": "stream",
          "text": [
            "Intercept: \n",
            " -4182.942603735888\n",
            "Coefficients: \n",
            " [ 2.23825635 -0.17328153 -0.09721184  0.07208922 -0.04574813 -0.25745379\n",
            " -0.02036167]\n"
          ],
          "name": "stdout"
        }
      ]
    },
    {
      "metadata": {
        "id": "DjhZcBWYfgIl",
        "colab_type": "code",
        "outputId": "7a02c541-6b54-434e-f745-3c31e7999a28",
        "colab": {
          "base_uri": "https://localhost:8080/",
          "height": 300
        }
      },
      "cell_type": "code",
      "source": [
        "mercer_county_df1 = mercer_county_df[['yield','year','GDD_vegetative', 'GDD_early_grain', 'GDD_late_grain', 'KDD_vegetative', 'KDD_early_grain', 'KDD_late_grain']]\n",
        "mercer_county_df1.corr()"
      ],
      "execution_count": 21,
      "outputs": [
        {
          "output_type": "execute_result",
          "data": {
            "text/html": [
              "<div>\n",
              "<style scoped>\n",
              "    .dataframe tbody tr th:only-of-type {\n",
              "        vertical-align: middle;\n",
              "    }\n",
              "\n",
              "    .dataframe tbody tr th {\n",
              "        vertical-align: top;\n",
              "    }\n",
              "\n",
              "    .dataframe thead th {\n",
              "        text-align: right;\n",
              "    }\n",
              "</style>\n",
              "<table border=\"1\" class=\"dataframe\">\n",
              "  <thead>\n",
              "    <tr style=\"text-align: right;\">\n",
              "      <th></th>\n",
              "      <th>yield</th>\n",
              "      <th>year</th>\n",
              "      <th>GDD_vegetative</th>\n",
              "      <th>GDD_early_grain</th>\n",
              "      <th>GDD_late_grain</th>\n",
              "      <th>KDD_vegetative</th>\n",
              "      <th>KDD_early_grain</th>\n",
              "      <th>KDD_late_grain</th>\n",
              "    </tr>\n",
              "  </thead>\n",
              "  <tbody>\n",
              "    <tr>\n",
              "      <th>yield</th>\n",
              "      <td>1.000000</td>\n",
              "      <td>0.810016</td>\n",
              "      <td>-0.707427</td>\n",
              "      <td>-0.125314</td>\n",
              "      <td>0.219287</td>\n",
              "      <td>-0.515375</td>\n",
              "      <td>-0.397665</td>\n",
              "      <td>-0.339343</td>\n",
              "    </tr>\n",
              "    <tr>\n",
              "      <th>year</th>\n",
              "      <td>0.810016</td>\n",
              "      <td>1.000000</td>\n",
              "      <td>-0.616298</td>\n",
              "      <td>0.150210</td>\n",
              "      <td>0.195404</td>\n",
              "      <td>-0.293747</td>\n",
              "      <td>-0.098699</td>\n",
              "      <td>-0.151420</td>\n",
              "    </tr>\n",
              "    <tr>\n",
              "      <th>GDD_vegetative</th>\n",
              "      <td>-0.707427</td>\n",
              "      <td>-0.616298</td>\n",
              "      <td>1.000000</td>\n",
              "      <td>0.010823</td>\n",
              "      <td>0.060306</td>\n",
              "      <td>0.637535</td>\n",
              "      <td>0.422427</td>\n",
              "      <td>0.443050</td>\n",
              "    </tr>\n",
              "    <tr>\n",
              "      <th>GDD_early_grain</th>\n",
              "      <td>-0.125314</td>\n",
              "      <td>0.150210</td>\n",
              "      <td>0.010823</td>\n",
              "      <td>1.000000</td>\n",
              "      <td>-0.382408</td>\n",
              "      <td>0.259923</td>\n",
              "      <td>0.507366</td>\n",
              "      <td>0.179020</td>\n",
              "    </tr>\n",
              "    <tr>\n",
              "      <th>GDD_late_grain</th>\n",
              "      <td>0.219287</td>\n",
              "      <td>0.195404</td>\n",
              "      <td>0.060306</td>\n",
              "      <td>-0.382408</td>\n",
              "      <td>1.000000</td>\n",
              "      <td>0.110699</td>\n",
              "      <td>0.068556</td>\n",
              "      <td>0.352068</td>\n",
              "    </tr>\n",
              "    <tr>\n",
              "      <th>KDD_vegetative</th>\n",
              "      <td>-0.515375</td>\n",
              "      <td>-0.293747</td>\n",
              "      <td>0.637535</td>\n",
              "      <td>0.259923</td>\n",
              "      <td>0.110699</td>\n",
              "      <td>1.000000</td>\n",
              "      <td>0.776412</td>\n",
              "      <td>0.741198</td>\n",
              "    </tr>\n",
              "    <tr>\n",
              "      <th>KDD_early_grain</th>\n",
              "      <td>-0.397665</td>\n",
              "      <td>-0.098699</td>\n",
              "      <td>0.422427</td>\n",
              "      <td>0.507366</td>\n",
              "      <td>0.068556</td>\n",
              "      <td>0.776412</td>\n",
              "      <td>1.000000</td>\n",
              "      <td>0.736248</td>\n",
              "    </tr>\n",
              "    <tr>\n",
              "      <th>KDD_late_grain</th>\n",
              "      <td>-0.339343</td>\n",
              "      <td>-0.151420</td>\n",
              "      <td>0.443050</td>\n",
              "      <td>0.179020</td>\n",
              "      <td>0.352068</td>\n",
              "      <td>0.741198</td>\n",
              "      <td>0.736248</td>\n",
              "      <td>1.000000</td>\n",
              "    </tr>\n",
              "  </tbody>\n",
              "</table>\n",
              "</div>"
            ],
            "text/plain": [
              "                    yield      year  GDD_vegetative  GDD_early_grain  \\\n",
              "yield            1.000000  0.810016       -0.707427        -0.125314   \n",
              "year             0.810016  1.000000       -0.616298         0.150210   \n",
              "GDD_vegetative  -0.707427 -0.616298        1.000000         0.010823   \n",
              "GDD_early_grain -0.125314  0.150210        0.010823         1.000000   \n",
              "GDD_late_grain   0.219287  0.195404        0.060306        -0.382408   \n",
              "KDD_vegetative  -0.515375 -0.293747        0.637535         0.259923   \n",
              "KDD_early_grain -0.397665 -0.098699        0.422427         0.507366   \n",
              "KDD_late_grain  -0.339343 -0.151420        0.443050         0.179020   \n",
              "\n",
              "                 GDD_late_grain  KDD_vegetative  KDD_early_grain  \\\n",
              "yield                  0.219287       -0.515375        -0.397665   \n",
              "year                   0.195404       -0.293747        -0.098699   \n",
              "GDD_vegetative         0.060306        0.637535         0.422427   \n",
              "GDD_early_grain       -0.382408        0.259923         0.507366   \n",
              "GDD_late_grain         1.000000        0.110699         0.068556   \n",
              "KDD_vegetative         0.110699        1.000000         0.776412   \n",
              "KDD_early_grain        0.068556        0.776412         1.000000   \n",
              "KDD_late_grain         0.352068        0.741198         0.736248   \n",
              "\n",
              "                 KDD_late_grain  \n",
              "yield                 -0.339343  \n",
              "year                  -0.151420  \n",
              "GDD_vegetative         0.443050  \n",
              "GDD_early_grain        0.179020  \n",
              "GDD_late_grain         0.352068  \n",
              "KDD_vegetative         0.741198  \n",
              "KDD_early_grain        0.736248  \n",
              "KDD_late_grain         1.000000  "
            ]
          },
          "metadata": {
            "tags": []
          },
          "execution_count": 21
        }
      ]
    },
    {
      "metadata": {
        "id": "6QTQucK1t9oE",
        "colab_type": "code",
        "colab": {}
      },
      "cell_type": "code",
      "source": [
        "#Make function that calcuates least-squares regression coefficients: https://stattrek.com/multiple-regression/regression-coefficients.aspx\n",
        "#X and Y will be dataframes containing the independent and dependent variables respectivly\n",
        "\n",
        "#output = []\n",
        "\n",
        "def least_squares_coef(X,Y):\n",
        "  global output\n",
        "  #Add column of ones to matrix X\n",
        "  X.insert(0,'ones',1)\n",
        "  X = X.values\n",
        "\n",
        "  #Matrix X prime will be the transpose of matrix X\n",
        "  X_prime = X.transpose()\n",
        "\n",
        "  #Matrix Y is the dependent variable\n",
        "  Y = Y.values\n",
        "\n",
        "  #Calculate regression coefficients\n",
        "  #b = (X'X)^-1 * X'Y\n",
        "\n",
        "  W = np.linalg.inv(np.dot(X_prime, X))\n",
        "  Z = np.dot(X_prime, Y)\n",
        "  output = np.dot(W,Z)\n",
        " "
      ],
      "execution_count": 0,
      "outputs": []
    },
    {
      "metadata": {
        "id": "hOI97dsbuhcH",
        "colab_type": "code",
        "colab": {}
      },
      "cell_type": "code",
      "source": [
        "#Apply function to entire dataset\n",
        "X = mercer_county_df[['year','GDD_vegetative','GDD_early_grain','GDD_late_grain','KDD_vegetative','KDD_early_grain','KDD_late_grain']].copy()\n",
        "Y = mercer_county_df[['yield']].copy()\n",
        "\n",
        "\n",
        "least_squares_coef(X,Y)"
      ],
      "execution_count": 0,
      "outputs": []
    },
    {
      "metadata": {
        "id": "BUe9RkibMMIk",
        "colab_type": "code",
        "colab": {
          "base_uri": "https://localhost:8080/",
          "height": 166
        },
        "outputId": "9530d195-811e-4931-f76f-5569e02ae02c"
      },
      "cell_type": "code",
      "source": [
        "output"
      ],
      "execution_count": 85,
      "outputs": [
        {
          "output_type": "execute_result",
          "data": {
            "text/plain": [
              "array([[-4.18294260e+03],\n",
              "       [ 2.23825635e+00],\n",
              "       [-1.73281526e-01],\n",
              "       [-9.72118369e-02],\n",
              "       [ 7.20892191e-02],\n",
              "       [-4.57481301e-02],\n",
              "       [-2.57453788e-01],\n",
              "       [-2.03616650e-02]])"
            ]
          },
          "metadata": {
            "tags": []
          },
          "execution_count": 85
        }
      ]
    },
    {
      "metadata": {
        "id": "htGlJvqqhGp5",
        "colab_type": "code",
        "outputId": "87ed6166-c3df-4686-d259-e237a8e72209",
        "colab": {
          "base_uri": "https://localhost:8080/",
          "height": 110
        }
      },
      "cell_type": "code",
      "source": [
        "#Compare coefficients with those from sklearn\n",
        "from sklearn import linear_model\n",
        "\n",
        "x = mercer_county_df[['year','GDD_vegetative', 'GDD_early_grain', 'GDD_late_grain', 'KDD_vegetative', 'KDD_early_grain', 'KDD_late_grain']]\n",
        "y = mercer_county_df['yield']\n",
        "\n",
        "regr = linear_model.LinearRegression()\n",
        "regr.fit(x, y)\n",
        "\n",
        "print('Intercept: \\n', regr.intercept_)\n",
        "print('Coefficients: \\n', regr.coef_)"
      ],
      "execution_count": 24,
      "outputs": [
        {
          "output_type": "stream",
          "text": [
            "Intercept: \n",
            " -4182.942603735888\n",
            "Coefficients: \n",
            " [ 2.23825635 -0.17328153 -0.09721184  0.07208922 -0.04574813 -0.25745379\n",
            " -0.02036167]\n"
          ],
          "name": "stdout"
        }
      ]
    },
    {
      "metadata": {
        "id": "0dxK23ZbnuBD",
        "colab_type": "code",
        "colab": {}
      },
      "cell_type": "code",
      "source": [
        "#Split data into training and test then calculate coefficients\n",
        "X = mercer_county_df[['year','GDD_vegetative','GDD_early_grain','GDD_late_grain','KDD_vegetative','KDD_early_grain','KDD_late_grain']].copy()\n",
        "Y = mercer_county_df[['year','yield']].copy()\n",
        "\n",
        "#Pick 20 years at random for training, the other 11 will be used for testing\n",
        "X_train = X.sample(n = 20)\n",
        "\n",
        "#Need to sort values so row 0 is 2017 so that it matches order in Y matrix\n",
        "X_train.sort_values(by = ['year'], ascending = False, inplace = True)\n",
        "X_test = X.loc[~X.index.isin(X_train.index)]\n",
        "\n",
        "Y_train = Y[Y['year'].isin(X_train['year'].values)]\n",
        "Y_test = Y.loc[~Y.index.isin(Y_train.index)]\n",
        "Y_train = Y_train.drop('year', axis = 1)\n",
        "Y_test = Y_test.drop('year', axis =1)"
      ],
      "execution_count": 0,
      "outputs": []
    },
    {
      "metadata": {
        "id": "mI-aE12G1Ufb",
        "colab_type": "code",
        "outputId": "9006ac4d-8583-4a95-a867-7b9d8c5e8da9",
        "colab": {
          "base_uri": "https://localhost:8080/",
          "height": 36
        }
      },
      "cell_type": "code",
      "source": [
        "least_squares_coef(X = X_train, Y = Y_train)"
      ],
      "execution_count": 69,
      "outputs": [
        {
          "output_type": "stream",
          "text": [
            "<class 'numpy.ndarray'>\n"
          ],
          "name": "stdout"
        }
      ]
    },
    {
      "metadata": {
        "id": "eJd98Mj_Lzt2",
        "colab_type": "code",
        "colab": {
          "base_uri": "https://localhost:8080/",
          "height": 174
        },
        "outputId": "ca987a4e-cdc1-40ee-e084-1bba3e78c7b8"
      },
      "cell_type": "code",
      "source": [
        "ouput"
      ],
      "execution_count": 66,
      "outputs": [
        {
          "output_type": "error",
          "ename": "NameError",
          "evalue": "ignored",
          "traceback": [
            "\u001b[0;31m---------------------------------------------------------------------------\u001b[0m",
            "\u001b[0;31mNameError\u001b[0m                                 Traceback (most recent call last)",
            "\u001b[0;32m<ipython-input-66-1b0b69d0bb25>\u001b[0m in \u001b[0;36m<module>\u001b[0;34m()\u001b[0m\n\u001b[0;32m----> 1\u001b[0;31m \u001b[0mouput\u001b[0m\u001b[0;34m\u001b[0m\u001b[0;34m\u001b[0m\u001b[0m\n\u001b[0m",
            "\u001b[0;31mNameError\u001b[0m: name 'ouput' is not defined"
          ]
        }
      ]
    },
    {
      "metadata": {
        "id": "2ND_0M4539Hd",
        "colab_type": "code",
        "colab": {}
      },
      "cell_type": "code",
      "source": [
        "#Make distribution of coefficients\n",
        "\n",
        "X = mercer_county_df[['year','GDD_vegetative','GDD_early_grain','GDD_late_grain','KDD_vegetative','KDD_early_grain','KDD_late_grain']].copy()\n",
        "Y = mercer_county_df[['year','yield']].copy()\n",
        "\n",
        "intercept = []\n",
        "year_dist = []\n",
        "GDD_veg = []\n",
        "GDD_early = []\n",
        "GDD_late = []\n",
        "KDD_veg = []\n",
        "KDD_early = []\n",
        "KDD_late = []\n",
        "\n",
        "global output\n",
        "\n",
        "for i in range(1000):\n",
        "  X_train = X.sample(n = 20)\n",
        "  \n",
        "  #Need to sort values so row 0 is 2017 so that it matches order in Y matrix\n",
        "  X_train.sort_values(by = ['year'], ascending = False, inplace = True)\n",
        "  X_test = X.loc[~X.index.isin(X_train.index)]\n",
        "\n",
        "  Y_train = Y[Y['year'].isin(X_train['year'].values)]\n",
        "  Y_test = Y.loc[~Y.index.isin(Y_train.index)]\n",
        "  Y_train = Y_train.drop('year', axis = 1)\n",
        "  Y_test = Y_test.drop('year', axis =1)\n",
        "  \n",
        "  output = []\n",
        "  least_squares_coef(X = X_train, Y = Y_train)\n",
        "  \n",
        "  intercept.append(output[0,0])\n",
        "  year_dist.append(output[1,0])\n",
        "  GDD_veg.append(output[2,0])\n",
        "  GDD_early.append(output[3,0])\n",
        "  GDD_late.append(output[4,0])\n",
        "  KDD_veg.append(output[5,0])\n",
        "  KDD_early.append(output[6,0])\n",
        "  KDD_late.append(output[7,0])\n",
        "  "
      ],
      "execution_count": 0,
      "outputs": []
    },
    {
      "metadata": {
        "id": "eDUfgABA4aGV",
        "colab_type": "code",
        "outputId": "3684ed1c-d80b-428f-fa50-9fb089bd9d17",
        "colab": {
          "base_uri": "https://localhost:8080/",
          "height": 310
        }
      },
      "cell_type": "code",
      "source": [
        "from scipy.stats import norm\n",
        "\n",
        "plt.hist(year_dist, bins = 30, density = True, alpha = 0.4, color = 'blue')\n",
        "\n",
        "mu, std = norm.fit(year_dist)\n",
        "\n",
        "xmin, xmax = plt.xlim()\n",
        "x = np.linspace(xmin, xmax, 100)\n",
        "y = norm.pdf(x, mu, std)\n",
        "plt.plot(x, y, color = 'black')\n",
        "\n",
        "plt.xlabel('OLS Coefficient')\n",
        "plt.title('Year OLS Coefficient\\n' + 'mu = ' + str(round(mu,2)) + ' std = ' + str(round(std,2)) + ' n = 1000')\n",
        "plt.show()"
      ],
      "execution_count": 128,
      "outputs": [
        {
          "output_type": "display_data",
          "data": {
            "image/png": "[encoded data removed]",
            "text/plain": [
              "<Figure size 432x288 with 1 Axes>"
            ]
          },
          "metadata": {
            "tags": []
          }
        }
      ]
    },
    {
      "metadata": {
        "id": "rj_ag1L1OuOs",
        "colab_type": "code",
        "colab": {}
      },
      "cell_type": "code",
      "source": [
        "#Function to plot distribution of coefficients and input plots name\n",
        "\n",
        "def plot_dist(variable):\n",
        "  name = input(\"Name of plot? \")\n",
        "  \n",
        "  plt.hist(variable, bins = 30, density = True, alpha = 0.4, color = 'blue')\n",
        "\n",
        "  mu, std = norm.fit(variable)\n",
        "\n",
        "  xmin, xmax = plt.xlim()\n",
        "  x = np.linspace(xmin, xmax, 100)\n",
        "  y = norm.pdf(x, mu, std)\n",
        "  plt.plot(x, y, color = 'black')\n",
        "\n",
        "  plt.xlabel(name + ' OLS Coefficient')\n",
        "  plt.title(name + ' OLS Coefficient\\n' + 'mu = ' + str(round(mu,2)) + ' std = ' + str(round(std,2)) + ' n = 1000')\n",
        "  \n"
      ],
      "execution_count": 0,
      "outputs": []
    },
    {
      "metadata": {
        "id": "fcA4AN98bpF5",
        "colab_type": "code",
        "colab": {
          "base_uri": "https://localhost:8080/",
          "height": 330
        },
        "outputId": "cf07d5f8-62f0-4650-cc5f-b19b8c1e86ea"
      },
      "cell_type": "code",
      "source": [
        "plot_dist(KDD_late)"
      ],
      "execution_count": 165,
      "outputs": [
        {
          "output_type": "stream",
          "text": [
            "Name of plot? KDD_late\n"
          ],
          "name": "stdout"
        },
        {
          "output_type": "display_data",
          "data": {
            "image/png": "[encoded data removed]",
            "text/plain": [
              "<Figure size 432x288 with 1 Axes>"
            ]
          },
          "metadata": {
            "tags": []
          }
        }
      ]
    },
    {
      "metadata": {
        "id": "J1-TTRMmUEUO",
        "colab_type": "code",
        "colab": {}
      },
      "cell_type": "code",
      "source": [
        ""
      ],
      "execution_count": 0,
      "outputs": []
    }
  ]
}