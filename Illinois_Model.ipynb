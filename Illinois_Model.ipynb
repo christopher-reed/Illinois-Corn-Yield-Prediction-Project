{
  "nbformat": 4,
  "nbformat_minor": 0,
  "metadata": {
    "colab": {
      "name": "Illinois Model",
      "version": "0.3.2",
      "provenance": [],
      "collapsed_sections": []
    },
    "kernelspec": {
      "name": "python3",
      "display_name": "Python 3"
    }
  },
  "cells": [
    {
      "cell_type": "code",
      "metadata": {
        "id": "5jbaKOrI64S6",
        "colab_type": "code",
        "colab": {}
      },
      "source": [
        "import pandas as pd\n",
        "import numpy as np\n",
        "import matplotlib.pyplot as plt\n",
        "import copy\n",
        "import random\n",
        "from ftplib import FTP\n",
        "from calendar import isleap\n",
        "from collections import defaultdict\n",
        "import pickle\n",
        "\n",
        "#Stations that do not go all the way to Dec 2017 for tmax\n",
        "#USC00117551_tmax, USC00116910_tmax, USC00111280_tmax, USC00118147_tmax, USC00115515_tmax"
      ],
      "execution_count": 0,
      "outputs": []
    },
    {
      "cell_type": "code",
      "metadata": {
        "id": "_0QmrpiM8He0",
        "colab_type": "code",
        "colab": {}
      },
      "source": [
        "#weather stations to download .dly files from\n",
        "\n",
        "#USC00118916, USC00113335, USC00117551, USC00116910, USC00118740, USC00111280, USC00111436, USC00118147, USC00115515\n",
        "\n",
        "colspecs = ((0,12),(12,21),(21,31),(31,38),\n",
        "\t    (38,41),(41,72),(72,80),(80,86))\n",
        "meta = pd.read_fwf('ghcnd-stations.txt',\n",
        "\t\t    colspecs=colspecs,header=None,index_col=False,\n",
        "\t\t    names=['stationID','lat','lon','elev',\n",
        "\t\t\t   'state','name','network','val'])\n",
        "\t\t   \n",
        "ushcn = meta[meta['network'].str.match('HCN',na=False)]\n",
        "\n",
        "states = ['IL']\n",
        "\n",
        "stations = ushcn[ushcn.state.isin(states)].stationID.values.tolist()\n",
        "\n",
        "# save location information for later\n",
        "loc_var = ['lat','lon','elev']\n",
        "tmp = ushcn.loc[ushcn.stationID.isin(stations),loc_var]\n",
        "locs = pd.DataFrame(data=tmp.values,index=stations,columns=loc_var).T\n",
        "\n",
        "stations = [s+'.dly' for s in stations]\n",
        "\n",
        "ftp = FTP('ftp.ncdc.noaa.gov')\n",
        "# email address should work for password\n",
        "ftp.login(passwd='XXX@YYY')\n",
        "ftp.cwd('/pub/data/ghcn/daily/hcn')\n",
        "# make sure you're in the right directory\n",
        "\n",
        "stat = 'USC00115515.dly'\n",
        "ftp.retrbinary('RETR '+stat, open(stat,'wb').write)\n",
        "if int(stat[3:11]) % 5 == 0: print(stat)\n",
        "ftp.close()"
      ],
      "execution_count": 0,
      "outputs": []
    },
    {
      "cell_type": "code",
      "metadata": {
        "id": "E-w1HKZBAbQ1",
        "colab_type": "code",
        "outputId": "d0497a5a-d2c2-471a-94a7-eecb4e99235d",
        "colab": {
          "base_uri": "https://localhost:8080/",
          "height": 206
        }
      },
      "source": [
        "IL_counties = pd.read_csv('Grouped_IL_Counties.csv')\n",
        "IL_counties.head()"
      ],
      "execution_count": 0,
      "outputs": [
        {
          "output_type": "execute_result",
          "data": {
            "text/html": [
              "<div>\n",
              "<style scoped>\n",
              "    .dataframe tbody tr th:only-of-type {\n",
              "        vertical-align: middle;\n",
              "    }\n",
              "\n",
              "    .dataframe tbody tr th {\n",
              "        vertical-align: top;\n",
              "    }\n",
              "\n",
              "    .dataframe thead th {\n",
              "        text-align: right;\n",
              "    }\n",
              "</style>\n",
              "<table border=\"1\" class=\"dataframe\">\n",
              "  <thead>\n",
              "    <tr style=\"text-align: right;\">\n",
              "      <th></th>\n",
              "      <th>COUNTY_NAM</th>\n",
              "      <th>CO_FIPS</th>\n",
              "      <th>STATION_ID</th>\n",
              "    </tr>\n",
              "  </thead>\n",
              "  <tbody>\n",
              "    <tr>\n",
              "      <th>0</th>\n",
              "      <td>MCHENRY</td>\n",
              "      <td>111</td>\n",
              "      <td>USC00118916</td>\n",
              "    </tr>\n",
              "    <tr>\n",
              "      <th>1</th>\n",
              "      <td>BOONE</td>\n",
              "      <td>7</td>\n",
              "      <td>USC00118916</td>\n",
              "    </tr>\n",
              "    <tr>\n",
              "      <th>2</th>\n",
              "      <td>OGLE</td>\n",
              "      <td>141</td>\n",
              "      <td>USC00118916</td>\n",
              "    </tr>\n",
              "    <tr>\n",
              "      <th>3</th>\n",
              "      <td>LASALLE</td>\n",
              "      <td>99</td>\n",
              "      <td>USC00118916</td>\n",
              "    </tr>\n",
              "    <tr>\n",
              "      <th>4</th>\n",
              "      <td>BUREAU</td>\n",
              "      <td>11</td>\n",
              "      <td>USC00118916</td>\n",
              "    </tr>\n",
              "  </tbody>\n",
              "</table>\n",
              "</div>"
            ],
            "text/plain": [
              "  COUNTY_NAM  CO_FIPS   STATION_ID\n",
              "0    MCHENRY      111  USC00118916\n",
              "1      BOONE        7  USC00118916\n",
              "2       OGLE      141  USC00118916\n",
              "3    LASALLE       99  USC00118916\n",
              "4     BUREAU       11  USC00118916"
            ]
          },
          "metadata": {
            "tags": []
          },
          "execution_count": 4
        }
      ]
    },
    {
      "cell_type": "code",
      "metadata": {
        "id": "bF17MMXcuGEp",
        "colab_type": "code",
        "colab": {}
      },
      "source": [
        "def var_ext(var,stat):\n",
        "  sv = pd.Series()\n",
        "  \n",
        "  # index of variable to extract\n",
        "  idx = stat[stat.loc[:,'VAR']==var].index.tolist()\n",
        "  \n",
        "  # days in each month incl. leap year day\n",
        "  days = [31,28,31,30,31,30,31,31,30,31,30,31]\n",
        "  ldays = [31,29,31,30,31,30,31,31,30,31,30,31]\n",
        "  \n",
        "  # convenience variables for years and months\n",
        "  yr = stat.loc[idx,'YR']\n",
        "  mo = stat.loc[idx,'MO']\n",
        "  \n",
        "  # loop through every instance of the variable to extract\n",
        "  for i in idx:\n",
        "    # number of days in month\n",
        "    if isleap(yr[i]):\n",
        "      d = ldays[mo[i]-1]\n",
        "    else:\n",
        "      d = days[mo[i]-1]\n",
        "    # only pull values that correspond to days in the month\n",
        "    out = stat.loc[i][list(range(4,4*(d+1),4))] \n",
        "    \n",
        "    # replace missing values with NaN\n",
        "    out[out==-9999] = np.nan\n",
        "    \n",
        "    # reindex with proper time stamp\n",
        "    tm = pd.to_datetime({'year':yr[i],'month':mo[i],'day':range(1,d+1)})\n",
        "    out = pd.Series(out.values,index=tm)*0.1 # convert to measured units\n",
        "    sv = pd.concat([sv,out])\n",
        "    \n",
        "  # get full date vector and expand NaNs for missing data\n",
        "  date1 = pd.to_datetime({'year':yr[idx[0]],'month':mo[idx[0]],'day':[1]})\n",
        "  date2 = pd.to_datetime({'year':yr[idx[-1]],'month':mo[idx[-1]],'day':[d]})\n",
        "  all_dates = pd.date_range(start=date1[0],end=date2[0])\n",
        "  sv = sv.reindex(index=all_dates)\n",
        "  return sv"
      ],
      "execution_count": 0,
      "outputs": []
    },
    {
      "cell_type": "code",
      "metadata": {
        "id": "tSyZ1A7LxUe8",
        "colab_type": "code",
        "colab": {}
      },
      "source": [
        "#Make dictionaries storing tmax and tmin data for each station. Takes a few minutes!\n",
        "\n",
        "wids = [11,4,2,4]+[5,1,1,1]*31\n",
        "nam = ['VAL','MFL','QFL','SFL']*31\n",
        "num = list(range(1,32))*4\n",
        "num.sort()\n",
        "val_flg = [nam[i]+str(num[i]) for i in range(len(num))]\n",
        "\n",
        "stations = ['USC00118916.dly', 'USC00113335.dly', 'USC00117551.dly', 'USC00116910.dly', 'USC00118740.dly', 'USC00111280.dly', 'USC00111436.dly', 'USC00118147.dly', 'USC00115515.dly']\n",
        "\n",
        "tmax_dict = {}\n",
        "for s in stations:\n",
        "  stat = pd.read_fwf(s,widths=wids,header=None,index_col=False,names=['ID','YR','MO','VAR']+val_flg)\n",
        "  tmax = var_ext('TMAX', stat)\n",
        "  s = s.replace('.dly', '')\n",
        "  tmax_dict[s] = tmax\n",
        "  \n",
        "tmin_dict = {}\n",
        "for s in stations:\n",
        "  stat = pd.read_fwf(s,widths=wids,header=None,index_col=False,names=['ID','YR','MO','VAR']+val_flg)\n",
        "  tmax = var_ext('TMIN', stat)\n",
        "  s = s.replace('.dly', '')\n",
        "  tmin_dict[s] = tmax"
      ],
      "execution_count": 0,
      "outputs": []
    },
    {
      "cell_type": "code",
      "metadata": {
        "id": "O0tqS0LSJRJZ",
        "colab_type": "code",
        "colab": {}
      },
      "source": [
        "#Combine tmax and tmin for each station\n",
        "\n",
        "combined_dict = {}\n",
        "\n",
        "for i,j in tmax_dict.items():\n",
        "  df = pd.concat([tmax_dict[i].rename('TMAX'), tmin_dict[i].rename('TMIN')], axis=1)\n",
        "  combined_dict[i] = df\n",
        "  "
      ],
      "execution_count": 0,
      "outputs": []
    },
    {
      "cell_type": "code",
      "metadata": {
        "id": "iL27PpXcSbfi",
        "colab_type": "code",
        "colab": {}
      },
      "source": [
        "#Save raw temp data using pickle\n",
        "pickle.dump(combined_dict, open('raw_temp_data.p', 'wb'))"
      ],
      "execution_count": 0,
      "outputs": []
    },
    {
      "cell_type": "code",
      "metadata": {
        "id": "C-mmzBgJEb2Z",
        "colab_type": "code",
        "colab": {}
      },
      "source": [
        "combined_dict.keys()"
      ],
      "execution_count": 0,
      "outputs": []
    },
    {
      "cell_type": "code",
      "metadata": {
        "id": "lellxyk1kTom",
        "colab_type": "code",
        "colab": {}
      },
      "source": [
        "#Original version of interpolate code. Made modification to deal with very last value being nan\n",
        "\n",
        "# interpolated_TMAX_dict = {}\n",
        "# bad_years_TMAX_dict = {}\n",
        "\n",
        "# for i, j in combined_dict.items():\n",
        "  \n",
        "#   #Pick out ith df. Make sure index is in datetime. Set date range. Make a copy of TMAX column in df\n",
        "#   temp_sample = copy.deepcopy(combined_dict[i].loc['1981-01-01':'2017-12-31']) \n",
        "#   temp_TMAX = copy.deepcopy(temp_sample[['TMAX']])\n",
        "#   temp_TMAX['TMAX'] = pd.to_numeric(temp_TMAX['TMAX'])\n",
        "\n",
        "#   count = 0\n",
        "#   flag = False\n",
        "#   bad_years_TMAX = []\n",
        "\n",
        "#   #idx is the row number starting at zero, t is the actual temperature value\n",
        "#   for idx, t in enumerate(temp_TMAX.TMAX):\n",
        "#     if flag == False and ~np.isnan(t):\n",
        "#       continue\n",
        "\n",
        "#     elif flag == False and np.isnan(t):\n",
        "#       #Case where row 0 is nan. Make value of row 1 = row 2, then set start index to row 0\n",
        "#       if idx == 0:\n",
        "#         flag = False\n",
        "#         temp_TMAX.iloc[0] = temp_TMAX.iloc[1].values\n",
        "\n",
        "#       elif idx != 0:\n",
        "#         flag = True\n",
        "#         start_index = temp_TMAX.index[idx-1] #find index of point right before first nan\n",
        "#         count = count + 1\n",
        "\n",
        "#     elif flag == True and np.isnan(t):\n",
        "#       count = count + 1\n",
        "\n",
        "#     elif flag == True and ~np.isnan(t):\n",
        "#       flag == False\n",
        "#       end_index = temp_TMAX.index[idx]\n",
        "\n",
        "#       if count <= 7:\n",
        "#         interpolated = temp_TMAX[start_index:end_index].interpolate()\n",
        "#         temp_TMAX.update(interpolated) #update the uninterpolated data with the newly interpolated data\n",
        "\n",
        "\n",
        "#       elif count > 7:\n",
        "#         if end_index.year not in bad_years_TMAX:\n",
        "#           bad_years_TMAX.append(end_index.year)\n",
        "\n",
        "#           if start_index.year not in bad_years_TMAX: #in case missing data stretches between years\n",
        "#             bad_years_TMAX.append(start_index.year)\n",
        "\n",
        "#       count = 0\n",
        "\n",
        "#   #add a years column\n",
        "#   temp_TMAX['year'] = temp_TMAX.index.year  \n",
        "\n",
        "#   #drop the rows in bad years\n",
        "#   for b in bad_years_TMAX:\n",
        "#     temp_TMAX = temp_TMAX[temp_TMAX.index.year != b]\n",
        "\n",
        "#   #drop the year column\n",
        "#   temp_TMAX = temp_TMAX.drop(columns = ['year'])\n",
        "\n",
        "#   interpolated_TMAX_dict[i] = temp_TMAX\n",
        "#   bad_years_TMAX_dict[i] = bad_years_TMAX"
      ],
      "execution_count": 0,
      "outputs": []
    },
    {
      "cell_type": "code",
      "metadata": {
        "id": "i3mJqgrKtmhE",
        "colab_type": "code",
        "colab": {}
      },
      "source": [
        "# interpolated_TMIN_dict = {}\n",
        "# bad_years_TMIN_dict = {}\n",
        "\n",
        "# for i, j in combined_dict.items():\n",
        "  \n",
        "#   #Pick out ith df. Make sure index is in datetime. Set date range. Make a copy of TMAX column in df\n",
        "#   temp_sample = copy.deepcopy(combined_dict[i].loc['1981-01-01':'2017-12-31']) \n",
        "#   temp_TMIN = copy.deepcopy(temp_sample[['TMIN']])\n",
        "#   temp_TMIN['TMIN'] = pd.to_numeric(temp_TMIN['TMIN'])\n",
        "\n",
        "#   count = 0\n",
        "#   flag = False\n",
        "#   bad_years_TMIN = []\n",
        "\n",
        "#   #idx is the row number starting at zero, t is the actual temperature value\n",
        "#   for idx, t in enumerate(temp_TMIN.TMIN):\n",
        "#     if flag == False and ~np.isnan(t):\n",
        "#       continue\n",
        "\n",
        "#     elif flag == False and np.isnan(t):\n",
        "#       #Case where row 0 is nan. Make value of row 1 = row 2, then set start index to row 0\n",
        "#       if idx == 0:\n",
        "#         flag = False\n",
        "#         temp_TMIN.iloc[0] = temp_TMIN.iloc[1].values\n",
        "\n",
        "#       elif idx != 0:\n",
        "#         flag = True\n",
        "#         start_index = temp_TMIN.index[idx-1] #find index of point right before first nan\n",
        "#         count = count + 1\n",
        "\n",
        "#     elif flag == True and np.isnan(t):\n",
        "#       count = count + 1\n",
        "\n",
        "#     elif flag == True and ~np.isnan(t):\n",
        "#       flag == False\n",
        "#       end_index = temp_TMIN.index[idx]\n",
        "\n",
        "#       if count <= 7:\n",
        "#         interpolated = temp_TMIN[start_index:end_index].interpolate()\n",
        "#         temp_TMIN.update(interpolated) #update the uninterpolated data with the newly interpolated data\n",
        "\n",
        "\n",
        "#       elif count > 7:\n",
        "#         if end_index.year not in bad_years_TMIN:\n",
        "#           bad_years_TMIN.append(end_index.year)\n",
        "\n",
        "#           if start_index.year not in bad_years_TMIN: #in case missing data stretches between years\n",
        "#             bad_years_TMIN.append(start_index.year)\n",
        "\n",
        "#       count = 0\n",
        "\n",
        "#   #add a years column\n",
        "#   temp_TMIN['year'] = temp_TMIN.index.year  \n",
        "\n",
        "#   #drop the rows in bad years\n",
        "#   for b in bad_years_TMIN:\n",
        "#     temp_TMIN = temp_TMIN[temp_TMIN.index.year != b]\n",
        "\n",
        "#   #drop the year column\n",
        "#   temp_TMIN = temp_TMIN.drop(columns = ['year'])\n",
        "\n",
        "#   interpolated_TMIN_dict[i] = temp_TMIN\n",
        "#   bad_years_TMIN_dict[i] = bad_years_TMIN"
      ],
      "execution_count": 0,
      "outputs": []
    },
    {
      "cell_type": "code",
      "metadata": {
        "id": "0tX2Ryica8Dv",
        "colab_type": "code",
        "colab": {}
      },
      "source": [
        "interpolated_TMAX_dict = {}\n",
        "bad_years_TMAX_dict = {}\n",
        "\n",
        "for i, j in combined_dict.items():\n",
        "  \n",
        "  #Pick out ith df. Make sure index is in datetime. Set date range. Make a copy of TMAX column in df\n",
        "  temp_sample = copy.deepcopy(combined_dict[i].loc['1981-01-01':'2017-12-31']) \n",
        "  temp_TMAX = copy.deepcopy(temp_sample[['TMAX']])\n",
        "  temp_TMAX['TMAX'] = pd.to_numeric(temp_TMAX['TMAX'])\n",
        "\n",
        "  count = 0\n",
        "  flag = False\n",
        "  bad_years_TMAX = []\n",
        "\n",
        "  #idx is the row number starting at zero, t is the actual temperature value\n",
        "  for idx, t in enumerate(temp_TMAX.TMAX):\n",
        "    if flag == False and ~np.isnan(t):\n",
        "      continue\n",
        "\n",
        "    elif flag == False and np.isnan(t):\n",
        "      #Case where row 0 is nan. Make value of row 1 = row 2, then set start index to row 0\n",
        "      if idx == 0:\n",
        "        flag = False\n",
        "        temp_TMAX.iloc[0] = temp_TMAX.iloc[1].values\n",
        "\n",
        "      elif idx != 0:\n",
        "        flag = True\n",
        "        start_index = temp_TMAX.index[idx-1] #find index of point right before first nan\n",
        "        count = count + 1\n",
        "\n",
        "    elif flag == True and np.isnan(t):\n",
        "      count = count + 1\n",
        "      if count > 7 and len(temp_TMAX)-1 == idx:\n",
        "        bad_years_TMAX.append(temp_TMAX.index[idx].year)\n",
        "\n",
        "    elif flag == True and ~np.isnan(t):\n",
        "      flag == False\n",
        "      end_index = temp_TMAX.index[idx]\n",
        "\n",
        "      if count <= 7:\n",
        "        interpolated = temp_TMAX[start_index:end_index].interpolate()\n",
        "        temp_TMAX.update(interpolated) #update the uninterpolated data with the newly interpolated data\n",
        "\n",
        "\n",
        "      elif count > 7:\n",
        "        if end_index.year not in bad_years_TMAX:\n",
        "          bad_years_TMAX.append(end_index.year)\n",
        "\n",
        "          if start_index.year not in bad_years_TMAX: #in case missing data stretches between years\n",
        "            bad_years_TMAX.append(start_index.year)\n",
        "\n",
        "      count = 0\n",
        "\n",
        "  #add a years column\n",
        "  temp_TMAX['year'] = temp_TMAX.index.year  \n",
        "\n",
        "  #drop the rows in bad years\n",
        "  for b in bad_years_TMAX:\n",
        "    temp_TMAX = temp_TMAX[temp_TMAX.index.year != b]\n",
        "\n",
        "  #drop the year column\n",
        "  temp_TMAX = temp_TMAX.drop(columns = ['year'])\n",
        "\n",
        "  interpolated_TMAX_dict[i] = temp_TMAX\n",
        "  bad_years_TMAX_dict[i] = bad_years_TMAX"
      ],
      "execution_count": 0,
      "outputs": []
    },
    {
      "cell_type": "code",
      "metadata": {
        "id": "Y38irMUEa_vG",
        "colab_type": "code",
        "colab": {}
      },
      "source": [
        "interpolated_TMIN_dict = {}\n",
        "bad_years_TMIN_dict = {}\n",
        "\n",
        "for i, j in combined_dict.items():\n",
        "  \n",
        "  #Pick out ith df. Make sure index is in datetime. Set date range. Make a copy of TMAX column in df\n",
        "  temp_sample = copy.deepcopy(combined_dict[i].loc['1981-01-01':'2017-12-31']) \n",
        "  temp_TMIN = copy.deepcopy(temp_sample[['TMIN']])\n",
        "  temp_TMIN['TMIN'] = pd.to_numeric(temp_TMIN['TMIN'])\n",
        "\n",
        "  count = 0\n",
        "  flag = False\n",
        "  bad_years_TMIN = []\n",
        "\n",
        "  #idx is the row number starting at zero, t is the actual temperature value\n",
        "  for idx, t in enumerate(temp_TMIN.TMIN):\n",
        "    if flag == False and ~np.isnan(t):\n",
        "      continue\n",
        "\n",
        "    elif flag == False and np.isnan(t):\n",
        "      #Case where row 0 is nan. Make value of row 1 = row 2, then set start index to row 0\n",
        "      if idx == 0:\n",
        "        flag = False\n",
        "        temp_TMIN.iloc[0] = temp_TMIN.iloc[1].values\n",
        "\n",
        "      elif idx != 0:\n",
        "        flag = True\n",
        "        start_index = temp_TMIN.index[idx-1] #find index of point right before first nan\n",
        "        count = count + 1\n",
        "\n",
        "    elif flag == True and np.isnan(t):\n",
        "      count = count + 1\n",
        "      #Case where very last value in dataset is nan so end index never found\n",
        "      if count > 7 and len(temp_TMIN)-1 == idx:\n",
        "        bad_years_TMIN.append(temp_TMIN.index[idx].year)\n",
        "\n",
        "    elif flag == True and ~np.isnan(t):\n",
        "      flag == False\n",
        "      end_index = temp_TMIN.index[idx]\n",
        "\n",
        "      if count <= 7:\n",
        "        interpolated = temp_TMIN[start_index:end_index].interpolate()\n",
        "        temp_TMIN.update(interpolated) #update the uninterpolated data with the newly interpolated data\n",
        "\n",
        "\n",
        "      elif count > 7:\n",
        "        if end_index.year not in bad_years_TMIN:\n",
        "          bad_years_TMIN.append(end_index.year)\n",
        "\n",
        "          if start_index.year not in bad_years_TMIN: #in case missing data stretches between years\n",
        "            bad_years_TMIN.append(start_index.year)\n",
        "\n",
        "      count = 0\n",
        "\n",
        "  #add a years column\n",
        "  temp_TMIN['year'] = temp_TMIN.index.year  \n",
        "\n",
        "  #drop the rows in bad years\n",
        "  for b in bad_years_TMIN:\n",
        "    temp_TMIN = temp_TMIN[temp_TMIN.index.year != b]\n",
        "\n",
        "  #drop the year column\n",
        "  temp_TMIN = temp_TMIN.drop(columns = ['year'])\n",
        "\n",
        "  interpolated_TMIN_dict[i] = temp_TMIN\n",
        "  bad_years_TMIN_dict[i] = bad_years_TMIN"
      ],
      "execution_count": 0,
      "outputs": []
    },
    {
      "cell_type": "code",
      "metadata": {
        "id": "izt_BLwHupzz",
        "colab_type": "code",
        "colab": {}
      },
      "source": [
        "#Recombine TMIN and TMAX\n",
        "\n",
        "combined_dict = {}\n",
        "\n",
        "for i,j in interpolated_TMAX_dict.items():\n",
        "  df = pd.concat([interpolated_TMAX_dict[i], interpolated_TMIN_dict[i]], axis=1)\n",
        "  combined_dict[i] = df"
      ],
      "execution_count": 0,
      "outputs": []
    },
    {
      "cell_type": "code",
      "metadata": {
        "id": "Sa-oop6c3G_3",
        "colab_type": "code",
        "colab": {}
      },
      "source": [
        "#Merge bad years lists\n",
        "bad_years = defaultdict(list)\n",
        "\n",
        "for d in (bad_years_TMIN_dict, bad_years_TMAX_dict):\n",
        "  for key, value in d.items():\n",
        "    bad_years[key].append(value)\n",
        "    \n",
        "for i, j in bad_years.items():\n",
        "  bad_years[i] = list(set(bad_years[i][0] + bad_years[i][1]))\n",
        "\n",
        "#Make sure all bad years are removed from relevant station\n",
        "for i in combined_dict:\n",
        "  for b in bad_years[i]:\n",
        "    combined_dict[i] = combined_dict[i][combined_dict[i].index.year != b]"
      ],
      "execution_count": 0,
      "outputs": []
    },
    {
      "cell_type": "code",
      "metadata": {
        "id": "6k4IQ1Ac1buP",
        "colab_type": "code",
        "colab": {}
      },
      "source": [
        "for i in combined_dict:\n",
        "\n",
        "  #Make columns for bounded temps. For now just copy observed values into them.\n",
        "  combined_dict[i]['TMAX_bound'] = combined_dict[i]['TMAX']\n",
        "  combined_dict[i]['TMIN_bound'] = combined_dict[i]['TMIN']\n",
        "  \n",
        "  #Constrain the TMAX and TMIN values\n",
        "  combined_dict[i].loc[combined_dict[i].TMAX_bound >= 29, 'TMAX_bound'] = 29\n",
        "  combined_dict[i].loc[combined_dict[i].TMAX_bound <= 9, 'TMAX_bound'] = 9\n",
        "  \n",
        "  combined_dict[i].loc[combined_dict[i].TMIN_bound >= 29, 'TMIN_bound'] = 29\n",
        "  combined_dict[i].loc[combined_dict[i].TMIN_bound <= 9, 'TMIN_bound'] = 9\n",
        "  \n",
        "  #Make new column for GDD\n",
        "  combined_dict[i]['GDD'] = (((combined_dict[i].TMIN_bound) + (combined_dict[i].TMAX_bound))/2) - 9\n",
        "  \n",
        "  #Make new column for KDD. np.where(condition, value if true, value if false)\n",
        "  combined_dict[i]['KDD'] = np.where(combined_dict[i].TMAX > 29, combined_dict[i].TMAX - 29, 0)\n",
        "  \n",
        "  \n",
        "  "
      ],
      "execution_count": 0,
      "outputs": []
    },
    {
      "cell_type": "code",
      "metadata": {
        "id": "PjvXSg0y_FBQ",
        "colab_type": "code",
        "outputId": "eee0e87b-126d-4d82-fd80-c21dd4a54908",
        "colab": {
          "base_uri": "https://localhost:8080/",
          "height": 394
        }
      },
      "source": [
        "#Stop here for tonight. \n",
        "combined_dict['USC00111280'].loc['1981-04-20':'1981-04-30']"
      ],
      "execution_count": 0,
      "outputs": [
        {
          "output_type": "execute_result",
          "data": {
            "text/html": [
              "<div>\n",
              "<style scoped>\n",
              "    .dataframe tbody tr th:only-of-type {\n",
              "        vertical-align: middle;\n",
              "    }\n",
              "\n",
              "    .dataframe tbody tr th {\n",
              "        vertical-align: top;\n",
              "    }\n",
              "\n",
              "    .dataframe thead th {\n",
              "        text-align: right;\n",
              "    }\n",
              "</style>\n",
              "<table border=\"1\" class=\"dataframe\">\n",
              "  <thead>\n",
              "    <tr style=\"text-align: right;\">\n",
              "      <th></th>\n",
              "      <th>TMAX</th>\n",
              "      <th>TMIN</th>\n",
              "      <th>TMAX_bound</th>\n",
              "      <th>TMIN_bound</th>\n",
              "      <th>GDD</th>\n",
              "      <th>KDD</th>\n",
              "    </tr>\n",
              "  </thead>\n",
              "  <tbody>\n",
              "    <tr>\n",
              "      <th>1981-04-20</th>\n",
              "      <td>13.3</td>\n",
              "      <td>5.6</td>\n",
              "      <td>13.3</td>\n",
              "      <td>9.0</td>\n",
              "      <td>2.15</td>\n",
              "      <td>0.0</td>\n",
              "    </tr>\n",
              "    <tr>\n",
              "      <th>1981-04-21</th>\n",
              "      <td>17.2</td>\n",
              "      <td>2.8</td>\n",
              "      <td>17.2</td>\n",
              "      <td>9.0</td>\n",
              "      <td>4.10</td>\n",
              "      <td>0.0</td>\n",
              "    </tr>\n",
              "    <tr>\n",
              "      <th>1981-04-22</th>\n",
              "      <td>18.9</td>\n",
              "      <td>12.8</td>\n",
              "      <td>18.9</td>\n",
              "      <td>12.8</td>\n",
              "      <td>6.85</td>\n",
              "      <td>0.0</td>\n",
              "    </tr>\n",
              "    <tr>\n",
              "      <th>1981-04-23</th>\n",
              "      <td>20.0</td>\n",
              "      <td>10.0</td>\n",
              "      <td>20.0</td>\n",
              "      <td>10.0</td>\n",
              "      <td>6.00</td>\n",
              "      <td>0.0</td>\n",
              "    </tr>\n",
              "    <tr>\n",
              "      <th>1981-04-24</th>\n",
              "      <td>17.8</td>\n",
              "      <td>6.7</td>\n",
              "      <td>17.8</td>\n",
              "      <td>9.0</td>\n",
              "      <td>4.40</td>\n",
              "      <td>0.0</td>\n",
              "    </tr>\n",
              "    <tr>\n",
              "      <th>1981-04-25</th>\n",
              "      <td>25.0</td>\n",
              "      <td>3.3</td>\n",
              "      <td>25.0</td>\n",
              "      <td>9.0</td>\n",
              "      <td>8.00</td>\n",
              "      <td>0.0</td>\n",
              "    </tr>\n",
              "    <tr>\n",
              "      <th>1981-04-26</th>\n",
              "      <td>30.0</td>\n",
              "      <td>12.2</td>\n",
              "      <td>29.0</td>\n",
              "      <td>12.2</td>\n",
              "      <td>11.60</td>\n",
              "      <td>1.0</td>\n",
              "    </tr>\n",
              "    <tr>\n",
              "      <th>1981-04-27</th>\n",
              "      <td>30.0</td>\n",
              "      <td>15.6</td>\n",
              "      <td>29.0</td>\n",
              "      <td>15.6</td>\n",
              "      <td>13.30</td>\n",
              "      <td>1.0</td>\n",
              "    </tr>\n",
              "    <tr>\n",
              "      <th>1981-04-28</th>\n",
              "      <td>29.4</td>\n",
              "      <td>19.4</td>\n",
              "      <td>29.0</td>\n",
              "      <td>19.4</td>\n",
              "      <td>15.20</td>\n",
              "      <td>0.4</td>\n",
              "    </tr>\n",
              "    <tr>\n",
              "      <th>1981-04-29</th>\n",
              "      <td>26.7</td>\n",
              "      <td>10.0</td>\n",
              "      <td>26.7</td>\n",
              "      <td>10.0</td>\n",
              "      <td>9.35</td>\n",
              "      <td>0.0</td>\n",
              "    </tr>\n",
              "    <tr>\n",
              "      <th>1981-04-30</th>\n",
              "      <td>21.1</td>\n",
              "      <td>10.6</td>\n",
              "      <td>21.1</td>\n",
              "      <td>10.6</td>\n",
              "      <td>6.85</td>\n",
              "      <td>0.0</td>\n",
              "    </tr>\n",
              "  </tbody>\n",
              "</table>\n",
              "</div>"
            ],
            "text/plain": [
              "            TMAX  TMIN  TMAX_bound  TMIN_bound    GDD  KDD\n",
              "1981-04-20  13.3   5.6        13.3         9.0   2.15  0.0\n",
              "1981-04-21  17.2   2.8        17.2         9.0   4.10  0.0\n",
              "1981-04-22  18.9  12.8        18.9        12.8   6.85  0.0\n",
              "1981-04-23  20.0  10.0        20.0        10.0   6.00  0.0\n",
              "1981-04-24  17.8   6.7        17.8         9.0   4.40  0.0\n",
              "1981-04-25  25.0   3.3        25.0         9.0   8.00  0.0\n",
              "1981-04-26  30.0  12.2        29.0        12.2  11.60  1.0\n",
              "1981-04-27  30.0  15.6        29.0        15.6  13.30  1.0\n",
              "1981-04-28  29.4  19.4        29.0        19.4  15.20  0.4\n",
              "1981-04-29  26.7  10.0        26.7        10.0   9.35  0.0\n",
              "1981-04-30  21.1  10.6        21.1        10.6   6.85  0.0"
            ]
          },
          "metadata": {
            "tags": []
          },
          "execution_count": 43
        }
      ]
    },
    {
      "cell_type": "code",
      "metadata": {
        "id": "donVEWhR_HAv",
        "colab_type": "code",
        "colab": {}
      },
      "source": [
        "#Import IL development data. Make sure index is correct format. Divide percentage prrogress by 100 to get decimals. Drop sum column.\n",
        "IL_Development = pd.read_csv('illinois_combined_development_data.csv', index_col = 0)\n",
        "IL_Development.index = pd.to_datetime(IL_Development.index)\n",
        "for i in IL_Development.columns:\n",
        "  IL_Development[i] = IL_Development[i]/100\n",
        "  \n",
        "IL_Development = IL_Development.drop(['sum'], axis =1)\n",
        "\n",
        "for i in combined_dict:\n",
        "  combined_dict[i] = combined_dict[i].join(IL_Development)"
      ],
      "execution_count": 0,
      "outputs": []
    },
    {
      "cell_type": "code",
      "metadata": {
        "id": "qS-5a85oywbd",
        "colab_type": "code",
        "colab": {}
      },
      "source": [
        "#Calculate GDDs and KDDs for each phase\n",
        "\n",
        "phases = ['vegetative', 'early_grain', 'late_grain']\n",
        "\n",
        "for i in combined_dict:\n",
        "  df = combined_dict[i]\n",
        "  for p in phases:\n",
        "    df['GDD_'+p] = df[p] * df['GDD']\n",
        "    \n",
        "  for p in phases:\n",
        "    df['KDD_'+p] = df[p] * df['KDD']\n",
        "    \n",
        "  combined_dict[i] = df"
      ],
      "execution_count": 0,
      "outputs": []
    },
    {
      "cell_type": "code",
      "metadata": {
        "id": "G3WYpVJQ4s9v",
        "colab_type": "code",
        "outputId": "28eb7914-365c-4dc1-e377-0ac4ec873c0e",
        "colab": {
          "base_uri": "https://localhost:8080/",
          "height": 428
        }
      },
      "source": [
        "#Make function that plots phase-wise GDDs and KDDs. Function takes station name, start, and end date as a string\n",
        "#Date format: yyyy-mm-dd\n",
        "\n",
        "def plot_GDD_KDD(stat, start_date, end_date):\n",
        "  df = combined_dict[stat]\n",
        "  \n",
        "  x = df.loc[start_date:end_date].index\n",
        "  y1 = df.loc[start_date:end_date]['GDD_vegetative'].values\n",
        "  y2 = df.loc[start_date:end_date]['KDD_vegetative'].values\n",
        "  y3 = df.loc[start_date:end_date]['GDD_early_grain'].values  \n",
        "  y4 = df.loc[start_date:end_date]['KDD_early_grain'].values\n",
        "  y5 = df.loc[start_date:end_date]['GDD_late_grain'].values \n",
        "  y6 = df.loc[start_date:end_date]['KDD_late_grain'].values  \n",
        "\n",
        "\n",
        "  f, axarr = plt.subplots(3, sharex=True)\n",
        "  axarr[0].plot(x, y1, color = 'green', label = 'Veg GDD')\n",
        "  axarr[0].plot(x, y2, color = 'red', label = 'Veg KDD')\n",
        "  axarr[0].legend(loc = 'upper left')\n",
        "  axarr[0].set_title('GDD AND KDD IN ' + stat + ', ' + 'IL \\n' + start_date + ' to ' + end_date)\n",
        "\n",
        "  axarr[1].plot(x, y3, color = 'green', label = 'Early GDD')\n",
        "  axarr[1].plot(x, y4, color = 'red', label = 'Early KDD')\n",
        "  axarr[1].legend(loc = 'upper left')\n",
        "\n",
        "  axarr[2].plot(x, y5, color = 'green', label = 'Late GDD')\n",
        "  axarr[2].plot(x, y6, color = 'red', label= 'Late KDD')\n",
        "  axarr[2].legend(loc = 'upper left')\n",
        "\n",
        "plot_GDD_KDD('USC00111280', '2012-01-01', '2012-12-31' )"
      ],
      "execution_count": 0,
      "outputs": [
        {
          "output_type": "stream",
          "text": [
            "/usr/local/lib/python3.6/dist-packages/pandas/plotting/_converter.py:129: FutureWarning: Using an implicitly registered datetime converter for a matplotlib plotting method. The converter was registered by pandas on import. Future versions of pandas will require you to explicitly register matplotlib converters.\n",
            "\n",
            "To register the converters:\n",
            "\t>>> from pandas.plotting import register_matplotlib_converters\n",
            "\t>>> register_matplotlib_converters()\n",
            "  warnings.warn(msg, FutureWarning)\n"
          ],
          "name": "stderr"
        },
        {
          "output_type": "display_data",
          "data": {
            "image/png": "[encoded data removed]",
            "text/plain": [
              "<Figure size 432x288 with 3 Axes>"
            ]
          },
          "metadata": {
            "tags": []
          }
        }
      ]
    },
    {
      "cell_type": "code",
      "metadata": {
        "id": "RY38Eid48O6J",
        "colab_type": "code",
        "colab": {}
      },
      "source": [
        "#Find cumulative sum for phase wise GDD and KDD. Need new dictionary.\n",
        "\n",
        "cum_sum_dict = {}\n",
        "\n",
        "for i in combined_dict:\n",
        "  #set variable name of each station to df for convenience\n",
        "  df = combined_dict[i]\n",
        "  \n",
        "  #Drop unecessary variables\n",
        "  df = df.drop(['TMAX', 'TMIN', 'TMAX_bound', 'TMIN_bound', 'GDD', 'KDD', 'vegetative', 'early_grain', 'late_grain'], axis = 1)\n",
        "  \n",
        "  #Make empty dateframe\n",
        "  df_sum = pd.DataFrame()\n",
        "  \n",
        "  #Iterate through all years. Filter down to y, find cumulative sum, place values in dataframe. Values in series are in order from df columns.\n",
        "  for y in df.index.year.unique():\n",
        "    df_sorted = df[df.index.year == y]\n",
        "    holder = df_sorted.sum(axis = 0)\n",
        "    df_sum[y] = holder.values\n",
        "    \n",
        "  #Swap columns and rows. Fix index and name columns.\n",
        "  df_sum = df_sum.transpose()\n",
        "  df_sum = df_sum.reset_index()\n",
        "  df_sum = df_sum.rename(index = str, columns = {'index':'year', 0:'GDD_vegetative', 1: 'GDD_early_grain', 2:'GDD_late_grain', 3:'KDD_vegetative', 4:'KDD_early_grain', 5:'KDD_late_grain'})\n",
        "\n",
        "  cum_sum_dict[i] = df_sum\n",
        "  "
      ],
      "execution_count": 0,
      "outputs": []
    },
    {
      "cell_type": "code",
      "metadata": {
        "id": "wVJlhd_e-EJe",
        "colab_type": "code",
        "colab": {}
      },
      "source": [
        "#save my dictionaries so far bc take a long time to generate\n",
        "\n",
        "pickle.dump(cum_sum_dict, open('cum_sum_dict.p', 'wb'))\n",
        "pickle.dump(combined_dict, open('combined_dict.p', 'wb'))\n",
        "\n",
        "#Read dicts back in when ready! Cum_Sum is yearly summed GDDs/KDDs (no average removed). Combined_dict is raw TMAX TMIN\n",
        "#cum_sum_dict = pickle.load(open('cum_sum_dict.p', 'rb'))\n",
        "#combined_dict = pickle.load(open('combined_dict.p', 'rb'))\n"
      ],
      "execution_count": 0,
      "outputs": []
    },
    {
      "cell_type": "code",
      "metadata": {
        "id": "OO29KttL7A3H",
        "colab_type": "code",
        "outputId": "2be78fcf-6335-4c56-e9e6-ef8daae26f2c",
        "colab": {
          "base_uri": "https://localhost:8080/",
          "height": 206
        }
      },
      "source": [
        "#Time to associate stations and counties\n",
        "Grouped_IL_Counties = pd.read_csv('Grouped_IL_Counties.csv')\n",
        "Grouped_IL_Counties.head()"
      ],
      "execution_count": 0,
      "outputs": [
        {
          "output_type": "execute_result",
          "data": {
            "text/html": [
              "<div>\n",
              "<style scoped>\n",
              "    .dataframe tbody tr th:only-of-type {\n",
              "        vertical-align: middle;\n",
              "    }\n",
              "\n",
              "    .dataframe tbody tr th {\n",
              "        vertical-align: top;\n",
              "    }\n",
              "\n",
              "    .dataframe thead th {\n",
              "        text-align: right;\n",
              "    }\n",
              "</style>\n",
              "<table border=\"1\" class=\"dataframe\">\n",
              "  <thead>\n",
              "    <tr style=\"text-align: right;\">\n",
              "      <th></th>\n",
              "      <th>COUNTY_NAM</th>\n",
              "      <th>CO_FIPS</th>\n",
              "      <th>STATION_ID</th>\n",
              "    </tr>\n",
              "  </thead>\n",
              "  <tbody>\n",
              "    <tr>\n",
              "      <th>0</th>\n",
              "      <td>MCHENRY</td>\n",
              "      <td>111</td>\n",
              "      <td>USC00118916</td>\n",
              "    </tr>\n",
              "    <tr>\n",
              "      <th>1</th>\n",
              "      <td>BOONE</td>\n",
              "      <td>7</td>\n",
              "      <td>USC00118916</td>\n",
              "    </tr>\n",
              "    <tr>\n",
              "      <th>2</th>\n",
              "      <td>OGLE</td>\n",
              "      <td>141</td>\n",
              "      <td>USC00118916</td>\n",
              "    </tr>\n",
              "    <tr>\n",
              "      <th>3</th>\n",
              "      <td>LASALLE</td>\n",
              "      <td>99</td>\n",
              "      <td>USC00118916</td>\n",
              "    </tr>\n",
              "    <tr>\n",
              "      <th>4</th>\n",
              "      <td>BUREAU</td>\n",
              "      <td>11</td>\n",
              "      <td>USC00118916</td>\n",
              "    </tr>\n",
              "  </tbody>\n",
              "</table>\n",
              "</div>"
            ],
            "text/plain": [
              "  COUNTY_NAM  CO_FIPS   STATION_ID\n",
              "0    MCHENRY      111  USC00118916\n",
              "1      BOONE        7  USC00118916\n",
              "2       OGLE      141  USC00118916\n",
              "3    LASALLE       99  USC00118916\n",
              "4     BUREAU       11  USC00118916"
            ]
          },
          "metadata": {
            "tags": []
          },
          "execution_count": 52
        }
      ]
    },
    {
      "cell_type": "code",
      "metadata": {
        "id": "oTuV1c-I-ATR",
        "colab_type": "code",
        "colab": {}
      },
      "source": [
        "#Make new dictionary where keys are county names are keys and values are relevant stations from cum_sum_dict\n",
        "county_info_dict = {}\n",
        "\n",
        "for i in Grouped_IL_Counties.index:\n",
        "  d = copy.deepcopy(Grouped_IL_Counties.loc[i])\n",
        "  df = cum_sum_dict[d[2]]\n",
        "  county_info_dict[d[0]] = df\n",
        "\n",
        "#d[0] = county name\n",
        "#d[1] = county fips\n",
        "#d[2] = station ID"
      ],
      "execution_count": 0,
      "outputs": []
    },
    {
      "cell_type": "code",
      "metadata": {
        "id": "xNseBNfzdUMa",
        "colab_type": "code",
        "colab": {}
      },
      "source": [
        "#Add the yield for each county. Make sure to join on dfs in county_info dict bc we removed some \"bad years\" from those that are still\n",
        "#present in yield data\n",
        "\n",
        "df_yield = pd.read_csv('yield.csv')\n",
        "\n",
        "for i in county_info_dict:\n",
        "  county_yield = df_yield[df_yield['county'] == i]\n",
        "  county_yield = county_yield.drop(['state_fips', 'county_code'], axis = 1)\n",
        "  \n",
        "  df = pd.merge(county_yield, county_info_dict[i], on = 'year', how = 'left')\n"
      ],
      "execution_count": 0,
      "outputs": []
    },
    {
      "cell_type": "code",
      "metadata": {
        "id": "q5Dt5ka0eEf7",
        "colab_type": "code",
        "colab": {}
      },
      "source": [
        "test = {}\n",
        "\n",
        "for i in county_info_dict:\n",
        "  years = county_info_dict[i]['year'].values\n",
        "  df_county_yield = df_yield[df_yield['county'] == i]\n",
        "  df_county_year_yield = df_county_yield[df_county_yield['year'].isin(years)]\n",
        "  \n",
        "  df = pd.merge(df_county_year_yield, county_info_dict[i], how = 'left', on = ['year'])\n",
        "  \n",
        "  test[i] = df                            "
      ],
      "execution_count": 0,
      "outputs": []
    },
    {
      "cell_type": "code",
      "metadata": {
        "id": "Itz-F3f8aFKJ",
        "colab_type": "code",
        "colab": {}
      },
      "source": [
        "#Edited version of above cell\n",
        "\n",
        "#Append yield to each county df. If county has no yield data, do not include it and save the county name\n",
        "#Could not figure out how to update values in dictionary so had to make new dictionary\n",
        "\n",
        "county_info_dict2 = {}\n",
        "no_yield_counties = []\n",
        "\n",
        "df_yield = pd.read_csv('yield.csv')\n",
        "\n",
        "for i in county_info_dict:\n",
        "  \n",
        "  if df_yield[df_yield['county'] == i].empty:\n",
        "    no_yield_counties.append(i)\n",
        "    \n",
        "  else:\n",
        "    df_yield1 = df_yield[(df_yield['county'] == i) & (df_yield['year'] >= 1981) & (df_yield['state_fips'] == 17)]\n",
        "    years = county_info_dict[i]['year'].values\n",
        "\n",
        "    df_yield2 = df_yield1[df_yield1['year'].isin(years)]\n",
        "\n",
        "    df = pd.merge(df_yield2, county_info_dict[i], how = 'left', on = ['year'])\n",
        "\n",
        "    county_info_dict2[i] = df"
      ],
      "execution_count": 0,
      "outputs": []
    },
    {
      "cell_type": "code",
      "metadata": {
        "id": "59sBYbAXcvVk",
        "colab_type": "code",
        "colab": {}
      },
      "source": [
        "#Remove mean values (within each county) from columns. \n",
        "#SOMETHING IS NOT MAKING SENSE, MOST RECENT YEARS HAVE NEGATIVE VALUES WHEN REMOVE THE MEAN\n",
        "\n",
        "for i in county_info_dict2:\n",
        "  for j in county_info_dict2[i]:\n",
        "    if j in ['yield', 'state_fips', 'county', 'county_code']:\n",
        "      continue\n",
        "      \n",
        "    elif j == 'year':\n",
        "      county_info_dict2[i]['year_prime'] = county_info_dict2[i]['year'] - county_info_dict2[i]['year'].mean()\n",
        "      \n",
        "    else:\n",
        "      county_info_dict2[i][j] = county_info_dict2[i][j] - county_info_dict2[i][j].mean()\n",
        "      \n",
        "    "
      ],
      "execution_count": 0,
      "outputs": []
    },
    {
      "cell_type": "code",
      "metadata": {
        "id": "60Qm_KXnxIi8",
        "colab_type": "code",
        "colab": {}
      },
      "source": [
        "# pickle.dump(county_info_dict2, open('county_info_dict2.p', 'wb'))\n",
        "# pickle.dump(county_info_dict, open('county_info_dict.p', 'wb'))\n",
        "\n",
        "#Dict has keys as station names, cumulative phase ise GDD/KDD\n",
        "cum_sum_dict = pickle.load(open('cum_sum_dict.p', 'rb'))\n",
        "\n",
        "#Dict has keys as station names. Has bounded TMAX, TMIN, not phase wise GDD/KDD, has progress data\n",
        "combined_dict = pickle.load(open('combined_dict.p', 'rb'))\n",
        "\n",
        "#Dict has keys as county names, cum sum of GDD/DD WITHOUT means removed, no yield data\n",
        "county_info_dict = pickle.load(open('county_info_dict.p', 'rb'))\n",
        "\n",
        "#Dict has keys as county names. Cumlative GDD/KDD WITH means removed. Has yield in each year.\n",
        "county_info_dict2 = pickle.load(open('county_info_dict2.p', 'rb'))"
      ],
      "execution_count": 0,
      "outputs": []
    },
    {
      "cell_type": "code",
      "metadata": {
        "id": "6g0prt4ZjLEo",
        "colab_type": "code",
        "outputId": "6c0e273f-b5cc-4c13-8536-9bd7570f4474",
        "colab": {
          "base_uri": "https://localhost:8080/",
          "height": 314
        }
      },
      "source": [
        "x = county_info_dict2['BUREAU']['year'].values\n",
        "y = county_info_dict2['BUREAU']['GDD_late_grain'].values\n",
        "\n",
        "plt.plot(x,y)\n",
        "plt.title('BUREAU COUNTY')\n",
        "plt.xlabel('Year')\n",
        "plt.ylabel('GDD Late Grain')"
      ],
      "execution_count": 0,
      "outputs": [
        {
          "output_type": "execute_result",
          "data": {
            "text/plain": [
              "Text(0, 0.5, 'GDD Late Grain')"
            ]
          },
          "metadata": {
            "tags": []
          },
          "execution_count": 13
        },
        {
          "output_type": "display_data",
          "data": {
            "image/png": "[encoded data removed]",
            "text/plain": [
              "<Figure size 432x288 with 1 Axes>"
            ]
          },
          "metadata": {
            "tags": []
          }
        }
      ]
    },
    {
      "cell_type": "code",
      "metadata": {
        "id": "x9PYDPYyCrNn",
        "colab_type": "code",
        "colab": {}
      },
      "source": [
        "#Function that visualizes linearity of variables\n",
        "\n",
        "def visualize_linearity(df):\n",
        "  y = df['yield']\n",
        "\n",
        "  f = plt.figure(figsize = (20,10))\n",
        "  ax = f.add_subplot(331)\n",
        "  ax2 = f.add_subplot(334)\n",
        "  ax3 = f.add_subplot(335)\n",
        "  ax4 = f.add_subplot(336)\n",
        "  ax5 = f.add_subplot(337)\n",
        "  ax6 = f.add_subplot(338)\n",
        "  ax7 = f.add_subplot(339)\n",
        "\n",
        "  ax.scatter(df['year'], y)\n",
        "  ax.set_xlabel('Year')\n",
        "  ax.set_ylabel('Yield')\n",
        "  ax.set_title('Year vs. Yield')\n",
        "\n",
        "  ax2.scatter(df['GDD_vegetative'], y)\n",
        "  ax2.set_xlabel('GDD')\n",
        "  ax2.set_ylabel('Yield')\n",
        "  ax2.set_title('GDD_Vegetative vs. Yield')\n",
        "\n",
        "  ax3.scatter(df['GDD_early_grain'], y)\n",
        "  ax3.set_xlabel('GDD')\n",
        "  ax3.set_ylabel('Yield')\n",
        "  ax3.set_title('GDD_early_grain vs. Yield')\n",
        "\n",
        "  ax4.scatter(df['GDD_late_grain'], y)\n",
        "  ax4.set_xlabel('GDD')\n",
        "  ax4.set_ylabel('Yield')\n",
        "  ax4.set_title('GDD_late_grain vs. Yield')\n",
        "\n",
        "  ax5.scatter(df['KDD_vegetative'], y)\n",
        "  ax5.set_xlabel('KDD')\n",
        "  ax5.set_ylabel('Yield')\n",
        "  ax5.set_title('KDD_vegetative vs. Yield')\n",
        "\n",
        "  ax6.scatter(df['KDD_early_grain'], y)\n",
        "  ax6.set_xlabel('KDD')\n",
        "  ax6.set_ylabel('Yield')\n",
        "  ax6.set_title('KDD_early_grain vs. Yield')\n",
        "\n",
        "  ax7.scatter(df['KDD_late_grain'], y)\n",
        "  ax7.set_xlabel('KDD')\n",
        "  ax7.set_ylabel('Yield')\n",
        "  ax7.set_title('KDD_late_grain vs. Yield')\n",
        "\n",
        "  plt.tight_layout()\n",
        "  "
      ],
      "execution_count": 0,
      "outputs": []
    },
    {
      "cell_type": "code",
      "metadata": {
        "id": "wxUPw-0eC9W_",
        "colab_type": "code",
        "colab": {}
      },
      "source": [
        "#Testing above function\n",
        "visualize_linearity(county_info_dict2['ADAMS'])"
      ],
      "execution_count": 0,
      "outputs": []
    },
    {
      "cell_type": "code",
      "metadata": {
        "id": "gthIIqkiEx8Y",
        "colab_type": "code",
        "colab": {}
      },
      "source": [
        "#Need to add correlation coefs df for each county. Add as value to each key. Convert values to list format so can append other values later\n",
        "#For reference: value 0 is GDD/KKD and yield data. Value 1 is correlation coefs.\n",
        "\n",
        "for i in county_info_dict2:\n",
        "  df = county_info_dict2[i].drop(['county','state_fips', 'county_code'], axis = 1).corr()\n",
        "  county_info_dict2[i] = [county_info_dict2[i], df]"
      ],
      "execution_count": 0,
      "outputs": []
    },
    {
      "cell_type": "code",
      "metadata": {
        "id": "5dZ8OwXLGQ79",
        "colab_type": "code",
        "colab": {}
      },
      "source": [
        "#Function to calculate least squares regression intercept and coefficients\n",
        "#X and Y will be dataframes containing the independent and dependent variables respectivly\n",
        "\n",
        "def least_squares_coef(X,Y):\n",
        "  global output\n",
        "  #Add column of ones to matrix X\n",
        "  X.insert(0,'ones',1)\n",
        "  X = X.values\n",
        "\n",
        "  #Matrix X prime will be the transpose of matrix X\n",
        "  X_prime = X.transpose()\n",
        "\n",
        "  #Matrix Y is the dependent variable\n",
        "  Y = Y.values\n",
        "\n",
        "  #Calculate regression coefficients\n",
        "  #b = (X'X)^-1 * X'Y\n",
        "\n",
        "  W = np.linalg.inv(np.dot(X_prime, X))\n",
        "  Z = np.dot(X_prime, Y)\n",
        "  output = np.dot(W,Z)"
      ],
      "execution_count": 0,
      "outputs": []
    },
    {
      "cell_type": "code",
      "metadata": {
        "id": "JjgLzJ-HIpBf",
        "colab_type": "code",
        "colab": {}
      },
      "source": [
        "#Remeber that this means you trained on ALL years. Should only train on first 20.\n",
        "\n",
        "for i in county_info_dict2:\n",
        "  print(i)\n",
        "  X = county_info_dict2[i][0][['year_prime','GDD_vegetative','GDD_early_grain','GDD_late_grain','KDD_vegetative','KDD_early_grain','KDD_late_grain']].copy()\n",
        "  Y = county_info_dict2[i][0][['yield']].copy()\n",
        "\n",
        "  least_squares_coef(X,Y)\n",
        "\n",
        "  county_info_dict2[i].append(np.array(output))"
      ],
      "execution_count": 0,
      "outputs": []
    },
    {
      "cell_type": "code",
      "metadata": {
        "id": "k3zJe6gVflnD",
        "colab_type": "code",
        "colab": {}
      },
      "source": [
        "for i in county_info_dict2:\n",
        "  print(i)\n",
        "  \n",
        "  X = county_info_dict2[i][0][['year_prime','GDD_vegetative','GDD_early_grain','GDD_late_grain','KDD_vegetative','KDD_early_grain','KDD_late_grain']].copy()\n",
        "  Y = county_info_dict2[i][0][['yield']].copy()\n",
        "  \n",
        "  X_train = X[10:]\n",
        "  Y_train = Y[10:]\n",
        "\n",
        "  X_test = X[0:10]\n",
        "  Y_test = Y[0:10]\n",
        "\n",
        "  least_squares_coef(X_train,Y_train)\n",
        "  \n",
        "  Y_test['Predicted Yield'] = output[0,0] + output[1,0]*X_test['year_prime'] + output[2,0]*X_test['GDD_vegetative'] + output[3,0]*X_test['GDD_early_grain'] + output[4,0]*X_test['GDD_late_grain'] + output[5,0]*X_test['KDD_vegetative'] + output[6,0]*X_test['KDD_early_grain'] + output[7,0]*X_test['KDD_late_grain']\n",
        "  \n",
        "  Y_test['Year'] = county_info_dict2[i][0]['year']\n",
        "  df_predictions = Y_test.set_index('Year')\n",
        "  \n",
        "  county_info_dict2[i].extend([np.array(output), df_predictions])\n",
        "  "
      ],
      "execution_count": 0,
      "outputs": []
    },
    {
      "cell_type": "code",
      "metadata": {
        "id": "J87MRGr1mPoy",
        "colab_type": "code",
        "colab": {}
      },
      "source": [
        "def plot_prediction(county):\n",
        "  df = county_info_dict2[county][3]\n",
        "  actual = df['yield']\n",
        "  predicted = df['Predicted Yield']\n",
        "\n",
        "  plt.scatter(actual, predicted)\n",
        "  plt.plot([100,200], [100,200], 'k-', lw = 2)\n",
        "  plt.xlabel('Observed Yield')\n",
        "  plt.ylabel('Predicted Yield')\n",
        "  plt.title('Predicted vs. Observed Yield in ' + county +' County, IL \\n r^2 = ' + str(round((df['yield'].corr(df['Predicted Yield']))**2, 4)))\n",
        "  plt.show()"
      ],
      "execution_count": 0,
      "outputs": []
    },
    {
      "cell_type": "code",
      "metadata": {
        "id": "UyMSZmR5mvrS",
        "colab_type": "code",
        "outputId": "443c7a73-72a0-4ee9-ed2a-cde23f2c1e47",
        "colab": {
          "base_uri": "https://localhost:8080/",
          "height": 310
        }
      },
      "source": [
        "plot_prediction('MERCER')"
      ],
      "execution_count": 0,
      "outputs": [
        {
          "output_type": "display_data",
          "data": {
            "image/png": "[encoded data removed]",
            "text/plain": [
              "<Figure size 432x288 with 1 Axes>"
            ]
          },
          "metadata": {
            "tags": []
          }
        }
      ]
    },
    {
      "cell_type": "code",
      "metadata": {
        "id": "rVQaRiA0bXuO",
        "colab_type": "code",
        "outputId": "43cf294f-9372-40e3-bfd8-bd7932828d91",
        "colab": {
          "base_uri": "https://localhost:8080/",
          "height": 193
        }
      },
      "source": [
        "pickle.dump(county_info_dict2, open('county_info_dict2.p', 'wb'))\n",
        "pickle.dump(county_info_dict, open('county_info_dict.p', 'wb'))"
      ],
      "execution_count": 0,
      "outputs": [
        {
          "output_type": "error",
          "ename": "NameError",
          "evalue": "ignored",
          "traceback": [
            "\u001b[0;31m---------------------------------------------------------------------------\u001b[0m",
            "\u001b[0;31mNameError\u001b[0m                                 Traceback (most recent call last)",
            "\u001b[0;32m<ipython-input-2-3dd007637029>\u001b[0m in \u001b[0;36m<module>\u001b[0;34m()\u001b[0m\n\u001b[0;32m----> 1\u001b[0;31m \u001b[0mpickle\u001b[0m\u001b[0;34m.\u001b[0m\u001b[0mdump\u001b[0m\u001b[0;34m(\u001b[0m\u001b[0mcounty_info_dict2\u001b[0m\u001b[0;34m,\u001b[0m \u001b[0mopen\u001b[0m\u001b[0;34m(\u001b[0m\u001b[0;34m'county_info_dict2.p'\u001b[0m\u001b[0;34m,\u001b[0m \u001b[0;34m'wb'\u001b[0m\u001b[0;34m)\u001b[0m\u001b[0;34m)\u001b[0m\u001b[0;34m\u001b[0m\u001b[0;34m\u001b[0m\u001b[0m\n\u001b[0m\u001b[1;32m      2\u001b[0m \u001b[0mpickle\u001b[0m\u001b[0;34m.\u001b[0m\u001b[0mdump\u001b[0m\u001b[0;34m(\u001b[0m\u001b[0mcounty_info_dict\u001b[0m\u001b[0;34m,\u001b[0m \u001b[0mopen\u001b[0m\u001b[0;34m(\u001b[0m\u001b[0;34m'county_info_dict.p'\u001b[0m\u001b[0;34m,\u001b[0m \u001b[0;34m'wb'\u001b[0m\u001b[0;34m)\u001b[0m\u001b[0;34m)\u001b[0m\u001b[0;34m\u001b[0m\u001b[0;34m\u001b[0m\u001b[0m\n",
            "\u001b[0;31mNameError\u001b[0m: name 'county_info_dict2' is not defined"
          ]
        }
      ]
    },
    {
      "cell_type": "code",
      "metadata": {
        "colab_type": "code",
        "outputId": "4783ebf8-2f95-4ad4-f896-06df8b8afc25",
        "id": "pvotlhlRqeCJ",
        "colab": {
          "base_uri": "https://localhost:8080/",
          "height": 36
        }
      },
      "source": [
        "#bug list\n",
        "#Franklin county no longer exists in county info dict 1 or 2"
      ],
      "execution_count": 0,
      "outputs": [
        {
          "output_type": "execute_result",
          "data": {
            "text/plain": [
              "['LASALLE', 'DUPAGE', 'DEKALB', 'DEWITT', 'ST. CLAIR']"
            ]
          },
          "metadata": {
            "tags": []
          },
          "execution_count": 253
        }
      ]
    },
    {
      "cell_type": "code",
      "metadata": {
        "id": "vjJypCnQgE9n",
        "colab_type": "code",
        "colab": {}
      },
      "source": [
        "variance = []\n",
        "\n",
        "for i in county_info_dict2:\n",
        "  df = county_info_dict2[i][3]\n",
        "  variance.append((df['yield'].corr(df['Predicted Yield'])**2)*100)"
      ],
      "execution_count": 0,
      "outputs": []
    },
    {
      "cell_type": "code",
      "metadata": {
        "id": "dU-4vDshghDp",
        "colab_type": "code",
        "outputId": "4d30c3a1-3a96-4ad0-8d33-9becd82d1b7e",
        "colab": {
          "base_uri": "https://localhost:8080/",
          "height": 314
        }
      },
      "source": [
        "import matplotlib.ticker as ticker\n",
        "\n",
        "fig, ax = plt.subplots(1,1)\n",
        "ax.hist(variance, 20, range = [0, 100], color = 'skyblue', ec = 'black')\n",
        "ax.xaxis.set_major_locator(ticker.MultipleLocator(10))\n",
        "ax.set_xlabel('Percent Variance Explained')\n",
        "ax.set_ylabel('Number of Counties')\n",
        "ax.set_title('Explained Variance in Observed Yield in IL Counties')\n"
      ],
      "execution_count": 0,
      "outputs": [
        {
          "output_type": "execute_result",
          "data": {
            "text/plain": [
              "Text(0.5, 1.0, 'Explained Variance in Observed Yield in IL Counties')"
            ]
          },
          "metadata": {
            "tags": []
          },
          "execution_count": 39
        },
        {
          "output_type": "display_data",
          "data": {
            "image/png": "[encoded data removed]",
            "text/plain": [
              "<Figure size 432x288 with 1 Axes>"
            ]
          },
          "metadata": {
            "tags": []
          }
        }
      ]
    },
    {
      "cell_type": "code",
      "metadata": {
        "id": "A01hCQB-gk8O",
        "colab_type": "code",
        "colab": {}
      },
      "source": [
        "import matplotlib.ticker as plticker\n",
        "\n",
        "loc = plticker.MultipleLocator(base=1.0) # this locator puts ticks at regular intervals\n",
        "ax.xaxis.set_major_locator(loc)"
      ],
      "execution_count": 0,
      "outputs": []
    },
    {
      "cell_type": "code",
      "metadata": {
        "id": "mglPXAu7gz1s",
        "colab_type": "code",
        "outputId": "21814265-8b62-434a-9a0b-f160a4f1ca72",
        "colab": {
          "base_uri": "https://localhost:8080/",
          "height": 36
        }
      },
      "source": [
        "sum(variance)/len(variance)"
      ],
      "execution_count": 0,
      "outputs": [
        {
          "output_type": "execute_result",
          "data": {
            "text/plain": [
              "45.673003775387556"
            ]
          },
          "metadata": {
            "tags": []
          },
          "execution_count": 40
        }
      ]
    },
    {
      "cell_type": "code",
      "metadata": {
        "id": "Sfj0mCtvmNcE",
        "colab_type": "code",
        "colab": {}
      },
      "source": [
        "#Investigate big changes in GDD and KDD from station USC00118147 and USC00111280\n",
        "\n",
        "county_info_dict2['RANDOLPH'][0]"
      ],
      "execution_count": 0,
      "outputs": []
    },
    {
      "cell_type": "code",
      "metadata": {
        "id": "lWNeh82q6FeT",
        "colab_type": "code",
        "colab": {}
      },
      "source": [
        "county_info_dict['RANDOLPH']"
      ],
      "execution_count": 0,
      "outputs": []
    },
    {
      "cell_type": "code",
      "metadata": {
        "id": "vgvQ0-JZ6g1P",
        "colab_type": "code",
        "colab": {}
      },
      "source": [
        "county_info_dict['RANDOLPH']"
      ],
      "execution_count": 0,
      "outputs": []
    },
    {
      "cell_type": "code",
      "metadata": {
        "id": "bMTfUUMQ6r7E",
        "colab_type": "code",
        "colab": {}
      },
      "source": [
        "combined_dict['USC00118147'].loc['2008-12-31':'2011-05-29']"
      ],
      "execution_count": 0,
      "outputs": []
    },
    {
      "cell_type": "code",
      "metadata": {
        "id": "8EmYvnGE8B6h",
        "colab_type": "code",
        "colab": {}
      },
      "source": [
        "combined_dict['USC00118147'][combined_dict['USC00118147'].isnull().any(axis=1)].loc['2011-01-01':'2011-12-31']"
      ],
      "execution_count": 0,
      "outputs": []
    },
    {
      "cell_type": "code",
      "metadata": {
        "id": "bBJwfg8UTsv6",
        "colab_type": "code",
        "colab": {}
      },
      "source": [
        "interpolated_TMAX_dict = {}\n",
        "bad_years_TMAX_dict = {}\n",
        "\n",
        "  \n",
        "#Pick out ith df. Make sure index is in datetime. Set date range. Make a copy of TMAX column in df\n",
        "#temp_sample = copy.deepcopy(combined_dict['USC00118147'].loc['1981-01-01':'2017-12-31']) \n",
        "temp_sample = test\n",
        "temp_TMAX = copy.deepcopy(temp_sample[['TMAX']])\n",
        "temp_TMAX['TMAX'] = pd.to_numeric(temp_TMAX['TMAX'])\n",
        "\n",
        "count = 0\n",
        "flag = False\n",
        "bad_years_TMAX = []\n",
        "\n",
        "#idx is the row number starting at zero, t is the actual temperature value\n",
        "for idx, t in enumerate(temp_TMAX.TMAX):\n",
        "  if flag == False and ~np.isnan(t):\n",
        "    continue\n",
        "\n",
        "  elif flag == False and np.isnan(t):\n",
        "    #Case where row 0 is nan. Make value of row 1 = row 2, then set start index to row 0\n",
        "    if idx == 0:\n",
        "      flag = False\n",
        "      temp_TMAX.iloc[0] = temp_TMAX.iloc[1].values\n",
        "\n",
        "    elif idx != 0:\n",
        "      flag = True\n",
        "      start_index = temp_TMAX.index[idx-1] #find index of point right before first nan\n",
        "      count = count + 1\n",
        "\n",
        "  elif flag == True and np.isnan(t):\n",
        "    count = count + 1\n",
        "#     if count > 7 and len(temp_TMAX)-1 == idx:\n",
        "#       bad_years_TMAX.append(temp_TMAX.index[idx].year)\n",
        "      if count > 7 and len(temp_TMAX)-1 == idx:\n",
        "        bad_years_TMAX.append(temp_TMAX.index[idx].year)\n",
        "\n",
        "  elif flag == True and ~np.isnan(t):\n",
        "    flag == False\n",
        "    end_index = temp_TMAX.index[idx]\n",
        "    print('I was NaN and now not' + end_index)\n",
        "\n",
        "    if count <= 7:\n",
        "      interpolated = temp_TMAX[start_index:end_index].interpolate()\n",
        "      temp_TMAX.update(interpolated) #update the uninterpolated data with the newly interpolated data\n",
        "\n",
        "\n",
        "    elif count > 7:\n",
        "      if end_index.year not in bad_years_TMAX:\n",
        "        bad_years_TMAX.append(end_index.year)\n",
        "        print('I am adding' + end_index)\n",
        "\n",
        "        if start_index.year not in bad_years_TMAX: #in case missing data stretches between years\n",
        "          bad_years_TMAX.append(start_index.year)\n",
        "\n",
        "    count = 0\n",
        "\n",
        "#add a years column\n",
        "temp_TMAX['year'] = temp_TMAX.index.year  \n",
        "\n",
        "#drop the rows in bad years\n",
        "for b in bad_years_TMAX:\n",
        "  temp_TMAX = temp_TMAX[temp_TMAX.index.year != b]\n",
        "\n",
        "#drop the year column\n",
        "temp_TMAX = temp_TMAX.drop(columns = ['year'])\n",
        "\n",
        "# interpolated_TMAX_dict[i] = temp_TMAX\n",
        "# bad_years_TMAX_dict[i] = bad_years_TMAX"
      ],
      "execution_count": 0,
      "outputs": []
    },
    {
      "cell_type": "code",
      "metadata": {
        "id": "aUb73rDRb8IX",
        "colab_type": "code",
        "outputId": "40b42e0c-183f-4be7-e09f-9efdf114491b",
        "colab": {
          "base_uri": "https://localhost:8080/",
          "height": 36
        }
      },
      "source": [
        "count = 0\n",
        "Flag = False\n",
        "bad_years_TMAX = []\n",
        "\n",
        "for idx, t in enumerate(temp_TMAX.TMAX):\n",
        "  \n",
        "  #No previous NaN detected, current point is not NaN\n",
        "  if Flag == False and ~np.isnan(t):\n",
        "    continue\n",
        "  \n",
        "  #No previous NaN detected, current point IS NaN\n",
        "  elif Flag == False and np.isnan(t):\n",
        "    \n",
        "    #Is this the VERY FIRST data point of data set?\n",
        "    if idx == 0:\n",
        "      \n",
        "      #Make df that contains only days with data.\n",
        "      complete_days = temp_TMAX[temp_TMAX['TMAX'].notnull()]\n",
        "      days_till_next_value = complete_days.index[0] - temp_TMAX.index[idx]\n",
        "      days_till_next_value = days_till_next_value.value\n",
        "      \n",
        "      #If next complete datapoint is greater than 7 days away, add year of first data point to bad years\n",
        "      if days_till_next_value > 7:\n",
        "        bad_years_TMAX.append(temp_TMAX.index[idx].year)\n",
        "      \n",
        "      #If next complete datapoint is less than or equal to 7 days away, make first value equal to next complete one. Flag is still false.\n",
        "      else:\n",
        "        temp_TMAX.iloc[idx] = complete_days.iloc[0].values\n",
        "        \n",
        "    #Is this not the very first data point of data set?\n",
        "    elif idx != 0:\n",
        "      \n",
        "      #Check if data point comes from a bad year. Skip point if so.\n",
        "      if temp_TMAX.index[idx].year in bad_years_TMAX:\n",
        "        continue\n",
        "      \n",
        "      #Check if point right before first nan is also nan. Would happen if entire year before was nan.\n",
        "      #This is condition where everything prior to this point is nan\n",
        "      elif math.isnan(temp_TMAX.TMAX.iloc[idx - 1]):\n",
        "        complete_days = temp_TMAX[temp_TMAX['TMAX'].notnull()]\n",
        "        \n",
        "        #If the next day is not the first complete day keep skipping\n",
        "        if temp_TMAX.index[idx + 1] != complete_days.index[0]:\n",
        "          continue\n",
        "        \n",
        "        #If the next day is a complete day, check how many of next 8 days are missing.\n",
        "        elif temp_TMAX.index[idx + 1] == complete_days.index[0]:\n",
        "         \n",
        "          num_missing_days_in_next_8 = temp_TMAX.TMAX.iloc[idx+1:idx+10].isnull().sum()\n",
        "          \n",
        "          if num_missing_days_in_next_8 <= 7:\n",
        "            #Not sure about putting flag here\n",
        "            start_index = temp_TMAX.index[idx + 1]\n",
        "            \n",
        "          if num_missing_days_in_next_8 > 7:\n",
        "            #work here\n",
        "          \n",
        "          \n",
        "      #Check if point right before first nan IS NOT A NAN. Typical case\n",
        "      elif ~math.isnan(temp_TMAX.TMAX.iloc[idx - 1]):\n",
        "        #Set index of previous value to start index. Add one to counter. Flag that nan has been detected.\n",
        "        start_index = temp_TMAX.index[idx - 1]\n",
        "        count = count + 1\n",
        "        Flag = True\n",
        "      \n",
        "\n",
        "      ###########\n",
        "      else:\n",
        "\n",
        "        #First nan in series detected. Flip flag to T and start counter.\n",
        "        Flag = True\n",
        "        count = count + 1\n",
        "        print('Hello!')\n",
        "\n",
        "        #Note index of first nan value and index of where to start interpolating\n",
        "        index_first_nan = temp_TMAX.index[idx]\n",
        "        index_start_interpolate = temp_TMAX.index[idx-1] \n",
        "      \n",
        "  #Previous NaN detected, current point IS NaN\n",
        "  elif Flag == True and np.isnan(t):\n",
        "    \n",
        "    #Check if still in same year as first nan in series. NOT SURE WHERE TO CHECK IF MORE THAN 7 NANS IN A ROW\n",
        "    if index_first_nan.year == temp_TMAX.index[idx].year:\n",
        "      continue\n",
        "    \n",
        "    #Check if this data point is the very last point in entire data set\n",
        "    if temp_TMAX.index[idx] == temp_TMAX.index[-1]:\n",
        "      \n",
        "      #Greater than 7 days of nans?\n",
        "      if count > 7\n",
        "    \n",
        "    #Need conditions for if very last datapoint is NaN\n",
        "\n",
        "      \n",
        "        \n",
        "        \n",
        "\n",
        "      \n"
      ],
      "execution_count": 0,
      "outputs": [
        {
          "output_type": "stream",
          "text": [
            "Hello!\n"
          ],
          "name": "stdout"
        }
      ]
    },
    {
      "cell_type": "code",
      "metadata": {
        "id": "kfxttdVQOjjL",
        "colab_type": "code",
        "outputId": "f3368875-47d4-4a7d-b719-e8c54cdd2ce0",
        "colab": {
          "base_uri": "https://localhost:8080/",
          "height": 36
        }
      },
      "source": [
        "bad_years_TMAX = []\n",
        "\n",
        "bad_years_TMAX.append(temp_TMAX.index[700].year)\n",
        "\n",
        "temp_TMAX.index[0].year in bad_years_TMAX"
      ],
      "execution_count": 0,
      "outputs": [
        {
          "output_type": "execute_result",
          "data": {
            "text/plain": [
              "False"
            ]
          },
          "metadata": {
            "tags": []
          },
          "execution_count": 14
        }
      ]
    },
    {
      "cell_type": "code",
      "metadata": {
        "id": "ICoGZQngjvG-",
        "colab_type": "code",
        "outputId": "192c62d4-32ef-4de7-d8e0-8b85deb6cea9",
        "colab": {
          "base_uri": "https://localhost:8080/",
          "height": 36
        }
      },
      "source": [
        "complete_days = temp_TMAX[temp_TMAX['TMAX'].notnull()]\n",
        "complete_days.index[0]\n",
        "#temp_TMAX.index[0] - df.index[1]"
      ],
      "execution_count": 0,
      "outputs": [
        {
          "output_type": "execute_result",
          "data": {
            "text/plain": [
              "Timestamp('2008-12-31 00:00:00', freq='D')"
            ]
          },
          "metadata": {
            "tags": []
          },
          "execution_count": 87
        }
      ]
    },
    {
      "cell_type": "code",
      "metadata": {
        "id": "QdJQg7zrm4zZ",
        "colab_type": "code",
        "colab": {
          "base_uri": "https://localhost:8080/",
          "height": 36
        },
        "outputId": "89e128fb-4b1c-4ca6-bb1a-29dbc5173677"
      },
      "source": [
        "6 <= 8"
      ],
      "execution_count": 22,
      "outputs": [
        {
          "output_type": "execute_result",
          "data": {
            "text/plain": [
              "True"
            ]
          },
          "metadata": {
            "tags": []
          },
          "execution_count": 22
        }
      ]
    },
    {
      "cell_type": "code",
      "metadata": {
        "id": "J1AVjwyPWvnk",
        "colab_type": "code",
        "colab": {}
      },
      "source": [
        " test = copy.deepcopy(combined_dict['USC00118147'].loc['2008-12-31':'2011-01-01'])"
      ],
      "execution_count": 0,
      "outputs": []
    },
    {
      "cell_type": "code",
      "metadata": {
        "id": "XWM9Iht4-uUU",
        "colab_type": "code",
        "colab": {
          "base_uri": "https://localhost:8080/",
          "height": 174
        },
        "outputId": "619a9303-3362-4b42-a989-b464df97321f"
      },
      "source": [
        "raw_temp_data = pickle.load(open('raw_temp_data.p', 'rb'))"
      ],
      "execution_count": 3,
      "outputs": [
        {
          "output_type": "error",
          "ename": "UnpicklingError",
          "evalue": "ignored",
          "traceback": [
            "\u001b[0;31m---------------------------------------------------------------------------\u001b[0m",
            "\u001b[0;31mUnpicklingError\u001b[0m                           Traceback (most recent call last)",
            "\u001b[0;32m<ipython-input-3-3594091ce33d>\u001b[0m in \u001b[0;36m<module>\u001b[0;34m()\u001b[0m\n\u001b[0;32m----> 1\u001b[0;31m \u001b[0mraw_temp_data\u001b[0m \u001b[0;34m=\u001b[0m \u001b[0mpickle\u001b[0m\u001b[0;34m.\u001b[0m\u001b[0mload\u001b[0m\u001b[0;34m(\u001b[0m\u001b[0mopen\u001b[0m\u001b[0;34m(\u001b[0m\u001b[0;34m'raw_temp_data.p'\u001b[0m\u001b[0;34m,\u001b[0m \u001b[0;34m'rb'\u001b[0m\u001b[0;34m)\u001b[0m\u001b[0;34m)\u001b[0m\u001b[0;34m\u001b[0m\u001b[0;34m\u001b[0m\u001b[0m\n\u001b[0m",
            "\u001b[0;31mUnpicklingError\u001b[0m: pickle data was truncated"
          ]
        }
      ]
    },
    {
      "cell_type": "code",
      "metadata": {
        "id": "K2TMbmKRMad_",
        "colab_type": "code",
        "colab": {}
      },
      "source": [
        "temp_TMAX = copy.deepcopy(raw_temp_data['USC00118147'].loc['2008-12-31':'2011-01-01'])"
      ],
      "execution_count": 0,
      "outputs": []
    },
    {
      "cell_type": "code",
      "metadata": {
        "id": "hcWkC3nXM4-C",
        "colab_type": "code",
        "colab": {}
      },
      "source": [
        "raw_temp_data = pickle.load(open('raw_temp_data.p', 'rb'))\n",
        "\n",
        "county_info_dict2 = pickle.load(open('county_info_dict2.p', 'rb'))"
      ],
      "execution_count": 0,
      "outputs": []
    },
    {
      "cell_type": "code",
      "metadata": {
        "id": "lfGrfy_jeqoZ",
        "colab_type": "code",
        "colab": {}
      },
      "source": [
        "#DO NOT DELETE\n",
        "#Code to put all of data into excel file. Just need to add columns for weather variance, trend variance, total variance.\n",
        "#Also need to include above items in actula county_info_dict\n",
        "#'Weather Variance', 'Trend Variance', 'Total Variance'])\n",
        "df = pd.DataFrame(columns = ['County Name', 'Intercept', 'Year_coef', 'GDD_veg_coef', 'GDD_early_coef', 'GDD_late_coef', 'KDD_veg_coef', 'KDD_early_coef', 'KDD_late_coef'])\n",
        "\n",
        "for i in county_info_dict2:\n",
        "  row = []\n",
        "  row.append(i)\n",
        "  for j in county_info_dict2[i][2]:\n",
        "    row.append(j[0])\n",
        "  df.loc[0] = row"
      ],
      "execution_count": 0,
      "outputs": []
    }
  ]
}