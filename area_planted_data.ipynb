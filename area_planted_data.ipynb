{
  "nbformat": 4,
  "nbformat_minor": 0,
  "metadata": {
    "colab": {
      "name": "area_planted_data",
      "version": "0.3.2",
      "provenance": []
    },
    "kernelspec": {
      "name": "python3",
      "display_name": "Python 3"
    }
  },
  "cells": [
    {
      "metadata": {
        "id": "oI0XL9E-k23K",
        "colab_type": "code",
        "colab": {
          "base_uri": "https://localhost:8080/",
          "height": 219
        },
        "outputId": "8b4e9e9b-7bdb-4f6f-c6dc-4a216d5723b2"
      },
      "cell_type": "code",
      "source": [
        "import pandas as pd\n",
        "import numpy as np\n",
        "import requests, json\n",
        "\n",
        "api_key = '70D413B2-0123-3524-9634-F730BE441009' \n",
        "\n",
        "#years used in study\n",
        "years = map(str,range(1981,2018))\n",
        "\n",
        "payload = {'key':api_key,\n",
        "\t   'source_desc':'SURVEY',\n",
        "\t   'commodity_desc':'CORN',\n",
        "\t   'statisticcat_desc':'AREA PLANTED',\n",
        "\t   'agg_level_desc':'COUNTY',\n",
        "\t   'year':years,\n",
        "\t   'format':'JSON',\n",
        "     'prodn_practice_desc':'ALL PRODUCTION PRACTICES'}\n",
        "\n",
        "#states used in study\n",
        "states = ['IL','IN','IA','KS','KY','MI','MO','NE','OH','SD','WI']\n",
        "\n",
        "#Empty df to store results\n",
        "df_all = pd.DataFrame()\n",
        "\n",
        "#loop through payload with each state in states list\n",
        "#r.json() makes request (r) into a dictionary. json.dumps makes the dictionary into json file. Orient argument makes sure it is read correctly.\n",
        "for i in states:\n",
        "    payload['state_alpha'] = i\n",
        "    r = requests.get('http://quickstats.nass.usda.gov/api/api_GET/?key='+api_key, params = payload)\n",
        "    df = pd.read_json(json.dumps(r.json()),orient='split')\n",
        "    \n",
        "    df_trunc = df[['state_fips_code','county_name','county_code','year','Value']]\n",
        "    \n",
        "    df_all = pd.concat([df_all, df_trunc])\n",
        "    print(i)"
      ],
      "execution_count": 1,
      "outputs": [
        {
          "output_type": "stream",
          "text": [
            "IL\n",
            "IN\n",
            "IA\n",
            "KS\n",
            "KY\n",
            "MI\n",
            "MO\n",
            "NE\n",
            "OH\n",
            "SD\n",
            "WI\n"
          ],
          "name": "stdout"
        }
      ]
    },
    {
      "metadata": {
        "id": "Tkg2J8JOlo_O",
        "colab_type": "code",
        "colab": {
          "base_uri": "https://localhost:8080/",
          "height": 35
        },
        "outputId": "511abdf0-b9f1-4331-e512-ffda940dc481"
      },
      "cell_type": "code",
      "source": [
        "#check for missing data marked with D\n",
        "sum(df_all.Value.str.contains('D'))"
      ],
      "execution_count": 4,
      "outputs": [
        {
          "output_type": "execute_result",
          "data": {
            "text/plain": [
              "0"
            ]
          },
          "metadata": {
            "tags": []
          },
          "execution_count": 4
        }
      ]
    },
    {
      "metadata": {
        "id": "1k9bD7z_l5lT",
        "colab_type": "code",
        "colab": {}
      },
      "cell_type": "code",
      "source": [
        "#convert comma seperated values to integers\n",
        "list_area = list(df_all['Value'])\n",
        "list_area = [i.replace(',','') for i in list_area]\n",
        "df_all['Value'] = list_area"
      ],
      "execution_count": 0,
      "outputs": []
    },
    {
      "metadata": {
        "id": "w87-XFVUmNta",
        "colab_type": "code",
        "colab": {
          "base_uri": "https://localhost:8080/",
          "height": 206
        },
        "outputId": "cda4dbad-1821-4563-a1f8-69aa7c9f32fe"
      },
      "cell_type": "code",
      "source": [
        "#preview df\n",
        "df_all.head()"
      ],
      "execution_count": 6,
      "outputs": [
        {
          "output_type": "execute_result",
          "data": {
            "text/html": [
              "<div>\n",
              "<style scoped>\n",
              "    .dataframe tbody tr th:only-of-type {\n",
              "        vertical-align: middle;\n",
              "    }\n",
              "\n",
              "    .dataframe tbody tr th {\n",
              "        vertical-align: top;\n",
              "    }\n",
              "\n",
              "    .dataframe thead th {\n",
              "        text-align: right;\n",
              "    }\n",
              "</style>\n",
              "<table border=\"1\" class=\"dataframe\">\n",
              "  <thead>\n",
              "    <tr style=\"text-align: right;\">\n",
              "      <th></th>\n",
              "      <th>state_fips_code</th>\n",
              "      <th>county_name</th>\n",
              "      <th>county_code</th>\n",
              "      <th>year</th>\n",
              "      <th>Value</th>\n",
              "    </tr>\n",
              "  </thead>\n",
              "  <tbody>\n",
              "    <tr>\n",
              "      <th>0</th>\n",
              "      <td>17</td>\n",
              "      <td>BUREAU</td>\n",
              "      <td>11</td>\n",
              "      <td>2017</td>\n",
              "      <td>264000</td>\n",
              "    </tr>\n",
              "    <tr>\n",
              "      <th>1</th>\n",
              "      <td>17</td>\n",
              "      <td>BUREAU</td>\n",
              "      <td>11</td>\n",
              "      <td>2016</td>\n",
              "      <td>273500</td>\n",
              "    </tr>\n",
              "    <tr>\n",
              "      <th>2</th>\n",
              "      <td>17</td>\n",
              "      <td>BUREAU</td>\n",
              "      <td>11</td>\n",
              "      <td>2015</td>\n",
              "      <td>262000</td>\n",
              "    </tr>\n",
              "    <tr>\n",
              "      <th>3</th>\n",
              "      <td>17</td>\n",
              "      <td>BUREAU</td>\n",
              "      <td>11</td>\n",
              "      <td>2014</td>\n",
              "      <td>277000</td>\n",
              "    </tr>\n",
              "    <tr>\n",
              "      <th>4</th>\n",
              "      <td>17</td>\n",
              "      <td>BUREAU</td>\n",
              "      <td>11</td>\n",
              "      <td>2013</td>\n",
              "      <td>291500</td>\n",
              "    </tr>\n",
              "  </tbody>\n",
              "</table>\n",
              "</div>"
            ],
            "text/plain": [
              "   state_fips_code county_name  county_code  year   Value\n",
              "0               17      BUREAU           11  2017  264000\n",
              "1               17      BUREAU           11  2016  273500\n",
              "2               17      BUREAU           11  2015  262000\n",
              "3               17      BUREAU           11  2014  277000\n",
              "4               17      BUREAU           11  2013  291500"
            ]
          },
          "metadata": {
            "tags": []
          },
          "execution_count": 6
        }
      ]
    },
    {
      "metadata": {
        "id": "G3GDUfN3mRJT",
        "colab_type": "code",
        "colab": {}
      },
      "cell_type": "code",
      "source": [
        "#save to csv\n",
        "df_all.to_csv('area_planted.csv', index = False, header = False)"
      ],
      "execution_count": 0,
      "outputs": []
    }
  ]
}