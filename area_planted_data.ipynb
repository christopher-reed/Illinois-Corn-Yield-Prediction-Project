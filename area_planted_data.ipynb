{
  "nbformat": 4,
  "nbformat_minor": 0,
  "metadata": {
    "colab": {
      "name": "area_planted_data",
      "version": "0.3.2",
      "provenance": [],
      "include_colab_link": true
    },
    "kernelspec": {
      "name": "python3",
      "display_name": "Python 3"
    }
  },
  "cells": [
    {
      "cell_type": "markdown",
      "metadata": {
        "id": "view-in-github",
        "colab_type": "text"
      },
      "source": [
        "<a href=\"https://colab.research.google.com/github/christopher-reed/ag_data_project/blob/master/area_planted_data.ipynb\" target=\"_parent\"><img src=\"https://colab.research.google.com/assets/colab-badge.svg\" alt=\"Open In Colab\"/></a>"
      ]
    },
    {
      "cell_type": "code",
      "metadata": {
        "id": "oI0XL9E-k23K",
        "colab_type": "code",
        "outputId": "9644a49f-586c-4d66-96d8-f2560d8b1b6f",
        "colab": {
          "base_uri": "https://localhost:8080/",
          "height": 36
        }
      },
      "source": [
        "#Import packages\n",
        "import pandas as pd\n",
        "import numpy as np\n",
        "import requests, json\n",
        "\n",
        "api_key = '70D413B2-0123-3524-9634-F730BE441009' \n",
        "\n",
        "#Years used in study\n",
        "years = map(str,range(1981,2018))\n",
        "\n",
        "payload = {'key':api_key,\n",
        "\t   'source_desc':'SURVEY',\n",
        "\t   'commodity_desc':'CORN',\n",
        "\t   'statisticcat_desc':'AREA PLANTED',\n",
        "\t   'agg_level_desc':'COUNTY',\n",
        "\t   'year':years,\n",
        "\t   'format':'JSON',\n",
        "     'prodn_practice_desc':'ALL PRODUCTION PRACTICES'}\n",
        "\n",
        "#States used in study\n",
        "states = ['IL']\n",
        "\n",
        "#Empty df to store results\n",
        "df_all = pd.DataFrame()\n",
        "\n",
        "#loop through payload with each state in states list\n",
        "for i in states:\n",
        "    payload['state_alpha'] = i\n",
        "    r = requests.get('http://quickstats.nass.usda.gov/api/api_GET/?key='+api_key, params = payload)\n",
        "    df = pd.read_json(json.dumps(r.json()),orient='split')\n",
        "    \n",
        "    df_trunc = df[['state_fips_code','county_name','county_code','year','Value']]\n",
        "    \n",
        "    df_all = pd.concat([df_all, df_trunc])\n",
        "    print(i)"
      ],
      "execution_count": 2,
      "outputs": [
        {
          "output_type": "stream",
          "text": [
            "IL\n"
          ],
          "name": "stdout"
        }
      ]
    },
    {
      "cell_type": "code",
      "metadata": {
        "id": "1k9bD7z_l5lT",
        "colab_type": "code",
        "colab": {}
      },
      "source": [
        "#Convert comma seperated values to integers\n",
        "list_area = list(df_all['Value'])\n",
        "list_area = [i.replace(',','') for i in list_area]\n",
        "df_all['Value'] = list_area"
      ],
      "execution_count": 0,
      "outputs": []
    },
    {
      "cell_type": "code",
      "metadata": {
        "id": "w87-XFVUmNta",
        "colab_type": "code",
        "outputId": "8b1ff168-dc6f-45b7-e06c-7bb8be1aeaed",
        "colab": {
          "base_uri": "https://localhost:8080/",
          "height": 206
        }
      },
      "source": [
        "#Preview df\n",
        "df_all.head()"
      ],
      "execution_count": 0,
      "outputs": [
        {
          "output_type": "execute_result",
          "data": {
            "text/html": [
              "<div>\n",
              "<style scoped>\n",
              "    .dataframe tbody tr th:only-of-type {\n",
              "        vertical-align: middle;\n",
              "    }\n",
              "\n",
              "    .dataframe tbody tr th {\n",
              "        vertical-align: top;\n",
              "    }\n",
              "\n",
              "    .dataframe thead th {\n",
              "        text-align: right;\n",
              "    }\n",
              "</style>\n",
              "<table border=\"1\" class=\"dataframe\">\n",
              "  <thead>\n",
              "    <tr style=\"text-align: right;\">\n",
              "      <th></th>\n",
              "      <th>state_fips_code</th>\n",
              "      <th>county_name</th>\n",
              "      <th>county_code</th>\n",
              "      <th>year</th>\n",
              "      <th>Value</th>\n",
              "    </tr>\n",
              "  </thead>\n",
              "  <tbody>\n",
              "    <tr>\n",
              "      <th>0</th>\n",
              "      <td>17</td>\n",
              "      <td>BUREAU</td>\n",
              "      <td>11</td>\n",
              "      <td>2017</td>\n",
              "      <td>264000</td>\n",
              "    </tr>\n",
              "    <tr>\n",
              "      <th>1</th>\n",
              "      <td>17</td>\n",
              "      <td>BUREAU</td>\n",
              "      <td>11</td>\n",
              "      <td>2016</td>\n",
              "      <td>273500</td>\n",
              "    </tr>\n",
              "    <tr>\n",
              "      <th>2</th>\n",
              "      <td>17</td>\n",
              "      <td>BUREAU</td>\n",
              "      <td>11</td>\n",
              "      <td>2015</td>\n",
              "      <td>262000</td>\n",
              "    </tr>\n",
              "    <tr>\n",
              "      <th>3</th>\n",
              "      <td>17</td>\n",
              "      <td>BUREAU</td>\n",
              "      <td>11</td>\n",
              "      <td>2014</td>\n",
              "      <td>277000</td>\n",
              "    </tr>\n",
              "    <tr>\n",
              "      <th>4</th>\n",
              "      <td>17</td>\n",
              "      <td>BUREAU</td>\n",
              "      <td>11</td>\n",
              "      <td>2013</td>\n",
              "      <td>291500</td>\n",
              "    </tr>\n",
              "  </tbody>\n",
              "</table>\n",
              "</div>"
            ],
            "text/plain": [
              "   state_fips_code county_name  county_code  year   Value\n",
              "0               17      BUREAU           11  2017  264000\n",
              "1               17      BUREAU           11  2016  273500\n",
              "2               17      BUREAU           11  2015  262000\n",
              "3               17      BUREAU           11  2014  277000\n",
              "4               17      BUREAU           11  2013  291500"
            ]
          },
          "metadata": {
            "tags": []
          },
          "execution_count": 4
        }
      ]
    },
    {
      "cell_type": "code",
      "metadata": {
        "id": "G3GDUfN3mRJT",
        "colab_type": "code",
        "colab": {}
      },
      "source": [
        "#Save as csv\n",
        "df_all.to_csv('area_planted.csv', index = False, header = False)"
      ],
      "execution_count": 0,
      "outputs": []
    }
  ]
}