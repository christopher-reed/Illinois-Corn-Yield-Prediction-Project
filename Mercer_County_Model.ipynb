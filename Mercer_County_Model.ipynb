{
  "nbformat": 4,
  "nbformat_minor": 0,
  "metadata": {
    "colab": {
      "name": "Mercer_County_Model",
      "version": "0.3.2",
      "provenance": [],
      "collapsed_sections": []
    },
    "kernelspec": {
      "name": "python3",
      "display_name": "Python 3"
    }
  },
  "cells": [
    {
      "metadata": {
        "id": "Bt7RPx9Ht_1u",
        "colab_type": "code",
        "colab": {}
      },
      "cell_type": "code",
      "source": [
        "import pandas as pd\n",
        "import numpy as np\n",
        "import matplotlib.pyplot as plt\n",
        "import copy"
      ],
      "execution_count": 0,
      "outputs": []
    },
    {
      "metadata": {
        "id": "8gYhlCWlcbAc",
        "colab_type": "code",
        "colab": {}
      },
      "cell_type": "code",
      "source": [
        "#Import GDD and KDD data. Keep only GDD and KDD data\n",
        "GDD_KDD = pd.read_csv('GDD_KDD_Cleaned.csv', index_col = 0)\n",
        "GDD_KDD.index = pd.to_datetime(GDD_KDD.index)\n",
        "\n",
        "GDD_KDD = GDD_KDD.drop(['TMAX_obs', 'TMIN_obs', 'TMAX_bound', 'TMIN_bound'], axis = 1)"
      ],
      "execution_count": 0,
      "outputs": []
    },
    {
      "metadata": {
        "id": "M390uChDcv4u",
        "colab_type": "code",
        "colab": {}
      },
      "cell_type": "code",
      "source": [
        "#Import development data for Illinois\n",
        "\n",
        "IL_Development = pd.read_csv('illinois_combined_development_data.csv', index_col = 0)\n",
        "IL_Development.index = pd.to_datetime(IL_Development.index)\n",
        "\n",
        "IL_Development = IL_Development.drop(['sum'], axis = 1)"
      ],
      "execution_count": 0,
      "outputs": []
    },
    {
      "metadata": {
        "id": "84FpcOyccw50",
        "colab_type": "code",
        "colab": {}
      },
      "cell_type": "code",
      "source": [
        "#GDD are calculated for each county and development phase. For each day, multiply percent of crop in phase of interest by the GDD on that day.\n",
        "#Since we only have one county, product of GDD and percent of crop in phase of interest is the GDD for that day"
      ],
      "execution_count": 0,
      "outputs": []
    },
    {
      "metadata": {
        "id": "dFgYAEOwc8Tp",
        "colab_type": "code",
        "outputId": "974e6401-0d87-45c1-9820-4bef2dda32a9",
        "colab": {
          "base_uri": "https://localhost:8080/",
          "height": 262
        }
      },
      "cell_type": "code",
      "source": [
        "#Index for both dataframes needs to be identical. Currently they are not because we removed some \"bad years\" from the weather data due to holes\n",
        "#Removed 1983, 1986, 1998, 1999, 2000, and 2016. There are 13514 days between (inclusive) 1981 - 2017. Removing these years there should be 11322 days.\n",
        "#Rember about leap years!\n",
        "\n",
        "print(len(IL_Development.index))\n",
        "print(len(GDD_KDD.index))\n",
        "\n",
        "#Join the dfs. GDD and KDD columns will have NaN for years that were removed in previous cleaning. Then drop rows with any NaN.\n",
        "df = IL_Development.join(GDD_KDD)\n",
        "df = df.dropna()\n",
        "\n",
        "print(len(df.index))\n",
        "\n",
        "df.head()"
      ],
      "execution_count": 5,
      "outputs": [
        {
          "output_type": "stream",
          "text": [
            "13514\n",
            "11322\n",
            "11322\n"
          ],
          "name": "stdout"
        },
        {
          "output_type": "execute_result",
          "data": {
            "text/html": [
              "<div>\n",
              "<style scoped>\n",
              "    .dataframe tbody tr th:only-of-type {\n",
              "        vertical-align: middle;\n",
              "    }\n",
              "\n",
              "    .dataframe tbody tr th {\n",
              "        vertical-align: top;\n",
              "    }\n",
              "\n",
              "    .dataframe thead th {\n",
              "        text-align: right;\n",
              "    }\n",
              "</style>\n",
              "<table border=\"1\" class=\"dataframe\">\n",
              "  <thead>\n",
              "    <tr style=\"text-align: right;\">\n",
              "      <th></th>\n",
              "      <th>vegetative</th>\n",
              "      <th>early_grain</th>\n",
              "      <th>late_grain</th>\n",
              "      <th>GDD</th>\n",
              "      <th>KDD</th>\n",
              "    </tr>\n",
              "  </thead>\n",
              "  <tbody>\n",
              "    <tr>\n",
              "      <th>1981-01-01</th>\n",
              "      <td>0.0</td>\n",
              "      <td>0.0</td>\n",
              "      <td>0.0</td>\n",
              "      <td>0.0</td>\n",
              "      <td>0.0</td>\n",
              "    </tr>\n",
              "    <tr>\n",
              "      <th>1981-01-02</th>\n",
              "      <td>0.0</td>\n",
              "      <td>0.0</td>\n",
              "      <td>0.0</td>\n",
              "      <td>0.0</td>\n",
              "      <td>0.0</td>\n",
              "    </tr>\n",
              "    <tr>\n",
              "      <th>1981-01-03</th>\n",
              "      <td>0.0</td>\n",
              "      <td>0.0</td>\n",
              "      <td>0.0</td>\n",
              "      <td>0.0</td>\n",
              "      <td>0.0</td>\n",
              "    </tr>\n",
              "    <tr>\n",
              "      <th>1981-01-04</th>\n",
              "      <td>0.0</td>\n",
              "      <td>0.0</td>\n",
              "      <td>0.0</td>\n",
              "      <td>0.0</td>\n",
              "      <td>0.0</td>\n",
              "    </tr>\n",
              "    <tr>\n",
              "      <th>1981-01-05</th>\n",
              "      <td>0.0</td>\n",
              "      <td>0.0</td>\n",
              "      <td>0.0</td>\n",
              "      <td>0.0</td>\n",
              "      <td>0.0</td>\n",
              "    </tr>\n",
              "  </tbody>\n",
              "</table>\n",
              "</div>"
            ],
            "text/plain": [
              "            vegetative  early_grain  late_grain  GDD  KDD\n",
              "1981-01-01         0.0          0.0         0.0  0.0  0.0\n",
              "1981-01-02         0.0          0.0         0.0  0.0  0.0\n",
              "1981-01-03         0.0          0.0         0.0  0.0  0.0\n",
              "1981-01-04         0.0          0.0         0.0  0.0  0.0\n",
              "1981-01-05         0.0          0.0         0.0  0.0  0.0"
            ]
          },
          "metadata": {
            "tags": []
          },
          "execution_count": 5
        }
      ]
    },
    {
      "metadata": {
        "id": "qWSqb1dVxBmx",
        "colab_type": "code",
        "outputId": "24c35191-3365-4ba7-db16-9c60f6d7200c",
        "colab": {
          "base_uri": "https://localhost:8080/",
          "height": 257
        }
      },
      "cell_type": "code",
      "source": [
        "#Calculate GDDs and KDDs for phases. Phase data should be in percent format so divide phase columns by 100\n",
        "\n",
        "phases = ['vegetative', 'early_grain', 'late_grain']\n",
        "\n",
        "for p in phases:\n",
        "  df[p] = df[p]/100\n",
        "\n",
        "for p in phases:\n",
        "  df['GDD_'+p] = df[p] * df['GDD']\n",
        "  \n",
        "for p in phases:\n",
        "  df['KDD_'+p] = df[p] * df['KDD']\n",
        "  \n",
        "df.loc['2017-04-15':'2017-04-20']"
      ],
      "execution_count": 6,
      "outputs": [
        {
          "output_type": "execute_result",
          "data": {
            "text/html": [
              "<div>\n",
              "<style scoped>\n",
              "    .dataframe tbody tr th:only-of-type {\n",
              "        vertical-align: middle;\n",
              "    }\n",
              "\n",
              "    .dataframe tbody tr th {\n",
              "        vertical-align: top;\n",
              "    }\n",
              "\n",
              "    .dataframe thead th {\n",
              "        text-align: right;\n",
              "    }\n",
              "</style>\n",
              "<table border=\"1\" class=\"dataframe\">\n",
              "  <thead>\n",
              "    <tr style=\"text-align: right;\">\n",
              "      <th></th>\n",
              "      <th>vegetative</th>\n",
              "      <th>early_grain</th>\n",
              "      <th>late_grain</th>\n",
              "      <th>GDD</th>\n",
              "      <th>KDD</th>\n",
              "      <th>GDD_vegetative</th>\n",
              "      <th>GDD_early_grain</th>\n",
              "      <th>GDD_late_grain</th>\n",
              "      <th>KDD_vegetative</th>\n",
              "      <th>KDD_early_grain</th>\n",
              "      <th>KDD_late_grain</th>\n",
              "    </tr>\n",
              "  </thead>\n",
              "  <tbody>\n",
              "    <tr>\n",
              "      <th>2017-04-15</th>\n",
              "      <td>0.051429</td>\n",
              "      <td>0.0</td>\n",
              "      <td>0.0</td>\n",
              "      <td>8.20</td>\n",
              "      <td>0.0</td>\n",
              "      <td>0.421714</td>\n",
              "      <td>0.0</td>\n",
              "      <td>0.0</td>\n",
              "      <td>0.0</td>\n",
              "      <td>0.0</td>\n",
              "      <td>0.0</td>\n",
              "    </tr>\n",
              "    <tr>\n",
              "      <th>2017-04-16</th>\n",
              "      <td>0.060000</td>\n",
              "      <td>0.0</td>\n",
              "      <td>0.0</td>\n",
              "      <td>11.00</td>\n",
              "      <td>0.0</td>\n",
              "      <td>0.660000</td>\n",
              "      <td>0.0</td>\n",
              "      <td>0.0</td>\n",
              "      <td>0.0</td>\n",
              "      <td>0.0</td>\n",
              "      <td>0.0</td>\n",
              "    </tr>\n",
              "    <tr>\n",
              "      <th>2017-04-17</th>\n",
              "      <td>0.100000</td>\n",
              "      <td>0.0</td>\n",
              "      <td>0.0</td>\n",
              "      <td>6.35</td>\n",
              "      <td>0.0</td>\n",
              "      <td>0.635000</td>\n",
              "      <td>0.0</td>\n",
              "      <td>0.0</td>\n",
              "      <td>0.0</td>\n",
              "      <td>0.0</td>\n",
              "      <td>0.0</td>\n",
              "    </tr>\n",
              "    <tr>\n",
              "      <th>2017-04-18</th>\n",
              "      <td>0.140000</td>\n",
              "      <td>0.0</td>\n",
              "      <td>0.0</td>\n",
              "      <td>7.15</td>\n",
              "      <td>0.0</td>\n",
              "      <td>1.001000</td>\n",
              "      <td>0.0</td>\n",
              "      <td>0.0</td>\n",
              "      <td>0.0</td>\n",
              "      <td>0.0</td>\n",
              "      <td>0.0</td>\n",
              "    </tr>\n",
              "    <tr>\n",
              "      <th>2017-04-19</th>\n",
              "      <td>0.180000</td>\n",
              "      <td>0.0</td>\n",
              "      <td>0.0</td>\n",
              "      <td>7.70</td>\n",
              "      <td>0.0</td>\n",
              "      <td>1.386000</td>\n",
              "      <td>0.0</td>\n",
              "      <td>0.0</td>\n",
              "      <td>0.0</td>\n",
              "      <td>0.0</td>\n",
              "      <td>0.0</td>\n",
              "    </tr>\n",
              "    <tr>\n",
              "      <th>2017-04-20</th>\n",
              "      <td>0.220000</td>\n",
              "      <td>0.0</td>\n",
              "      <td>0.0</td>\n",
              "      <td>8.80</td>\n",
              "      <td>0.0</td>\n",
              "      <td>1.936000</td>\n",
              "      <td>0.0</td>\n",
              "      <td>0.0</td>\n",
              "      <td>0.0</td>\n",
              "      <td>0.0</td>\n",
              "      <td>0.0</td>\n",
              "    </tr>\n",
              "  </tbody>\n",
              "</table>\n",
              "</div>"
            ],
            "text/plain": [
              "            vegetative  early_grain  late_grain    GDD  KDD  GDD_vegetative  \\\n",
              "2017-04-15    0.051429          0.0         0.0   8.20  0.0        0.421714   \n",
              "2017-04-16    0.060000          0.0         0.0  11.00  0.0        0.660000   \n",
              "2017-04-17    0.100000          0.0         0.0   6.35  0.0        0.635000   \n",
              "2017-04-18    0.140000          0.0         0.0   7.15  0.0        1.001000   \n",
              "2017-04-19    0.180000          0.0         0.0   7.70  0.0        1.386000   \n",
              "2017-04-20    0.220000          0.0         0.0   8.80  0.0        1.936000   \n",
              "\n",
              "            GDD_early_grain  GDD_late_grain  KDD_vegetative  KDD_early_grain  \\\n",
              "2017-04-15              0.0             0.0             0.0              0.0   \n",
              "2017-04-16              0.0             0.0             0.0              0.0   \n",
              "2017-04-17              0.0             0.0             0.0              0.0   \n",
              "2017-04-18              0.0             0.0             0.0              0.0   \n",
              "2017-04-19              0.0             0.0             0.0              0.0   \n",
              "2017-04-20              0.0             0.0             0.0              0.0   \n",
              "\n",
              "            KDD_late_grain  \n",
              "2017-04-15             0.0  \n",
              "2017-04-16             0.0  \n",
              "2017-04-17             0.0  \n",
              "2017-04-18             0.0  \n",
              "2017-04-19             0.0  \n",
              "2017-04-20             0.0  "
            ]
          },
          "metadata": {
            "tags": []
          },
          "execution_count": 6
        }
      ]
    },
    {
      "metadata": {
        "id": "_B3tD6gtlnPb",
        "colab_type": "code",
        "outputId": "4a7b2fc4-7089-4283-c04d-af6c7b79ce35",
        "colab": {
          "base_uri": "https://localhost:8080/",
          "height": 54
        }
      },
      "cell_type": "code",
      "source": [
        "df.loc['2017-04-15':'2017-04-20']['GDD_vegetative'].values"
      ],
      "execution_count": 7,
      "outputs": [
        {
          "output_type": "execute_result",
          "data": {
            "text/plain": [
              "array([0.42171429, 0.66      , 0.635     , 1.001     , 1.386     ,\n",
              "       1.936     ])"
            ]
          },
          "metadata": {
            "tags": []
          },
          "execution_count": 7
        }
      ]
    },
    {
      "metadata": {
        "id": "x3YdHorDkk32",
        "colab_type": "code",
        "outputId": "59250078-85a7-47a6-83f3-7343799b1983",
        "colab": {
          "base_uri": "https://localhost:8080/",
          "height": 381
        }
      },
      "cell_type": "code",
      "source": [
        "#Visualize GDD and KDD for vegetative phase\n",
        "#Orientation from https://matplotlib.org/examples/pylab_examples/subplots_demo.html\n",
        "\n",
        "x = df.loc['2012-01-01':'2012-12-31'].index\n",
        "y1 = df.loc['2012-01-01':'2012-12-31']['GDD_vegetative'].values\n",
        "y2 = df.loc['2012-01-01':'2012-12-31']['KDD_vegetative'].values\n",
        "y3 = df.loc['2012-01-01':'2012-12-31']['GDD_early_grain'].values  \n",
        "y4 = df.loc['2012-01-01':'2012-12-31']['KDD_early_grain'].values\n",
        "y5 = df.loc['2012-01-01':'2012-12-31']['GDD_late_grain'].values \n",
        "y6 = df.loc['2012-01-01':'2012-12-31']['KDD_late_grain'].values  \n",
        "  \n",
        "  \n",
        "f, axarr = plt.subplots(3, sharex=True)\n",
        "axarr[0].plot(x, y1, color = 'green', label = 'Veg GDD')\n",
        "axarr[0].plot(x, y2, color = 'red', label = 'Veg KDD')\n",
        "axarr[0].legend(loc = 'upper left')\n",
        "axarr[0].set_title('GDD AND KDD IN ILLINOIS 2012 - 2013')\n",
        "\n",
        "axarr[1].plot(x, y3, color = 'green', label = 'Early GDD')\n",
        "axarr[1].plot(x, y4, color = 'red', label = 'Early KDD')\n",
        "axarr[1].legend(loc = 'upper left')\n",
        "\n",
        "axarr[2].plot(x, y5, color = 'green', label = 'Late GDD')\n",
        "axarr[2].plot(x, y6, color = 'red', label= 'Late KDD')\n",
        "axarr[2].legend(loc = 'upper left')"
      ],
      "execution_count": 8,
      "outputs": [
        {
          "output_type": "execute_result",
          "data": {
            "text/plain": [
              "<matplotlib.legend.Legend at 0x7fd5e05e9198>"
            ]
          },
          "metadata": {
            "tags": []
          },
          "execution_count": 8
        },
        {
          "output_type": "display_data",
          "data": {
            "image/png": "[encoded data removed]",
            "text/plain": [
              "<Figure size 576x396 with 3 Axes>"
            ]
          },
          "metadata": {
            "tags": []
          }
        }
      ]
    },
    {
      "metadata": {
        "id": "kcUITw4VJjij",
        "colab_type": "code",
        "outputId": "c18eeeca-493d-4026-9c6b-1b4a5dec6bc1",
        "colab": {
          "base_uri": "https://localhost:8080/",
          "height": 206
        }
      },
      "cell_type": "code",
      "source": [
        "#Find yearly average GDD/KDD for each phase.\n",
        "data = {}\n",
        "phase = ['GDD_vegetative', 'GDD_early_grain', 'GDD_late_grain', 'KDD_vegetative', 'KDD_early_grain', 'KDD_late_grain']\n",
        "\n",
        "mean_development_df = pd.DataFrame()\n",
        "mean_development_df['year'] = df.index.year.unique() #Make year column to eventually map dictionaries to\n",
        "\n",
        "for p in phase: #Iterate through all phases\n",
        "  for y in df.index.year.unique(): #Iterate through all years within each phase\n",
        "    data[y] = df[p][(df.index.year == y)].mean() #Make a dictionary with key = year and values are the mean values in each phase for that year\n",
        "    mean_development_df[p] = mean_development_df['year'].map(data) #Match dictionary key to column of years and put in values from dictionary\n",
        "    \n",
        "mean_development_df.head()"
      ],
      "execution_count": 0,
      "outputs": [
        {
          "output_type": "execute_result",
          "data": {
            "text/html": [
              "<div>\n",
              "<style scoped>\n",
              "    .dataframe tbody tr th:only-of-type {\n",
              "        vertical-align: middle;\n",
              "    }\n",
              "\n",
              "    .dataframe tbody tr th {\n",
              "        vertical-align: top;\n",
              "    }\n",
              "\n",
              "    .dataframe thead th {\n",
              "        text-align: right;\n",
              "    }\n",
              "</style>\n",
              "<table border=\"1\" class=\"dataframe\">\n",
              "  <thead>\n",
              "    <tr style=\"text-align: right;\">\n",
              "      <th></th>\n",
              "      <th>year</th>\n",
              "      <th>GDD_vegetative</th>\n",
              "      <th>GDD_early_grain</th>\n",
              "      <th>GDD_late_grain</th>\n",
              "      <th>KDD_vegetative</th>\n",
              "      <th>KDD_early_grain</th>\n",
              "      <th>KDD_late_grain</th>\n",
              "    </tr>\n",
              "  </thead>\n",
              "  <tbody>\n",
              "    <tr>\n",
              "      <th>0</th>\n",
              "      <td>1981</td>\n",
              "      <td>2.108359</td>\n",
              "      <td>0.823876</td>\n",
              "      <td>1.234161</td>\n",
              "      <td>0.095409</td>\n",
              "      <td>0.028719</td>\n",
              "      <td>0.031610</td>\n",
              "    </tr>\n",
              "    <tr>\n",
              "      <th>1</th>\n",
              "      <td>1982</td>\n",
              "      <td>2.237647</td>\n",
              "      <td>0.745351</td>\n",
              "      <td>1.224173</td>\n",
              "      <td>0.074162</td>\n",
              "      <td>0.063381</td>\n",
              "      <td>0.038842</td>\n",
              "    </tr>\n",
              "    <tr>\n",
              "      <th>2</th>\n",
              "      <td>1984</td>\n",
              "      <td>2.255080</td>\n",
              "      <td>0.742555</td>\n",
              "      <td>1.241253</td>\n",
              "      <td>0.187655</td>\n",
              "      <td>0.110284</td>\n",
              "      <td>0.183959</td>\n",
              "    </tr>\n",
              "    <tr>\n",
              "      <th>3</th>\n",
              "      <td>1985</td>\n",
              "      <td>2.201089</td>\n",
              "      <td>0.800572</td>\n",
              "      <td>1.433259</td>\n",
              "      <td>0.164840</td>\n",
              "      <td>0.079768</td>\n",
              "      <td>0.140930</td>\n",
              "    </tr>\n",
              "    <tr>\n",
              "      <th>4</th>\n",
              "      <td>1987</td>\n",
              "      <td>2.240381</td>\n",
              "      <td>0.831239</td>\n",
              "      <td>1.297272</td>\n",
              "      <td>0.265117</td>\n",
              "      <td>0.172497</td>\n",
              "      <td>0.241803</td>\n",
              "    </tr>\n",
              "  </tbody>\n",
              "</table>\n",
              "</div>"
            ],
            "text/plain": [
              "   year  GDD_vegetative  GDD_early_grain  GDD_late_grain  KDD_vegetative  \\\n",
              "0  1981        2.108359         0.823876        1.234161        0.095409   \n",
              "1  1982        2.237647         0.745351        1.224173        0.074162   \n",
              "2  1984        2.255080         0.742555        1.241253        0.187655   \n",
              "3  1985        2.201089         0.800572        1.433259        0.164840   \n",
              "4  1987        2.240381         0.831239        1.297272        0.265117   \n",
              "\n",
              "   KDD_early_grain  KDD_late_grain  \n",
              "0         0.028719        0.031610  \n",
              "1         0.063381        0.038842  \n",
              "2         0.110284        0.183959  \n",
              "3         0.079768        0.140930  \n",
              "4         0.172497        0.241803  "
            ]
          },
          "metadata": {
            "tags": []
          },
          "execution_count": 66
        }
      ]
    },
    {
      "metadata": {
        "id": "XG4mjena2Z3M",
        "colab_type": "code",
        "outputId": "21ac84b2-6ee3-4eea-d2f5-06187623f6ac",
        "colab": {
          "base_uri": "https://localhost:8080/",
          "height": 241
        }
      },
      "cell_type": "code",
      "source": [
        "#Upload the yield data. Filter to Mercer County in IL.\n",
        "df_yield = pd.read_csv('yield.csv')\n",
        "\n",
        "df_yield = df_yield[(df_yield['county'] == 'MERCER') & (df_yield['year'] >= 1981) & (df_yield['state_fips'] == 17)]\n",
        "\n",
        "print(df_yield.head())\n",
        "\n",
        "print(df_yield.tail())"
      ],
      "execution_count": 0,
      "outputs": [
        {
          "output_type": "stream",
          "text": [
            "     year  state_fips  county  county_code  yield\n",
            "185  2017          17  MERCER          131  238.7\n",
            "186  2016          17  MERCER          131  213.5\n",
            "187  2015          17  MERCER          131  205.7\n",
            "188  2014          17  MERCER          131  193.5\n",
            "189  2013          17  MERCER          131  177.1\n",
            "     year  state_fips  county  county_code  yield\n",
            "217  1985          17  MERCER          131  119.0\n",
            "218  1984          17  MERCER          131  118.0\n",
            "219  1983          17  MERCER          131   96.0\n",
            "220  1982          17  MERCER          131  124.0\n",
            "221  1981          17  MERCER          131  134.0\n"
          ],
          "name": "stdout"
        }
      ]
    },
    {
      "metadata": {
        "id": "d1lKlHPy00-0",
        "colab_type": "code",
        "outputId": "934cc855-7f03-42c8-d838-fd814b4bdc93",
        "colab": {
          "base_uri": "https://localhost:8080/",
          "height": 225
        }
      },
      "cell_type": "code",
      "source": [
        "#Prepare to combine yield and yearly GDD and KDD data into one dataframe\n",
        "\n",
        "#Remember that we removed some \"bad\" years from GDD and KDD data. Remove those same years from yield.\n",
        "years = mean_development_df['year'].values\n",
        "df_yield = df_yield[df_yield['year'].isin(years)]\n",
        "\n",
        "#Check that the length of years is the same for both dataframes before appending\n",
        "print(len(df_yield['year']) == len(mean_development_df['year']))\n",
        "\n",
        "#Append on years column\n",
        "mercer_county_df = pd.merge(df_yield, mean_development_df, how = 'left', on = ['year'])\n",
        "\n",
        "#Reverse order so oldest is in row 1\n",
        "#mercer_county_df = mercer_county_df.iloc[::-1]\n",
        "\n",
        "mercer_county_df.head()"
      ],
      "execution_count": 0,
      "outputs": [
        {
          "output_type": "stream",
          "text": [
            "True\n"
          ],
          "name": "stdout"
        },
        {
          "output_type": "execute_result",
          "data": {
            "text/html": [
              "<div>\n",
              "<style scoped>\n",
              "    .dataframe tbody tr th:only-of-type {\n",
              "        vertical-align: middle;\n",
              "    }\n",
              "\n",
              "    .dataframe tbody tr th {\n",
              "        vertical-align: top;\n",
              "    }\n",
              "\n",
              "    .dataframe thead th {\n",
              "        text-align: right;\n",
              "    }\n",
              "</style>\n",
              "<table border=\"1\" class=\"dataframe\">\n",
              "  <thead>\n",
              "    <tr style=\"text-align: right;\">\n",
              "      <th></th>\n",
              "      <th>year</th>\n",
              "      <th>state_fips</th>\n",
              "      <th>county</th>\n",
              "      <th>county_code</th>\n",
              "      <th>yield</th>\n",
              "      <th>GDD_vegetative</th>\n",
              "      <th>GDD_early_grain</th>\n",
              "      <th>GDD_late_grain</th>\n",
              "      <th>KDD_vegetative</th>\n",
              "      <th>KDD_early_grain</th>\n",
              "      <th>KDD_late_grain</th>\n",
              "    </tr>\n",
              "  </thead>\n",
              "  <tbody>\n",
              "    <tr>\n",
              "      <th>0</th>\n",
              "      <td>2017</td>\n",
              "      <td>17</td>\n",
              "      <td>MERCER</td>\n",
              "      <td>131</td>\n",
              "      <td>238.7</td>\n",
              "      <td>2.071702</td>\n",
              "      <td>0.835070</td>\n",
              "      <td>1.359123</td>\n",
              "      <td>0.197761</td>\n",
              "      <td>0.087581</td>\n",
              "      <td>0.034912</td>\n",
              "    </tr>\n",
              "    <tr>\n",
              "      <th>1</th>\n",
              "      <td>2015</td>\n",
              "      <td>17</td>\n",
              "      <td>MERCER</td>\n",
              "      <td>131</td>\n",
              "      <td>205.7</td>\n",
              "      <td>2.101664</td>\n",
              "      <td>0.787372</td>\n",
              "      <td>1.280817</td>\n",
              "      <td>0.045532</td>\n",
              "      <td>0.056528</td>\n",
              "      <td>0.092917</td>\n",
              "    </tr>\n",
              "    <tr>\n",
              "      <th>2</th>\n",
              "      <td>2014</td>\n",
              "      <td>17</td>\n",
              "      <td>MERCER</td>\n",
              "      <td>131</td>\n",
              "      <td>193.5</td>\n",
              "      <td>2.008723</td>\n",
              "      <td>0.825788</td>\n",
              "      <td>1.351281</td>\n",
              "      <td>0.088535</td>\n",
              "      <td>0.019154</td>\n",
              "      <td>0.057263</td>\n",
              "    </tr>\n",
              "    <tr>\n",
              "      <th>3</th>\n",
              "      <td>2013</td>\n",
              "      <td>17</td>\n",
              "      <td>MERCER</td>\n",
              "      <td>131</td>\n",
              "      <td>177.1</td>\n",
              "      <td>2.099697</td>\n",
              "      <td>0.815136</td>\n",
              "      <td>1.383256</td>\n",
              "      <td>0.174577</td>\n",
              "      <td>0.076578</td>\n",
              "      <td>0.210273</td>\n",
              "    </tr>\n",
              "    <tr>\n",
              "      <th>4</th>\n",
              "      <td>2012</td>\n",
              "      <td>17</td>\n",
              "      <td>MERCER</td>\n",
              "      <td>131</td>\n",
              "      <td>180.1</td>\n",
              "      <td>1.916869</td>\n",
              "      <td>1.050954</td>\n",
              "      <td>1.092298</td>\n",
              "      <td>0.127064</td>\n",
              "      <td>0.203059</td>\n",
              "      <td>0.136278</td>\n",
              "    </tr>\n",
              "  </tbody>\n",
              "</table>\n",
              "</div>"
            ],
            "text/plain": [
              "   year  state_fips  county  county_code  yield  GDD_vegetative  \\\n",
              "0  2017          17  MERCER          131  238.7        2.071702   \n",
              "1  2015          17  MERCER          131  205.7        2.101664   \n",
              "2  2014          17  MERCER          131  193.5        2.008723   \n",
              "3  2013          17  MERCER          131  177.1        2.099697   \n",
              "4  2012          17  MERCER          131  180.1        1.916869   \n",
              "\n",
              "   GDD_early_grain  GDD_late_grain  KDD_vegetative  KDD_early_grain  \\\n",
              "0         0.835070        1.359123        0.197761         0.087581   \n",
              "1         0.787372        1.280817        0.045532         0.056528   \n",
              "2         0.825788        1.351281        0.088535         0.019154   \n",
              "3         0.815136        1.383256        0.174577         0.076578   \n",
              "4         1.050954        1.092298        0.127064         0.203059   \n",
              "\n",
              "   KDD_late_grain  \n",
              "0        0.034912  \n",
              "1        0.092917  \n",
              "2        0.057263  \n",
              "3        0.210273  \n",
              "4        0.136278  "
            ]
          },
          "metadata": {
            "tags": []
          },
          "execution_count": 70
        }
      ]
    },
    {
      "metadata": {
        "id": "xkDXkoeQ4E-1",
        "colab_type": "code",
        "outputId": "1b587326-d7fc-46db-856f-3643c12ff829",
        "colab": {
          "base_uri": "https://localhost:8080/",
          "height": 745
        }
      },
      "cell_type": "code",
      "source": [
        "#Check for linearity in variables\n",
        "\n",
        "f = plt.figure(figsize = (20,10))\n",
        "ax = f.add_subplot(331)\n",
        "ax2 = f.add_subplot(334)\n",
        "ax3 = f.add_subplot(335)\n",
        "ax4 = f.add_subplot(336)\n",
        "ax5 = f.add_subplot(337)\n",
        "ax6 = f.add_subplot(338)\n",
        "ax7 = f.add_subplot(339)\n",
        "\n",
        "ax.scatter(df['year'], y)\n",
        "ax.set_xlabel('Year')\n",
        "ax.set_ylabel('Yield')\n",
        "ax.set_title('Year vs. Yield')\n",
        "\n",
        "ax2.scatter(df['GDD_vegetative'], y)\n",
        "ax2.set_xlabel('GDD')\n",
        "ax2.set_ylabel('Yield')\n",
        "ax2.set_title('GDD_Vegetative vs. Yield')\n",
        "\n",
        "ax3.scatter(df['GDD_early_grain'], y)\n",
        "ax3.set_xlabel('GDD')\n",
        "ax3.set_ylabel('Yield')\n",
        "ax3.set_title('GDD_early_grain vs. Yield')\n",
        "\n",
        "ax4.scatter(df['GDD_late_grain'], y)\n",
        "ax4.set_xlabel('GDD')\n",
        "ax4.set_ylabel('Yield')\n",
        "ax4.set_title('GDD_late_grain vs. Yield')\n",
        "\n",
        "ax5.scatter(df['KDD_vegetative'], y)\n",
        "ax5.set_xlabel('KDD')\n",
        "ax5.set_ylabel('Yield')\n",
        "ax5.set_title('KDD_vegetative vs. Yield')\n",
        "\n",
        "ax6.scatter(df['KDD_early_grain'], y)\n",
        "ax6.set_xlabel('KDD')\n",
        "ax6.set_ylabel('Yield')\n",
        "ax6.set_title('KDD_early_grain vs. Yield')\n",
        "\n",
        "ax7.scatter(df['KDD_late_grain'], y)\n",
        "ax7.set_xlabel('KDD')\n",
        "ax7.set_ylabel('Yield')\n",
        "ax7.set_title('KDD_late_grain vs. Yield')\n",
        "\n",
        "plt.tight_layout()"
      ],
      "execution_count": 0,
      "outputs": [
        {
          "output_type": "display_data",
          "data": {
            "image/png": "[encoded data removed]",
            "text/plain": [
              "<Figure size 1440x720 with 7 Axes>"
            ]
          },
          "metadata": {
            "tags": []
          }
        }
      ]
    },
    {
      "metadata": {
        "id": "TkSpN0Nt5W7U",
        "colab_type": "code",
        "outputId": "524b8dca-570f-4a50-dee4-6258503adff2",
        "colab": {
          "base_uri": "https://localhost:8080/",
          "height": 110
        }
      },
      "cell_type": "code",
      "source": [
        "from sklearn import linear_model\n",
        "\n",
        "x = mercer_county_df[['year','GDD_vegetative', 'GDD_early_grain', 'GDD_late_grain', 'KDD_vegetative', 'KDD_early_grain', 'KDD_late_grain']]\n",
        "y =mercer_county_df['yield']\n",
        "\n",
        "regr = linear_model.LinearRegression()\n",
        "regr.fit(x, y)\n",
        "\n",
        "print('Intercept: \\n', regr.intercept_)\n",
        "print('Coefficients: \\n', regr.coef_)"
      ],
      "execution_count": 0,
      "outputs": [
        {
          "output_type": "stream",
          "text": [
            "Intercept: \n",
            " -4168.973910611118\n",
            "Coefficients: \n",
            " [  2.23218194 -64.4268627  -35.5435637   26.75925678 -15.68373374\n",
            " -94.79065752  -7.61154571]\n"
          ],
          "name": "stdout"
        }
      ]
    },
    {
      "metadata": {
        "id": "HnIjVJNqD-Cr",
        "colab_type": "code",
        "outputId": "5945d7b5-dd0e-4599-ec89-1c899351c591",
        "colab": {
          "base_uri": "https://localhost:8080/",
          "height": 300
        }
      },
      "cell_type": "code",
      "source": [
        "mercer_county_df1 = mercer_county_df[['yield','year','GDD_vegetative', 'GDD_early_grain', 'GDD_late_grain', 'KDD_vegetative', 'KDD_early_grain', 'KDD_late_grain']]\n",
        "mercer_county_df1.corr()"
      ],
      "execution_count": 0,
      "outputs": [
        {
          "output_type": "execute_result",
          "data": {
            "text/html": [
              "<div>\n",
              "<style scoped>\n",
              "    .dataframe tbody tr th:only-of-type {\n",
              "        vertical-align: middle;\n",
              "    }\n",
              "\n",
              "    .dataframe tbody tr th {\n",
              "        vertical-align: top;\n",
              "    }\n",
              "\n",
              "    .dataframe thead th {\n",
              "        text-align: right;\n",
              "    }\n",
              "</style>\n",
              "<table border=\"1\" class=\"dataframe\">\n",
              "  <thead>\n",
              "    <tr style=\"text-align: right;\">\n",
              "      <th></th>\n",
              "      <th>yield</th>\n",
              "      <th>year</th>\n",
              "      <th>GDD_vegetative</th>\n",
              "      <th>GDD_early_grain</th>\n",
              "      <th>GDD_late_grain</th>\n",
              "      <th>KDD_vegetative</th>\n",
              "      <th>KDD_early_grain</th>\n",
              "      <th>KDD_late_grain</th>\n",
              "    </tr>\n",
              "  </thead>\n",
              "  <tbody>\n",
              "    <tr>\n",
              "      <th>yield</th>\n",
              "      <td>1.000000</td>\n",
              "      <td>0.810016</td>\n",
              "      <td>-0.707477</td>\n",
              "      <td>-0.124476</td>\n",
              "      <td>0.219622</td>\n",
              "      <td>-0.515169</td>\n",
              "      <td>-0.397559</td>\n",
              "      <td>-0.338922</td>\n",
              "    </tr>\n",
              "    <tr>\n",
              "      <th>year</th>\n",
              "      <td>0.810016</td>\n",
              "      <td>1.000000</td>\n",
              "      <td>-0.616356</td>\n",
              "      <td>0.151137</td>\n",
              "      <td>0.195805</td>\n",
              "      <td>-0.293650</td>\n",
              "      <td>-0.098560</td>\n",
              "      <td>-0.151119</td>\n",
              "    </tr>\n",
              "    <tr>\n",
              "      <th>GDD_vegetative</th>\n",
              "      <td>-0.707477</td>\n",
              "      <td>-0.616356</td>\n",
              "      <td>1.000000</td>\n",
              "      <td>0.008589</td>\n",
              "      <td>0.065295</td>\n",
              "      <td>0.637142</td>\n",
              "      <td>0.419841</td>\n",
              "      <td>0.442764</td>\n",
              "    </tr>\n",
              "    <tr>\n",
              "      <th>GDD_early_grain</th>\n",
              "      <td>-0.124476</td>\n",
              "      <td>0.151137</td>\n",
              "      <td>0.008589</td>\n",
              "      <td>1.000000</td>\n",
              "      <td>-0.377372</td>\n",
              "      <td>0.259129</td>\n",
              "      <td>0.505910</td>\n",
              "      <td>0.178654</td>\n",
              "    </tr>\n",
              "    <tr>\n",
              "      <th>GDD_late_grain</th>\n",
              "      <td>0.219622</td>\n",
              "      <td>0.195805</td>\n",
              "      <td>0.065295</td>\n",
              "      <td>-0.377372</td>\n",
              "      <td>1.000000</td>\n",
              "      <td>0.110358</td>\n",
              "      <td>0.067245</td>\n",
              "      <td>0.351249</td>\n",
              "    </tr>\n",
              "    <tr>\n",
              "      <th>KDD_vegetative</th>\n",
              "      <td>-0.515169</td>\n",
              "      <td>-0.293650</td>\n",
              "      <td>0.637142</td>\n",
              "      <td>0.259129</td>\n",
              "      <td>0.110358</td>\n",
              "      <td>1.000000</td>\n",
              "      <td>0.775882</td>\n",
              "      <td>0.740665</td>\n",
              "    </tr>\n",
              "    <tr>\n",
              "      <th>KDD_early_grain</th>\n",
              "      <td>-0.397559</td>\n",
              "      <td>-0.098560</td>\n",
              "      <td>0.419841</td>\n",
              "      <td>0.505910</td>\n",
              "      <td>0.067245</td>\n",
              "      <td>0.775882</td>\n",
              "      <td>1.000000</td>\n",
              "      <td>0.735661</td>\n",
              "    </tr>\n",
              "    <tr>\n",
              "      <th>KDD_late_grain</th>\n",
              "      <td>-0.338922</td>\n",
              "      <td>-0.151119</td>\n",
              "      <td>0.442764</td>\n",
              "      <td>0.178654</td>\n",
              "      <td>0.351249</td>\n",
              "      <td>0.740665</td>\n",
              "      <td>0.735661</td>\n",
              "      <td>1.000000</td>\n",
              "    </tr>\n",
              "  </tbody>\n",
              "</table>\n",
              "</div>"
            ],
            "text/plain": [
              "                    yield      year  GDD_vegetative  GDD_early_grain  \\\n",
              "yield            1.000000  0.810016       -0.707477        -0.124476   \n",
              "year             0.810016  1.000000       -0.616356         0.151137   \n",
              "GDD_vegetative  -0.707477 -0.616356        1.000000         0.008589   \n",
              "GDD_early_grain -0.124476  0.151137        0.008589         1.000000   \n",
              "GDD_late_grain   0.219622  0.195805        0.065295        -0.377372   \n",
              "KDD_vegetative  -0.515169 -0.293650        0.637142         0.259129   \n",
              "KDD_early_grain -0.397559 -0.098560        0.419841         0.505910   \n",
              "KDD_late_grain  -0.338922 -0.151119        0.442764         0.178654   \n",
              "\n",
              "                 GDD_late_grain  KDD_vegetative  KDD_early_grain  \\\n",
              "yield                  0.219622       -0.515169        -0.397559   \n",
              "year                   0.195805       -0.293650        -0.098560   \n",
              "GDD_vegetative         0.065295        0.637142         0.419841   \n",
              "GDD_early_grain       -0.377372        0.259129         0.505910   \n",
              "GDD_late_grain         1.000000        0.110358         0.067245   \n",
              "KDD_vegetative         0.110358        1.000000         0.775882   \n",
              "KDD_early_grain        0.067245        0.775882         1.000000   \n",
              "KDD_late_grain         0.351249        0.740665         0.735661   \n",
              "\n",
              "                 KDD_late_grain  \n",
              "yield                 -0.338922  \n",
              "year                  -0.151119  \n",
              "GDD_vegetative         0.442764  \n",
              "GDD_early_grain        0.178654  \n",
              "GDD_late_grain         0.351249  \n",
              "KDD_vegetative         0.740665  \n",
              "KDD_early_grain        0.735661  \n",
              "KDD_late_grain         1.000000  "
            ]
          },
          "metadata": {
            "tags": []
          },
          "execution_count": 71
        }
      ]
    },
    {
      "metadata": {
        "id": "GzruK2ZMD_2t",
        "colab_type": "code",
        "colab": {}
      },
      "cell_type": "code",
      "source": [
        ""
      ],
      "execution_count": 0,
      "outputs": []
    }
  ]
}