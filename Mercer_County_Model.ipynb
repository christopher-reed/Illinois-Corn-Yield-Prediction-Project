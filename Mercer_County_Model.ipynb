{
  "nbformat": 4,
  "nbformat_minor": 0,
  "metadata": {
    "colab": {
      "name": "Mercer County Model",
      "version": "0.3.2",
      "provenance": []
    },
    "kernelspec": {
      "name": "python3",
      "display_name": "Python 3"
    }
  },
  "cells": [
    {
      "metadata": {
        "id": "Bt7RPx9Ht_1u",
        "colab_type": "code",
        "colab": {}
      },
      "cell_type": "code",
      "source": [
        "import pandas as pd\n",
        "import numpy as np\n",
        "import matplotlib.pyplot as plt\n",
        "import copy"
      ],
      "execution_count": 0,
      "outputs": []
    },
    {
      "metadata": {
        "id": "8gYhlCWlcbAc",
        "colab_type": "code",
        "colab": {}
      },
      "cell_type": "code",
      "source": [
        "#Import GDD and KDD data. Keep only GDD and KDD data\n",
        "GDD_KDD = pd.read_csv('GDD_KDD_Cleaned.csv', index_col = 0)\n",
        "GDD_KDD.index = pd.to_datetime(GDD_KDD.index)\n",
        "\n",
        "GDD_KDD = GDD_KDD.drop(['TMAX_obs', 'TMIN_obs', 'TMAX_bound', 'TMIN_bound'], axis = 1)"
      ],
      "execution_count": 0,
      "outputs": []
    },
    {
      "metadata": {
        "id": "M390uChDcv4u",
        "colab_type": "code",
        "colab": {}
      },
      "cell_type": "code",
      "source": [
        "#Import development data for Illinois\n",
        "\n",
        "IL_Development = pd.read_csv('illinois_combined_development_data.csv', index_col = 0)\n",
        "IL_Development.index = pd.to_datetime(IL_Development.index)\n",
        "\n",
        "IL_Development = IL_Development.drop(['sum'], axis = 1)"
      ],
      "execution_count": 0,
      "outputs": []
    },
    {
      "metadata": {
        "id": "84FpcOyccw50",
        "colab_type": "code",
        "colab": {}
      },
      "cell_type": "code",
      "source": [
        "#GDD are calculated for each county and development phase. For each day, multiply percent of crop in phase of interest by the GDD on that day.\n",
        "#Since we only have one county, product of GDD and percent of crop in phase of interest is the GDD for that day"
      ],
      "execution_count": 0,
      "outputs": []
    },
    {
      "metadata": {
        "id": "dFgYAEOwc8Tp",
        "colab_type": "code",
        "colab": {
          "base_uri": "https://localhost:8080/",
          "height": 73
        },
        "outputId": "6d1b54cb-3a71-4834-ca07-bd9e0b6c54a0"
      },
      "cell_type": "code",
      "source": [
        "#Index for both dataframes needs to be identical. Currently they are not because we removed some \"bad years\" from the weather data due to holes\n",
        "#Removed 1983, 1986, 1998, 1999, 2000, and 2016. There are 13514 days between (inclusive) 1981 - 2017. Removing these years there should be 11322 days.\n",
        "#Rember about leap years!\n",
        "\n",
        "print(len(IL_Development.index))\n",
        "print(len(GDD_KDD.index))\n",
        "\n",
        "#Join the dfs. GDD and KDD columns will have NaN for years that were removed in previous cleaning. Then drop rows with any NaN.\n",
        "df = IL_Development.join(GDD_KDD)\n",
        "df = df.dropna()\n",
        "\n",
        "print(len(df.index))"
      ],
      "execution_count": 132,
      "outputs": [
        {
          "output_type": "stream",
          "text": [
            "13514\n",
            "11322\n",
            "11322\n"
          ],
          "name": "stdout"
        }
      ]
    },
    {
      "metadata": {
        "id": "qWSqb1dVxBmx",
        "colab_type": "code",
        "colab": {
          "base_uri": "https://localhost:8080/",
          "height": 226
        },
        "outputId": "1ae0a0c0-fa26-48ab-d71e-6f93129c504d"
      },
      "cell_type": "code",
      "source": [
        "#Calculate GDDs and KDDs for phases. Phase data should be in percent format so divide phase columns by 100\n",
        "\n",
        "phases = ['vegetative', 'early_grain', 'late_grain']\n",
        "\n",
        "for p in phases:\n",
        "  df[p] = df[p]/100\n",
        "\n",
        "for p in phases:\n",
        "  df['GDD_'+p] = df[p] * df['GDD']\n",
        "  \n",
        "for p in phases:\n",
        "  df['KDD_'+p] = df[p] *df['KDD']\n",
        "  \n",
        "df.tail()"
      ],
      "execution_count": 133,
      "outputs": [
        {
          "output_type": "execute_result",
          "data": {
            "text/html": [
              "<div>\n",
              "<style scoped>\n",
              "    .dataframe tbody tr th:only-of-type {\n",
              "        vertical-align: middle;\n",
              "    }\n",
              "\n",
              "    .dataframe tbody tr th {\n",
              "        vertical-align: top;\n",
              "    }\n",
              "\n",
              "    .dataframe thead th {\n",
              "        text-align: right;\n",
              "    }\n",
              "</style>\n",
              "<table border=\"1\" class=\"dataframe\">\n",
              "  <thead>\n",
              "    <tr style=\"text-align: right;\">\n",
              "      <th></th>\n",
              "      <th>vegetative</th>\n",
              "      <th>early_grain</th>\n",
              "      <th>late_grain</th>\n",
              "      <th>GDD</th>\n",
              "      <th>KDD</th>\n",
              "      <th>GDD_vegetative</th>\n",
              "      <th>GDD_early_grain</th>\n",
              "      <th>GDD_late_grain</th>\n",
              "      <th>KDD_vegetative</th>\n",
              "      <th>KDD_early_grain</th>\n",
              "      <th>KDD_late_grain</th>\n",
              "    </tr>\n",
              "  </thead>\n",
              "  <tbody>\n",
              "    <tr>\n",
              "      <th>2017-12-27</th>\n",
              "      <td>0.0</td>\n",
              "      <td>0.0</td>\n",
              "      <td>0.0</td>\n",
              "      <td>0.0</td>\n",
              "      <td>0.0</td>\n",
              "      <td>0.0</td>\n",
              "      <td>0.0</td>\n",
              "      <td>0.0</td>\n",
              "      <td>0.0</td>\n",
              "      <td>0.0</td>\n",
              "      <td>0.0</td>\n",
              "    </tr>\n",
              "    <tr>\n",
              "      <th>2017-12-28</th>\n",
              "      <td>0.0</td>\n",
              "      <td>0.0</td>\n",
              "      <td>0.0</td>\n",
              "      <td>0.0</td>\n",
              "      <td>0.0</td>\n",
              "      <td>0.0</td>\n",
              "      <td>0.0</td>\n",
              "      <td>0.0</td>\n",
              "      <td>0.0</td>\n",
              "      <td>0.0</td>\n",
              "      <td>0.0</td>\n",
              "    </tr>\n",
              "    <tr>\n",
              "      <th>2017-12-29</th>\n",
              "      <td>0.0</td>\n",
              "      <td>0.0</td>\n",
              "      <td>0.0</td>\n",
              "      <td>0.0</td>\n",
              "      <td>0.0</td>\n",
              "      <td>0.0</td>\n",
              "      <td>0.0</td>\n",
              "      <td>0.0</td>\n",
              "      <td>0.0</td>\n",
              "      <td>0.0</td>\n",
              "      <td>0.0</td>\n",
              "    </tr>\n",
              "    <tr>\n",
              "      <th>2017-12-30</th>\n",
              "      <td>0.0</td>\n",
              "      <td>0.0</td>\n",
              "      <td>0.0</td>\n",
              "      <td>0.0</td>\n",
              "      <td>0.0</td>\n",
              "      <td>0.0</td>\n",
              "      <td>0.0</td>\n",
              "      <td>0.0</td>\n",
              "      <td>0.0</td>\n",
              "      <td>0.0</td>\n",
              "      <td>0.0</td>\n",
              "    </tr>\n",
              "    <tr>\n",
              "      <th>2017-12-31</th>\n",
              "      <td>0.0</td>\n",
              "      <td>0.0</td>\n",
              "      <td>0.0</td>\n",
              "      <td>0.0</td>\n",
              "      <td>0.0</td>\n",
              "      <td>0.0</td>\n",
              "      <td>0.0</td>\n",
              "      <td>0.0</td>\n",
              "      <td>0.0</td>\n",
              "      <td>0.0</td>\n",
              "      <td>0.0</td>\n",
              "    </tr>\n",
              "  </tbody>\n",
              "</table>\n",
              "</div>"
            ],
            "text/plain": [
              "            vegetative  early_grain  late_grain  GDD  KDD  GDD_vegetative  \\\n",
              "2017-12-27         0.0          0.0         0.0  0.0  0.0             0.0   \n",
              "2017-12-28         0.0          0.0         0.0  0.0  0.0             0.0   \n",
              "2017-12-29         0.0          0.0         0.0  0.0  0.0             0.0   \n",
              "2017-12-30         0.0          0.0         0.0  0.0  0.0             0.0   \n",
              "2017-12-31         0.0          0.0         0.0  0.0  0.0             0.0   \n",
              "\n",
              "            GDD_early_grain  GDD_late_grain  KDD_vegetative  KDD_early_grain  \\\n",
              "2017-12-27              0.0             0.0             0.0              0.0   \n",
              "2017-12-28              0.0             0.0             0.0              0.0   \n",
              "2017-12-29              0.0             0.0             0.0              0.0   \n",
              "2017-12-30              0.0             0.0             0.0              0.0   \n",
              "2017-12-31              0.0             0.0             0.0              0.0   \n",
              "\n",
              "            KDD_late_grain  \n",
              "2017-12-27             0.0  \n",
              "2017-12-28             0.0  \n",
              "2017-12-29             0.0  \n",
              "2017-12-30             0.0  \n",
              "2017-12-31             0.0  "
            ]
          },
          "metadata": {
            "tags": []
          },
          "execution_count": 133
        }
      ]
    },
    {
      "metadata": {
        "id": "7DJ-MXet-UmQ",
        "colab_type": "code",
        "colab": {}
      },
      "cell_type": "code",
      "source": [
        "# #In model we will need average GDD and KDD for each phase\n",
        "\n",
        "# #Make empty dataframe with yearly index\n",
        "# test = pd.DataFrame(index = df.index.year.unique())    \n",
        "# test.reindex(index=test.index[::-1])\n",
        "\n",
        "# #Make dictionary to hold values of means\n",
        "# data = {k: [] for k in df.index.year.unique()}\n",
        "  \n",
        "for y in df.index.year.unique():\n",
        "#   data['a'] = df['GDD_vegetative'][(df.index.year == y)].mean()\n",
        "#   data['a'] = 5\n",
        "  break\n",
        "  \n"
      ],
      "execution_count": 0,
      "outputs": []
    },
    {
      "metadata": {
        "id": "kcUITw4VJjij",
        "colab_type": "code",
        "colab": {
          "base_uri": "https://localhost:8080/",
          "height": 56
        },
        "outputId": "a142ebe7-103e-4633-9135-da7616c8ab65"
      },
      "cell_type": "code",
      "source": [
        "#Makes a dictionary where key is year and value is mean GDD value for vegetaive phase\n",
        "data = {}\n",
        "\n",
        "for y in df.index.year.unique():\n",
        "  data[y] = df['GDD_vegetative'][(df.index.year == y)].mean()\n",
        "\n",
        "print(data)"
      ],
      "execution_count": 159,
      "outputs": [
        {
          "output_type": "stream",
          "text": [
            "{1981: 2.1083590998043054, 1982: 2.237646966731899, 1984: 2.255080405932865, 1985: 2.2010890410958894, 1987: 2.240381017612524, 1988: 2.4324599921935985, 1989: 2.2429001956947165, 1990: 2.246716438356164, 1991: 2.2244434442270054, 1992: 2.0891253903200626, 1993: 2.0546379647749498, 1994: 1.983344863013699, 1995: 1.9621945205479452, 1996: 2.129673692427791, 1997: 2.173863796477496, 2001: 1.9729194716242664, 2002: 2.000100750163079, 2003: 1.9442484670580553, 2004: 1.947963895394224, 2005: 2.020782583170254, 2006: 2.004901369863014, 2007: 1.9101868884540112, 2008: 2.0526795472287294, 2009: 1.9101334637964777, 2010: 2.152410371819961, 2011: 2.00591350293542, 2012: 1.9168688524590163, 2013: 2.0996971624266147, 2014: 2.008723287671231, 2015: 2.101664383561644, 2017: 2.0717019569471624}\n"
          ],
          "name": "stdout"
        }
      ]
    },
    {
      "metadata": {
        "id": "XG4mjena2Z3M",
        "colab_type": "code",
        "colab": {
          "base_uri": "https://localhost:8080/",
          "height": 241
        },
        "outputId": "3695cc4e-0e9c-45eb-98ac-ed62109b14bc"
      },
      "cell_type": "code",
      "source": [
        "#Upload the yield data. Filter to Mercer County in IL.\n",
        "df_yield = pd.read_csv('yield.csv')\n",
        "\n",
        "df_yield = df_yield[(df_yield['county'] == 'MERCER') & (df_yield['year'] >= 1981) & (df_yield['state_fips'] == 17)]\n",
        "\n",
        "print(df_yield.head())\n",
        "\n",
        "print(df_yield.tail())"
      ],
      "execution_count": 105,
      "outputs": [
        {
          "output_type": "stream",
          "text": [
            "     year  state_fips  county  county_code  yield\n",
            "185  2017          17  MERCER          131  238.7\n",
            "186  2016          17  MERCER          131  213.5\n",
            "187  2015          17  MERCER          131  205.7\n",
            "188  2014          17  MERCER          131  193.5\n",
            "189  2013          17  MERCER          131  177.1\n",
            "     year  state_fips  county  county_code  yield\n",
            "217  1985          17  MERCER          131  119.0\n",
            "218  1984          17  MERCER          131  118.0\n",
            "219  1983          17  MERCER          131   96.0\n",
            "220  1982          17  MERCER          131  124.0\n",
            "221  1981          17  MERCER          131  134.0\n"
          ],
          "name": "stdout"
        }
      ]
    }
  ]
}